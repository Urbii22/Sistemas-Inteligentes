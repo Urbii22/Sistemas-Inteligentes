{
 "cells": [
  {
   "cell_type": "markdown",
   "metadata": {},
   "source": [
    "<img style=\"float:left\" width=\"70%\" src=\"pics/escudo_COLOR_1L_DCHA.png\">\n",
    "<img style=\"float:right\" width=\"15%\" src=\"pics/PythonLogo.svg\">\n",
    "<br style=\"clear:both;\">\n",
    "\n",
    "\n",
    "# Juego del *2048*\n",
    "### Curso 2021-2022\n",
    "\n",
    "\n",
    "\n",
    "<h2 style=\"display: inline-block; padding: 4mm; padding-left: 2em; background-color: navy; line-height: 1.3em; color: white; border-radius: 10px;\">Descripción</h2>\n",
    "\n",
    "## Docentes\n",
    "\n",
    " - Pedro Latorre Carmona"
   ]
  },
  {
   "cell_type": "markdown",
   "metadata": {},
   "source": [
    "---\n",
    "El objetivo del juego es deslizar baldosas en una cuadrícula o tablero para combinarlas y crear una baldosa con el número 2048. Dicho tablero en el juego original tiene unas dimensiones de $4 \\times 4$, es decir, $16$ casillas para realizar la combinación de los diferentes elementos.\n",
    "\n",
    "Existen cuatro posibles movimientos: **arriba**, **abajo**, **izquierda**, y **derecha**. Si dos baldosas con el mismo número *colisionan* durante el movimiento, se combinarán en una nueva baldosa, cuyo número será el equivalente a la suma de los números de las dos baldosas originales. \n",
    "\n",
    "Sin embargo, la baldosa resultante no podrá combinarse con otra baldosa nuevamente en la misma jugada. De forma simultánea a la realización de una jugada, aparecerá una casilla nueva en un lugar vacío del tablero, elegido de forma aleatoria, la cual tendrá un $2$, o un $4$, en función de un determinado valor de probabilidad. Podemos fijarla, por ejemplo, en un $90\\%$ para el $2$, y un $10\\%$, para el $4$.\n",
    "\n",
    "El juego acaba en victoria cuando se logra tener la baldosa con el número $2048$ ( $=2^{11}$ ). Existen versiones de este juego con diferentes objetivos en las puntuaciones. De hecho, existe la posibilidad que, una vez se haya alcanzado el objetivo, se continúe el juego para así obtener mayores puntuaciones. Por ejemplo: $4096$ ( $=2^{12}$ ), $8192$ ( $=2^{13}$ ), etc. \n",
    "\n",
    "**IMPORTANTE**: Se considera que estamos ante una situación de finalización del juego, si se dan una de las dos condiciones siguientes:\n",
    "\n",
    "- Algunas de las casillas contiene el valor **2048** (podríamos considerarlo como **estado objetivo**).\n",
    "\n",
    "- No se pueden realizar movimientos adicionales, en el sentido que no queden lugares vacíos, y no se puedan sumar casillas adyacentes.\n",
    "\n",
    "---"
   ]
  },
  {
   "cell_type": "markdown",
   "metadata": {},
   "source": [
    "Id a la página web: https://juego2048.es/\n",
    "\n",
    "Con los botones de **arriba**, **abajo**, **izquierda**, y **derecha** del teclado, podéis ver cómo se desarrolla el juego. Fijaos que un movimiento hacia una dirección implica necesariamente que todas las bladosas se desplacen en esa dirección, cumpliendo las restricciones correspondientes."
   ]
  },
  {
   "cell_type": "markdown",
   "metadata": {},
   "source": [
    "### Una posible configuración del juego, en un cierto momento\n",
    "\n",
    "<img src=\"pics/Juego2048TableroPrimerasFases.png\">\n",
    "\n",
    "Podemos ver que hemos elegido una codificación del color del tablero, de tal forma que cuanto mayor es el número que aprece en la celda, más oscuro es dicho color."
   ]
  },
  {
   "cell_type": "markdown",
   "metadata": {},
   "source": [
    "Por otro lado, es necesario establecer una función de **utilidad**, que permita establecer un valor a los denominados *estados terminales*."
   ]
  },
  {
   "cell_type": "markdown",
   "metadata": {},
   "source": [
    "Vamos a describir a continuación, con un poco más de detenimiento, el conjunto de estado y los movimientos para el **2048**.\n",
    "\n",
    "- **Conjunto de estados**: Matriz de $4\\times4$ que contenga casillas cuyos números sean las potencias de 2, excluyendo el 0. En el estado inicial aparecen dos casillas, las cuales pueden contener los valores 2 o 4. Un estado será objetivo si alguna de las casillas contiene el número 2048.\n",
    "\n",
    "- **Movimientos**: En este juego los movimientos del *usuario* son distintos a los del *computador*. Los movimientos del usuario serán mover las casillas hacia arriba, derecha, abajo o izquierda. \n",
    "\n",
    "- Realizar un movimiento será posible siempre que al realizarlo se deslicen las casillas en el tablero o se combinen, de manera que *cambie* algo en el tablero. Por tanto, si realizar dicho movimiento no supone ningún cambio, ni se combinan celdas ni se deslizan, ese movimiento no debe poder realizarse.\n",
    "\n",
    "- En el caso del ordenador, el movimiento a realizar será introducir una casilla con valor $2$ o $4$ en un lugar vacío.\n",
    "\n",
    "Al avanzar en la primera práctica, limitaremos la profundidad de la búsqueda y determinaremos el valor de los nodos hoja (que en este caso pueden ser no terminales) mediante una función de evaluación **heurística** (veremos todo a su debido tiempo).\n"
   ]
  },
  {
   "cell_type": "markdown",
   "metadata": {},
   "source": [
    "## Una posible configuración inicial\n",
    "\n",
    "<img src=\"pics/Juego2048TableroFaseInicial.png\">\n",
    "\n",
    "Tenemos dos casillas ocupadas, únicamente. Podrían ser los números 2 o 4, en cualquiera de las dos."
   ]
  },
  {
   "cell_type": "markdown",
   "metadata": {},
   "source": [
    "A partir de aquí, podríamos hacer, por ejemplo, uno de los dos movimientos siguientes:\n",
    "\n",
    "<img src=\"pics/2048-PosiblesMovimientosAPartirDelPrimero.png\">"
   ]
  },
  {
   "cell_type": "markdown",
   "metadata": {},
   "source": [
    "Podemos ver que, a la vez que se ha producido el desplazamiento y combinación de casillas, se ha generado una nueva (con el número $2$ o $4$).\n",
    "\n",
    "Podemos considerar, por tanto, que de alguna forma en este juego, hay **DOS** jugadores: el **usuario**, y el **ordenador**. El segundo es el encargado de generar una casilla con $2$ o $4$ (con una determinada probabilidad de aparición) en un lugar aleatorio del tablero (cumpliendo con las restricciones).\n",
    "\n",
    "En la versión automática del juego, utilizaremos el algoritmo **MINIMAX**, con poda $\\alpha - \\beta$, para poder automatizar este tipo de situaciones, con dos contrincantes, en la que los *intereses* de uno, se contraponen a los del otro."
   ]
  },
  {
   "cell_type": "code",
   "execution_count": null,
   "metadata": {},
   "outputs": [],
   "source": []
  }
 ],
 "metadata": {
  "kernelspec": {
   "display_name": "Python 3",
   "language": "python",
   "name": "python3"
  },
  "language_info": {
   "codemirror_mode": {
    "name": "ipython",
    "version": 3
   },
   "file_extension": ".py",
   "mimetype": "text/x-python",
   "name": "python",
   "nbconvert_exporter": "python",
   "pygments_lexer": "ipython3",
   "version": "3.7.4"
  }
 },
 "nbformat": 4,
 "nbformat_minor": 2
}
