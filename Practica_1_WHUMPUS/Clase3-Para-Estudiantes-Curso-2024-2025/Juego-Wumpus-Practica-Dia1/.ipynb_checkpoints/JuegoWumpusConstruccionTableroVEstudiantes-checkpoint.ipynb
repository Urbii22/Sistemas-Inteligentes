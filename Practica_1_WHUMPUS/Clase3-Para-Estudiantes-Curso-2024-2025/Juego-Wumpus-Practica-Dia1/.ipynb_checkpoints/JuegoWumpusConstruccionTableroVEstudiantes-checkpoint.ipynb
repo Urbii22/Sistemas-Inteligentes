{
 "cells": [
  {
   "cell_type": "markdown",
   "metadata": {},
   "source": [
    "<img style=\"float:left\" width=\"70%\" src=\"pics/escudo_COLOR_1L_DCHA.png\">\n",
    "<img style=\"float:right\" width=\"15%\" src=\"pics/PythonLogo.svg\">\n",
    "<br style=\"clear:both;\">\n",
    "\n",
    "\n",
    "# Juego del *Wumpus*\n",
    "### Primera práctica de *Sistemas Inteligentes* (Curso 2024-2025)\n",
    "\n",
    "\n",
    "\n",
    "<h2 style=\"display: inline-block; padding: 4mm; padding-left: 2em; background-color: navy; line-height: 1.3em; color: white; border-radius: 10px;\">Construcción del tablero</h2>\n",
    "\n",
    "## Docentes\n",
    "\n",
    " - Pedro Latorre Carmona"
   ]
  },
  {
   "cell_type": "markdown",
   "metadata": {},
   "source": [
    "---\n",
    "Tal y como hemos comentado, el juego del **Wumpus** comprende un cierto tipo de **tablero**. Este tablero lo vamos a poder hacer de dos dimensiones diferentes:\n",
    "\n",
    "- $4\\times4$\n",
    "- $6\\times6$ \n",
    "\n",
    "El programa va a tener que tener la opción de elegir la dimensión del tablero.\n",
    "\n",
    "---"
   ]
  },
  {
   "cell_type": "markdown",
   "metadata": {},
   "source": [
    "En esta práctica, los objetivos a cubrir son:\n",
    "\n",
    "- **Objetivo 1**: Cargar un fichero de texto y mostrar por pantalla el contenido del mismo\n",
    "- **Objetivo 2**: Transformar el contenido cargado, en una lista de listas de números asociados a la propia codificación \n",
    "\n",
    "---"
   ]
  },
  {
   "cell_type": "markdown",
   "metadata": {},
   "source": [
    "Consideremos el mismo tablero que hemos *puesto* en el Notebook de presentación:\n",
    "\n",
    "<img src=\"pics/TableroJuego.png\">"
   ]
  },
  {
   "cell_type": "code",
   "execution_count": 40,
   "metadata": {},
   "outputs": [
    {
     "name": "stdout",
     "output_type": "stream",
     "text": [
      "[0, 0, 0, 0]\n"
     ]
    }
   ],
   "source": [
    "# Generamos una lista de dimensión 1x4, formada toda con un número constante. \n",
    "# En este caso, el número \"0\". \n",
    "\n",
    "import itertools\n",
    "\n",
    "listaVacia=list(itertools.repeat(0,4))\n",
    "print(listaVacia)"
   ]
  },
  {
   "cell_type": "code",
   "execution_count": 41,
   "metadata": {},
   "outputs": [
    {
     "data": {
      "text/plain": [
       "4"
      ]
     },
     "execution_count": 41,
     "metadata": {},
     "output_type": "execute_result"
    }
   ],
   "source": [
    "# Comprobamos la longitud de la lista\n",
    "\n",
    "len(listaVacia)"
   ]
  },
  {
   "cell_type": "code",
   "execution_count": 42,
   "metadata": {},
   "outputs": [],
   "source": [
    "# Cargamos un fichero que codifica un tablero como el indicado arriba.\n",
    "\n",
    "fileHandler = open (\"PrimerTableroWumpus.txt\", \"r\",encoding=\"utf-8\")\n",
    " \n",
    "listOfLines = fileHandler.readlines()\n",
    " \n",
    "# Cerramos el fichero \n",
    "fileHandler.close()"
   ]
  },
  {
   "cell_type": "code",
   "execution_count": 43,
   "metadata": {},
   "outputs": [
    {
     "name": "stdout",
     "output_type": "stream",
     "text": [
      "['BBBH\\n', 'WBHB\\n', 'BBBB\\n', 'ABBB']\n"
     ]
    }
   ],
   "source": [
    "# Fíjate lo que contiene \"listOfLines\"\n",
    "\n",
    "print(listOfLines)"
   ]
  },
  {
   "cell_type": "markdown",
   "metadata": {},
   "source": [
    "---\n",
    "Ve a la siguiente página web, para intentar entender lo que hace el método **.strip**\n",
    "\n",
    "https://www.w3schools.com/python/ref_string_strip.asp\n",
    "\n",
    "---"
   ]
  },
  {
   "cell_type": "code",
   "execution_count": 44,
   "metadata": {},
   "outputs": [
    {
     "name": "stdout",
     "output_type": "stream",
     "text": [
      "BBBH\n",
      "WBHB\n",
      "BBBB\n",
      "ABBB\n"
     ]
    }
   ],
   "source": [
    "for line in listOfLines:\n",
    "    a=line.strip()\n",
    "    print(a)"
   ]
  },
  {
   "cell_type": "markdown",
   "metadata": {},
   "source": [
    "A continuación, lo que haremos será *transformar* este fichero en una matriz de tamaño $8\\times6$, en la que todas las casillas que estén vacías, serán substituidas por $0$, mientras que las que tengan la letra **N**, sería substituida por el número $1$, y por el número $2$, si es la letra **R**."
   ]
  },
  {
   "cell_type": "code",
   "execution_count": 45,
   "metadata": {},
   "outputs": [],
   "source": [
    "# Generamos una función que, para cada carácter, devuelve el número correspondiente \n",
    "\n",
    "def getCodigoTablero(caracter):\n",
    "    '''\n",
    "    Devuelve el código de mapa asociado a los caracteres definidos.\n",
    "    '''    \n",
    "\n",
    "    # COMPLETA AQUÍ\n",
    "    if caracter == 'B' : return 1\n",
    "    if caracter == 'W' : return 2\n",
    "    if caracter == 'A' : return 3\n",
    "    if caracter == 'H' : return 3\n",
    "    else : return 0\n",
    "        \n",
    "        "
   ]
  },
  {
   "cell_type": "code",
   "execution_count": 46,
   "metadata": {},
   "outputs": [],
   "source": [
    "# Generamos un tablero que directamente codifique los números asociados.\n",
    "\n",
    "mapa = []\n",
    "\n",
    "nFila=0\n",
    "\n",
    "ancho=len(listaVacia)\n",
    "\n",
    "for linea in listOfLines:\n",
    "    fila = list(itertools.repeat(0, ancho))\n",
    "    \n",
    "    nCol = 0\n",
    "    for ch in linea:\n",
    "        if ch == '\\n' :\n",
    "            break\n",
    "        \n",
    "        codigo = getCodigoTablero(ch)\n",
    "        fila[nCol] = codigo\n",
    "        \n",
    "        nCol += 1\n",
    "        \n",
    "    mapa.append (fila)\n",
    "    nFila+=1\n",
    "        \n",
    "        \n",
    "        \n",
    "        "
   ]
  },
  {
   "cell_type": "code",
   "execution_count": 47,
   "metadata": {
    "scrolled": true
   },
   "outputs": [
    {
     "name": "stdout",
     "output_type": "stream",
     "text": [
      "El mapa, codificado numéricamente, es: [[1, 1, 1, 3], [2, 1, 3, 1], [1, 1, 1, 1], [3, 1, 1, 1]]\n"
     ]
    }
   ],
   "source": [
    "print(\"El mapa, codificado numéricamente, es:\", mapa)"
   ]
  },
  {
   "cell_type": "markdown",
   "metadata": {},
   "source": [
    "---\n",
    "A continuación, vamos a crear una matriz de valores constantes, de un cierto número de filas y columnas. Suponemos que la matriz no la leemos de un fichero de texto.\n",
    "\n",
    "---"
   ]
  },
  {
   "cell_type": "code",
   "execution_count": 48,
   "metadata": {},
   "outputs": [],
   "source": [
    "def creaMatrizDato(n,m, dato):\n",
    "    '''\n",
    "    n: Número de filas de la matriz\n",
    "    m: Número de columnas de la matriz\n",
    "    dato: Valor que se quiere poner en TODOS los lugares de la matriz\n",
    "    '''\n",
    "\n",
    "    \n",
    "    # COMPLETA AQUÍ\n",
    "    \n",
    "    \n",
    "    \n",
    "    return matriz"
   ]
  },
  {
   "cell_type": "code",
   "execution_count": 49,
   "metadata": {},
   "outputs": [
    {
     "ename": "NameError",
     "evalue": "name 'matriz' is not defined",
     "output_type": "error",
     "traceback": [
      "\u001b[1;31m---------------------------------------------------------------------------\u001b[0m",
      "\u001b[1;31mNameError\u001b[0m                                 Traceback (most recent call last)",
      "Cell \u001b[1;32mIn[49], line 1\u001b[0m\n\u001b[1;32m----> 1\u001b[0m matriz\u001b[38;5;241m=\u001b[39mcreaMatrizDato(\u001b[38;5;241m8\u001b[39m,\u001b[38;5;241m8\u001b[39m,\u001b[38;5;241m5\u001b[39m)\n",
      "Cell \u001b[1;32mIn[48], line 13\u001b[0m, in \u001b[0;36mcreaMatrizDato\u001b[1;34m(n, m, dato)\u001b[0m\n\u001b[0;32m      2\u001b[0m \u001b[38;5;250m\u001b[39m\u001b[38;5;124;03m'''\u001b[39;00m\n\u001b[0;32m      3\u001b[0m \u001b[38;5;124;03mn: Número de filas de la matriz\u001b[39;00m\n\u001b[0;32m      4\u001b[0m \u001b[38;5;124;03mm: Número de columnas de la matriz\u001b[39;00m\n\u001b[0;32m      5\u001b[0m \u001b[38;5;124;03mdato: Valor que se quiere poner en TODOS los lugares de la matriz\u001b[39;00m\n\u001b[0;32m      6\u001b[0m \u001b[38;5;124;03m'''\u001b[39;00m\n\u001b[0;32m      9\u001b[0m \u001b[38;5;66;03m# COMPLETA AQUÍ\u001b[39;00m\n\u001b[1;32m---> 13\u001b[0m \u001b[38;5;28;01mreturn\u001b[39;00m matriz\n",
      "\u001b[1;31mNameError\u001b[0m: name 'matriz' is not defined"
     ]
    }
   ],
   "source": [
    "matriz=creaMatrizDato(8,8,5)"
   ]
  },
  {
   "cell_type": "code",
   "execution_count": null,
   "metadata": {},
   "outputs": [],
   "source": [
    "print(\"Matriz:\", matriz)"
   ]
  },
  {
   "cell_type": "code",
   "execution_count": null,
   "metadata": {},
   "outputs": [],
   "source": [
    "# Ahora, generamos una lista con los posibles valores de los índices aleatorios, lo que permitirá seleccionar aleatoriamente\n",
    "# la posición de la fila y la columna de la matriz.\n",
    "\n",
    "# La idea con la lista formada por los \"items\" 0, 1, 2 y 3 es que elija de forma aleatoria uno de ellos, para cada uno de los\n",
    "# índices (fila, columna) de la matriz.\n",
    "\n",
    "import random\n",
    "\n",
    "listaMia=['0', '1', '2', '3']\n",
    "\n",
    "primero=random.choice(listaMia)\n",
    "segundo=random.choice(listaMia)\n",
    "\n",
    "print(\"La fila aleatoria elegida es:\",primero)\n",
    "print(\"La columna aleatoria elegida es:\",segundo)\n",
    "\n",
    "print(\"La matriz entera es:\", matriz)\n",
    "print(\"El elemento de la matriz concreto elegido es:\", matriz[int(primero)][int(segundo)])"
   ]
  },
  {
   "cell_type": "code",
   "execution_count": null,
   "metadata": {},
   "outputs": [],
   "source": [
    "#Podemos cambiar el valor de un elemento de la matriz, directamente, de la siguiente forma:\n",
    "\n",
    "matriz[1][2]=3"
   ]
  },
  {
   "cell_type": "code",
   "execution_count": null,
   "metadata": {},
   "outputs": [],
   "source": [
    "print(\"Matriz:\", matriz)"
   ]
  }
 ],
 "metadata": {
  "kernelspec": {
   "display_name": "Python 3 (ipykernel)",
   "language": "python",
   "name": "python3"
  },
  "language_info": {
   "codemirror_mode": {
    "name": "ipython",
    "version": 3
   },
   "file_extension": ".py",
   "mimetype": "text/x-python",
   "name": "python",
   "nbconvert_exporter": "python",
   "pygments_lexer": "ipython3",
   "version": "3.11.4"
  }
 },
 "nbformat": 4,
 "nbformat_minor": 2
}
