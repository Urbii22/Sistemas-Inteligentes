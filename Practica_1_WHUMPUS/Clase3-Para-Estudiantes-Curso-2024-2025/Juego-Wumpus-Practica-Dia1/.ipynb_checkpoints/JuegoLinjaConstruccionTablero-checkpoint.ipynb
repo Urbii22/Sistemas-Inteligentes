{
 "cells": [
  {
   "cell_type": "markdown",
   "metadata": {},
   "source": [
    "<img style=\"float:left\" width=\"70%\" src=\"pics/escudo_COLOR_1L_DCHA.png\">\n",
    "<img style=\"float:right\" width=\"15%\" src=\"pics/PythonLogo.svg\">\n",
    "<br style=\"clear:both;\">\n",
    "\n",
    "\n",
    "# Juego de *Linja*\n",
    "### Primera práctica de *Sistemas Inteligentes* (Curso 2023-2024)\n",
    "\n",
    "\n",
    "\n",
    "<h2 style=\"display: inline-block; padding: 4mm; padding-left: 2em; background-color: navy; line-height: 1.3em; color: white; border-radius: 10px;\">Construcción del tablero</h2>\n",
    "\n",
    "## Docentes\n",
    "\n",
    " - Pedro Latorre Carmona"
   ]
  },
  {
   "cell_type": "markdown",
   "metadata": {},
   "source": [
    "---\n",
    "Tal y como hemos comentado, el juego de **Linja** comprende un cierto tipo de **tablero**, en el que podemos considerar que tenemos un conjunto de casillas consecutivas que están delimitadas por *cañas de bambú*.\n",
    "\n",
    "Aunque no es un tablero clásico, en el sentido de tener **casillas**, sí puede entenderse que tenemos posiciones $(i,j)$ que definen dónde se encuentran y/o van las fichas.\n",
    "\n",
    "---"
   ]
  },
  {
   "cell_type": "markdown",
   "metadata": {},
   "source": [
    "En esta práctica, los objetivos a cubrir son:\n",
    "\n",
    "- **Objetivo 1**: Cargar un fichero de texto y mostrar por pantalla el contenido del mismo\n",
    "- **Objetivo 2**: Transformar el contenido cargado, en una lista de listas de números asociados a la propia codificación "
   ]
  },
  {
   "cell_type": "code",
   "execution_count": 1,
   "metadata": {},
   "outputs": [
    {
     "name": "stdout",
     "output_type": "stream",
     "text": [
      "[0, 0, 0, 0, 0, 0]\n"
     ]
    }
   ],
   "source": [
    "# Generamos una lista de dimensión 1x4, formada toda con un número constante. \n",
    "# En este caso, el número \"0\". \n",
    "\n",
    "import itertools\n",
    "\n",
    "listaVacia=list(itertools.repeat(0,6))\n",
    "print(listaVacia)"
   ]
  },
  {
   "cell_type": "code",
   "execution_count": 2,
   "metadata": {},
   "outputs": [
    {
     "data": {
      "text/plain": [
       "6"
      ]
     },
     "execution_count": 2,
     "metadata": {},
     "output_type": "execute_result"
    }
   ],
   "source": [
    "# Comprobamos la longitud de la lista\n",
    "\n",
    "len(listaVacia)"
   ]
  },
  {
   "cell_type": "code",
   "execution_count": 3,
   "metadata": {},
   "outputs": [],
   "source": [
    "# Cargamos un fichero que codifica un tablero como el indicado arriba.\n",
    "\n",
    "fileHandler = open (\"PrimerTableroLinja.txt\", \"r\",encoding=\"utf-8\")\n",
    " \n",
    "listOfLines = fileHandler.readlines()\n",
    " \n",
    "# Cerramos el fichero \n",
    "fileHandler.close()"
   ]
  },
  {
   "cell_type": "code",
   "execution_count": 4,
   "metadata": {},
   "outputs": [
    {
     "name": "stdout",
     "output_type": "stream",
     "text": [
      "['NNNNNN\\n', 'NVVVVR\\n', 'NVVVVR\\n', 'NVVVVR\\n', 'NVVVVR\\n', 'NVVVVR\\n', 'NVVVVR\\n', 'RRRRRR\\n']\n"
     ]
    }
   ],
   "source": [
    "# Fíjate lo que contiene \"listOfLines\"\n",
    "\n",
    "print(listOfLines)"
   ]
  },
  {
   "cell_type": "markdown",
   "metadata": {},
   "source": [
    "---\n",
    "Ve a la siguiente página web, para intentar entender lo que hace el método **.strip**\n",
    "\n",
    "https://www.w3schools.com/python/ref_string_strip.asp\n",
    "\n",
    "---"
   ]
  },
  {
   "cell_type": "code",
   "execution_count": 5,
   "metadata": {},
   "outputs": [
    {
     "name": "stdout",
     "output_type": "stream",
     "text": [
      "NNNNNN\n",
      "NVVVVR\n",
      "NVVVVR\n",
      "NVVVVR\n",
      "NVVVVR\n",
      "NVVVVR\n",
      "NVVVVR\n",
      "RRRRRR\n"
     ]
    }
   ],
   "source": [
    "for line in listOfLines:\n",
    "    a=line.strip()\n",
    "    print(a)"
   ]
  },
  {
   "cell_type": "markdown",
   "metadata": {},
   "source": [
    "A continuación, lo que haremos será *transformar* este fichero en una matriz de tamaño $8\\times6$, en la que todas las casillas que estén vacías, serán substituidas por $0$, mientras que las que tengan la letra **N**, sería substituida por el número $1$, y por el número $2$, si es la letra **R**."
   ]
  },
  {
   "cell_type": "code",
   "execution_count": 6,
   "metadata": {},
   "outputs": [],
   "source": [
    "# Generamos una función que, para cada carácter, devuelve el número correspondiente \n",
    "\n",
    "def getCodigoTablero(caracter):\n",
    "    '''\n",
    "    Devuelve el código de mapa asociado a los caracteres definidos.\n",
    "    '''    \n",
    "    \n",
    "    # COMPLETA AQUÍ"
   ]
  },
  {
   "cell_type": "code",
   "execution_count": 7,
   "metadata": {},
   "outputs": [],
   "source": [
    "# Generamos un tablero que directamente codifique los números asociados.\n",
    "\n",
    "mapa = []\n",
    "\n",
    "nFila=0\n",
    "\n",
    "ancho=len(listaVacia)\n",
    "\n",
    "for linea in listOfLines:\n",
    "        \n",
    "\n",
    "        # COMPLETA AQUÍ"
   ]
  },
  {
   "cell_type": "code",
   "execution_count": 8,
   "metadata": {},
   "outputs": [
    {
     "name": "stdout",
     "output_type": "stream",
     "text": [
      "El mapa, codificado numéricamente, es: [[1, 1, 1, 1, 1, 1], [1, 0, 0, 0, 0, 2], [1, 0, 0, 0, 0, 2], [1, 0, 0, 0, 0, 2], [1, 0, 0, 0, 0, 2], [1, 0, 0, 0, 0, 2], [1, 0, 0, 0, 0, 2], [2, 2, 2, 2, 2, 2]]\n"
     ]
    }
   ],
   "source": [
    "print(\"El mapa, codificado numéricamente, es:\", mapa)"
   ]
  },
  {
   "cell_type": "markdown",
   "metadata": {},
   "source": [
    "---\n",
    "Para cubrir los objetivos 3 y 4, vamos a crear una matriz de valores constantes, de un cierto número de filas y columnas. Suponemos que la matriz no la leemos de un fichero de texto.\n",
    "\n",
    "---"
   ]
  },
  {
   "cell_type": "code",
   "execution_count": 9,
   "metadata": {},
   "outputs": [],
   "source": [
    "def creaMatrizDato(n,m, dato):\n",
    "    '''\n",
    "    n: Número de filas de la matriz\n",
    "    m: Número de columnas de la matriz\n",
    "    dato: Valor que se quiere poner en TODOS los lugares de la matriz\n",
    "    '''\n",
    "\n",
    "    matriz = []\n",
    "    for i in range(n):\n",
    "    \n",
    "        a = [dato]*m\n",
    "        matriz.append(a)\n",
    "    \n",
    "    return matriz"
   ]
  },
  {
   "cell_type": "code",
   "execution_count": 10,
   "metadata": {},
   "outputs": [],
   "source": [
    "matriz=creaMatrizDato(8,8,5)"
   ]
  },
  {
   "cell_type": "code",
   "execution_count": 11,
   "metadata": {},
   "outputs": [
    {
     "name": "stdout",
     "output_type": "stream",
     "text": [
      "Matriz: [[5, 5, 5, 5, 5, 5, 5, 5], [5, 5, 5, 5, 5, 5, 5, 5], [5, 5, 5, 5, 5, 5, 5, 5], [5, 5, 5, 5, 5, 5, 5, 5], [5, 5, 5, 5, 5, 5, 5, 5], [5, 5, 5, 5, 5, 5, 5, 5], [5, 5, 5, 5, 5, 5, 5, 5], [5, 5, 5, 5, 5, 5, 5, 5]]\n"
     ]
    }
   ],
   "source": [
    "print(\"Matriz:\", matriz)"
   ]
  },
  {
   "cell_type": "code",
   "execution_count": 12,
   "metadata": {},
   "outputs": [
    {
     "name": "stdout",
     "output_type": "stream",
     "text": [
      "La fila aleatoria elegida es: 3\n",
      "La columna aleatoria elegida es: 2\n",
      "La matriz entera es: [[5, 5, 5, 5, 5, 5, 5, 5], [5, 5, 5, 5, 5, 5, 5, 5], [5, 5, 5, 5, 5, 5, 5, 5], [5, 5, 5, 5, 5, 5, 5, 5], [5, 5, 5, 5, 5, 5, 5, 5], [5, 5, 5, 5, 5, 5, 5, 5], [5, 5, 5, 5, 5, 5, 5, 5], [5, 5, 5, 5, 5, 5, 5, 5]]\n",
      "El elemento de la matriz concreto elegido es: 5\n"
     ]
    }
   ],
   "source": [
    "# Ahora, generamos una lista con los posibles valores de los índices aleatorios, lo que permitirá seleccionar aleatoriamente\n",
    "# la posición de la fila y la columna de la matriz.\n",
    "\n",
    "# La idea con la lista formada por los \"items\" 0, 1, 2 y 3 es que elija de forma aleatoria uno de ellos, para cada uno de los\n",
    "# índices (fila, columna) de la matriz.\n",
    "\n",
    "import random\n",
    "\n",
    "listaMia=['0', '1', '2', '3']\n",
    "\n",
    "primero=random.choice(listaMia)\n",
    "segundo=random.choice(listaMia)\n",
    "\n",
    "print(\"La fila aleatoria elegida es:\",primero)\n",
    "print(\"La columna aleatoria elegida es:\",segundo)\n",
    "\n",
    "print(\"La matriz entera es:\", matriz)\n",
    "print(\"El elemento de la matriz concreto elegido es:\", matriz[int(primero)][int(segundo)])"
   ]
  },
  {
   "cell_type": "code",
   "execution_count": 13,
   "metadata": {},
   "outputs": [],
   "source": [
    "#Podemos cambiar el valor de un elemento de la matriz, directamente, de la siguiente forma:\n",
    "\n",
    "matriz[1][2]=3"
   ]
  },
  {
   "cell_type": "code",
   "execution_count": 14,
   "metadata": {},
   "outputs": [
    {
     "name": "stdout",
     "output_type": "stream",
     "text": [
      "Matriz: [[5, 5, 5, 5, 5, 5, 5, 5], [5, 5, 3, 5, 5, 5, 5, 5], [5, 5, 5, 5, 5, 5, 5, 5], [5, 5, 5, 5, 5, 5, 5, 5], [5, 5, 5, 5, 5, 5, 5, 5], [5, 5, 5, 5, 5, 5, 5, 5], [5, 5, 5, 5, 5, 5, 5, 5], [5, 5, 5, 5, 5, 5, 5, 5]]\n"
     ]
    }
   ],
   "source": [
    "print(\"Matriz:\", matriz)"
   ]
  }
 ],
 "metadata": {
  "kernelspec": {
   "display_name": "Python 3 (ipykernel)",
   "language": "python",
   "name": "python3"
  },
  "language_info": {
   "codemirror_mode": {
    "name": "ipython",
    "version": 3
   },
   "file_extension": ".py",
   "mimetype": "text/x-python",
   "name": "python",
   "nbconvert_exporter": "python",
   "pygments_lexer": "ipython3",
   "version": "3.9.7"
  }
 },
 "nbformat": 4,
 "nbformat_minor": 2
}
