{
 "cells": [
  {
   "cell_type": "markdown",
   "metadata": {},
   "source": [
    "<img style=\"float:left\" width=\"70%\" src=\"pics/escudo_COLOR_1L_DCHA.png\">\n",
    "<img style=\"float:right\" width=\"15%\" src=\"pics/PythonLogo.svg\">\n",
    "<br style=\"clear:both;\">\n",
    "\n",
    "\n",
    "# Juego del *Wumpus*\n",
    "### Curso 2024-2025\n",
    "\n",
    "\n",
    "\n",
    "<h2 style=\"display: inline-block; padding: 4mm; padding-left: 2em; background-color: navy; line-height: 1.3em; color: white; border-radius: 10px;\">Descripción</h2>\n",
    "\n",
    "## Docentes\n",
    "\n",
    " - Pedro Latorre Carmona"
   ]
  },
  {
   "cell_type": "markdown",
   "metadata": {},
   "source": [
    "---\n",
    "\n",
    "# Introducción\n",
    "\n",
    "\n",
    "**Wumpus**  es un juego en el que hay un tablero de unas determinadas dimensiones (lo normal es que sea de tamaño $4\\times4$) donde se distribuye una serie de elementos:\n",
    "\n",
    "- Agente principal \n",
    "- Malvado (llamado **Wumpus**, como el nombre del juego)\n",
    "- Oro\n",
    "- Hoyos\n",
    "\n",
    "El objetivo del agente principal es encontrar el oro, sin que le mate el personaje mañvado, y sin caer en ninguno de los $N$ hoyos.\n",
    "\n",
    "En su disposición inicial, el tablero es el siguiente:\n",
    "\n",
    "<img src=\"pics/TableroJuego.png\">\n",
    "\n",
    "En principio, se puede elegir:\n",
    "\n",
    "- El número de filas y columnas del tablero, y\n",
    "\n",
    "- El número de casillas ocupadas por **hoyos**.\n",
    "\n",
    "En principio, también, la posición del **wumpus** y de los hoyos, es aleatoria.\n",
    "\n",
    "Ahora bien, **wumpus** y **hueco NO pueden** estar en casillas contiguas."
   ]
  },
  {
   "cell_type": "markdown",
   "metadata": {},
   "source": [
    "## Particularidades\n",
    "\n",
    "El propósito principal del juego es que el *agente* encuentre el oro. Las características principales del juego son:\n",
    "\n",
    "1. El *agente* siempre empieza en la casilla $M\\times1$, donde $M$ corresponde al número total de filas. \n",
    "\n",
    "\n",
    "2. La flecha indica la dirección de movimiento. Si interesa cambiar de dirección, el agente puede girar, en el sentido contrario a las agujas del reloj.\n",
    "\n",
    "\n",
    "3. La flecha puede matar al **Wumpus**. Se puede usar 1 sola vez.  \n",
    "\n",
    "\n",
    "4. El malvado (**Wumpus**) puede matar al agente. Si el **Wumpus** mata al *agente*, **SE ACABA EL JUEGO**.\n",
    "\n",
    "\n",
    "5. Podemos establecer la posición del Wumpus porque en las casillas potenciales por encima, debajo, izquierda y derecha del wumpus, se establece una etiqueta correspondiente a **mal olor**.\n",
    "\n",
    "\n",
    "6. Podemos saber si hay un *hoyo* o no, ya que en el caso de los hoyos, se atribyen etiquetas en las casillas de arriba, abajo, izquierda y derecha, correspondientes a **brisa**.\n",
    "\n",
    "\n",
    "7. En el caso no haya casillas en alguna(s) de las posiciones en vecindad de cruz alrededor de la casilla, se entenderá que es aplicable en el resto de casos (es decir, si no hay casilla en alguna posición, se aplicará para las que se pueda).\n",
    "\n",
    "\n",
    "8. La posición del **wumpus** y de los hoyos, es aleatoria (ha de poder ponerse la opción de que sea aleatoria).\n",
    "\n",
    "\n",
    "9. **Wumpus** y **hueco NO pueden** estar en casillas contiguas.\n",
    "\n",
    "\n",
    "10. El \"oro\" y una casilla que tenga la propiedad del *hedor*, pueden *coincidir* (tal y como aparece en el dibujo de más arriba)."
   ]
  },
  {
   "cell_type": "code",
   "execution_count": null,
   "metadata": {},
   "outputs": [],
   "source": []
  }
 ],
 "metadata": {
  "kernelspec": {
   "display_name": "Python 3 (ipykernel)",
   "language": "python",
   "name": "python3"
  },
  "language_info": {
   "codemirror_mode": {
    "name": "ipython",
    "version": 3
   },
   "file_extension": ".py",
   "mimetype": "text/x-python",
   "name": "python",
   "nbconvert_exporter": "python",
   "pygments_lexer": "ipython3",
   "version": "3.11.4"
  }
 },
 "nbformat": 4,
 "nbformat_minor": 2
}
