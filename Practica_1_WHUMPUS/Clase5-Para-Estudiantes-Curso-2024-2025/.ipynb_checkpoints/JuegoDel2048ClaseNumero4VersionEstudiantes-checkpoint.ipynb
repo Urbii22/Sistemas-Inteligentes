{
 "cells": [
  {
   "cell_type": "markdown",
   "metadata": {},
   "source": [
    "<img style=\"float:left\" width=\"70%\" src=\"pics/escudo_COLOR_1L_DCHA.png\">\n",
    "<img style=\"float:right\" width=\"15%\" src=\"pics/PythonLogo.svg\">\n",
    "<br style=\"clear:both;\">\n",
    "\n",
    "\n",
    "# Juego del *2048*\n",
    "### *Sistemas Inteligentes* (Curso 2021-2022)\n",
    "\n",
    "\n",
    "\n",
    "<h2 style=\"display: inline-block; padding: 4mm; padding-left: 2em; background-color: navy; line-height: 1.3em; color: white; border-radius: 10px;\">Hacia la versión \"manual\" del juego</h2>\n",
    "\n",
    "## Docentes\n",
    "\n",
    " - Pedro Latorre Carmona"
   ]
  },
  {
   "cell_type": "markdown",
   "metadata": {},
   "source": [
    "---\n",
    "El objetivo del juego es deslizar baldosas en una cuadrícula o tablero para combinarlas y crear una baldosa con el número **2048**. Dicho tablero, en el juego original, tiene unas dimensiones de $4 \\times 4$, es decir, $16$ casillas para realizar la combinación de los diferentes elementos.\n",
    "\n",
    "Existen cuatro posibles movimientos: **arriba**, **abajo**, **izquierda**, y **derecha**. Si dos baldosas con el mismo número *colisionan* durante el movimiento, se combinarán en una nueva baldosa, cuyo número será el equivalente a la suma de los números de las dos baldosas originales. \n",
    "\n",
    "A la vez que se produce un movimiento en cualquiera de las cuatro direcciones, una nueva casilla ha de ser *ocupada* por los números $2$ o $4$.\n",
    "\n",
    "---"
   ]
  },
  {
   "cell_type": "markdown",
   "metadata": {},
   "source": [
    "En esta práctica, vamos a definir una **clase**, con inicializador y métodos, que nos permitirá poder hacer las opraciones fundamentales del juego."
   ]
  },
  {
   "cell_type": "code",
   "execution_count": 1,
   "metadata": {},
   "outputs": [],
   "source": [
    "def creaMatrizDato(n,m, dato):\n",
    "    '''\n",
    "    n: Número de filas de la matriz\n",
    "    m: Número de columnas de la matriz\n",
    "    dato: Valor que se quiere poner en TODOS los lugares de la matriz\n",
    "    '''\n",
    "\n",
    "    matriz = []\n",
    "    for i in range(n):\n",
    "    \n",
    "        a = [dato]*m\n",
    "        matriz.append(a)\n",
    "    \n",
    "    return matriz"
   ]
  },
  {
   "cell_type": "code",
   "execution_count": 2,
   "metadata": {},
   "outputs": [],
   "source": [
    "matriz=creaMatrizDato(4,4,0)"
   ]
  },
  {
   "cell_type": "code",
   "execution_count": 3,
   "metadata": {},
   "outputs": [
    {
     "name": "stdout",
     "output_type": "stream",
     "text": [
      "Matriz original: [[0, 0, 0, 0], [0, 0, 0, 0], [0, 0, 0, 0], [0, 0, 0, 0]]\n"
     ]
    }
   ],
   "source": [
    "print(\"Matriz original:\", matriz)"
   ]
  },
  {
   "cell_type": "code",
   "execution_count": 4,
   "metadata": {},
   "outputs": [
    {
     "name": "stdout",
     "output_type": "stream",
     "text": [
      "La fila aleatoria elegida es: 1\n",
      "La columna aleatoria elegida es: 2\n",
      "La matriz entera es: [[0, 0, 0, 0], [0, 0, 0, 0], [0, 0, 0, 0], [0, 0, 0, 0]]\n",
      "El elemento de la matriz concreto elegido es: 0\n",
      "La segunda fila aleatoria elegida es: 2\n",
      "La segunda columna aleatoria elegida es: 0\n"
     ]
    }
   ],
   "source": [
    "# Ahora, generamos una lista con los posibles valores de los índices aleatorios, lo que permitirá seleccionar aleatoriamente\n",
    "# la posición de la fila y la columna de la matriz.\n",
    "\n",
    "# La idea con la lista formada por los \"items\" 0, 1, 2 y 3 es que elija de forma aleatoria uno de ellos, para cada uno de los\n",
    "# índices (fila, columna) de la matriz.\n",
    "\n",
    "import random\n",
    "\n",
    "listaMia=['0', '1', '2', '3']\n",
    "\n",
    "fila1=random.choice(listaMia)\n",
    "columna1=random.choice(listaMia)\n",
    "\n",
    "print(\"La fila aleatoria elegida es:\",fila1)\n",
    "print(\"La columna aleatoria elegida es:\",columna1)\n",
    "\n",
    "print(\"La matriz entera es:\", matriz)\n",
    "print(\"El elemento de la matriz concreto elegido es:\", matriz[int(fila1)][int(columna1)])\n",
    "\n",
    "fila2=random.choice(listaMia)\n",
    "columna2=random.choice(listaMia)\n",
    "\n",
    "print(\"La segunda fila aleatoria elegida es:\",fila2)\n",
    "print(\"La segunda columna aleatoria elegida es:\",columna2)"
   ]
  },
  {
   "cell_type": "code",
   "execution_count": 5,
   "metadata": {},
   "outputs": [],
   "source": [
    "matriz[int(fila1)][int(columna1)]=2\n",
    "matriz[int(fila2)][int(columna2)]=2"
   ]
  },
  {
   "cell_type": "code",
   "execution_count": 6,
   "metadata": {},
   "outputs": [
    {
     "name": "stdout",
     "output_type": "stream",
     "text": [
      "Matriz después de poner dos elementos aleatorios a 2: [[0, 0, 0, 0], [0, 0, 2, 0], [2, 0, 0, 0], [0, 0, 0, 0]]\n"
     ]
    }
   ],
   "source": [
    "print(\"Matriz después de poner dos elementos aleatorios a 2:\", matriz)"
   ]
  },
  {
   "cell_type": "markdown",
   "metadata": {},
   "source": [
    "## Generación de la clase *Rejilla*, que permite operar con el estado del juego"
   ]
  },
  {
   "cell_type": "code",
   "execution_count": 7,
   "metadata": {},
   "outputs": [],
   "source": [
    "from copy import deepcopy\n",
    "from typing import Tuple, List\n",
    "from selenium import webdriver\n",
    "from selenium.webdriver.common.keys import Keys\n",
    "from sys import maxsize as MAX_INT\n",
    "import time"
   ]
  },
  {
   "cell_type": "markdown",
   "metadata": {},
   "source": [
    "## Definición de la *Clase*\n",
    "\n",
    "Creamos una clase *Rejilla* (o el nombre que se considere), el cual va a tener todo el conjunto de propiedades y métodos necesarios para poder trabajar.\n",
    "\n",
    "En concreto, va a tener:\n",
    "\n",
    "- Un *inicializador* que va a ser la matriz (lista de listas), que, de hecho, es la representación del *estado* del juego.\n",
    "\n",
    "- Un comparador de **igualdad** que nos va a decir si dos estados son iguales\n",
    "\n",
    "- Una **copia profunda** del estado, de tal forma que no tengamos *malas pasadas* con las jugadas\n",
    "\n",
    "- Una función de utilidad, que va a ser una heurística que nos permitirá establecer *cómo de bueno* es un estado.\n",
    "\n",
    "- Un método que nos va a poder decir si podemos hacer movimientos **arriba**, **abajo**, **izquierda**, y **derecha**.\n",
    "\n",
    "- Un método que nos va a decir si un estado es **terminal**.\n",
    "\n",
    "- Un método que nos va a decir si el juego ha terminado (aka, **Game Over**).\n",
    "\n",
    "- Un método que nos va a actualizar el estado del juego después de un movimiento **arriba**, **abajo**, **izquierda** y **derecha**."
   ]
  },
  {
   "cell_type": "markdown",
   "metadata": {},
   "source": [
    "---\n",
    "Lo primero que hemos de tener en cuenta es cómo queremos representar el estado concreto del juego en un momento determinado. Lo haremos generando una representación matricial de la *foto congelada* de la disposición de números en el tablero. Algo así como:\n",
    "\n",
    "<img width=\"80%\" src=\"pics/SelfMatrix.png\">\n",
    "\n",
    "---"
   ]
  },
  {
   "cell_type": "markdown",
   "metadata": {},
   "source": [
    "El siguiente método a definir sería el que permite colocar *baldosas* en los huecos, es decir, rellenar el tablero con números. Tendremos que decirle qué posición queremos cambiar y qué número va a ocupar dicha posición."
   ]
  },
  {
   "cell_type": "markdown",
   "metadata": {},
   "source": [
    "### Introducción de la primera función heurística.\n",
    "\n",
    "Vamos a crear un método que nos va a permitir evaluar cómo de buena es la distribución de números en nuestro tablero. Para ello hemos de tener en cuenta las dos siguientes características:\n",
    "\n",
    "- Cuanto más altos sean los valors en cada posición del tablero, mejor indicación del *buen camino* será\n",
    "\n",
    "- Cuanto más huecos tengamos, mejor.\n",
    "\n",
    "Por tanto, una posibilidad sería definir:\n",
    "\n",
    "$U = \\frac{T}{N_{h}}$\n",
    "\n",
    "donde:\n",
    "\n",
    "- $T=\\sum_{i}\\sum_{j}M_{ij}$\n",
    "- $N_h$ sería el número de huecos\n",
    "- $M_{ij}$: Posición correspondiente de la matriz.\n",
    "\n",
    "**<span style=\"color:red\">IMPORTANTE</span>**: Una de las tareas a la que os podréis dedicar para aumentar el valor de vuestra nota de la práctica será plantear y programar otras funciones de utilidad que consideréis pueden ser mejores de cara a este juego."
   ]
  },
  {
   "cell_type": "markdown",
   "metadata": {},
   "source": [
    "---\n",
    "Hemos de definir un método que nos permita saber si nos podemos mover **arriba**, **abajo**, a **izquierda** y a **derecha**. Para ellos, podemos considerar una función que, para el caso del movimiento **arriba** (en los otros casos, sería completamente equivalente), haga:\n",
    "\n",
    "<img width=\"70%\" src=\"pics/CanMoveUp.jpeg\">"
   ]
  },
  {
   "cell_type": "markdown",
   "metadata": {},
   "source": [
    "---\n",
    "Esta función debería devolver **True** o **False**, dependiendo de si es posible hacer algún tipo de movimiento hacia **arriba**. \n",
    "\n",
    "Evidentemente, no es necesario considerar todas las columnas. Tan pronto encontremos alguna columna que permita que algo cambie en el movimiento hacia arriba, devuelve **True**. Si no existe *esa columna*, devolverá **False** al final del proceso.\n",
    "\n",
    "---"
   ]
  },
  {
   "cell_type": "markdown",
   "metadata": {},
   "source": [
    "¿Qué podemos hacer a continuación?\n",
    "\n",
    "Para cada columna, empezamos en la parte baja y nos movemos hacia arriba hasta que se encuentra un elemento $>0$. A partir de aquí, ¿cómo podemos saber si un movimiento **arriba** cambia algo en esta columna?\n",
    "\n",
    "Dos cosas pueden producir un cambio:\n",
    "\n",
    "- Existe un espacio en blanco donde una *baldosa* se puede mover.\n",
    "- Existen dos baldosas adyacentes, que son iguales.\n",
    "---"
   ]
  },
  {
   "cell_type": "markdown",
   "metadata": {},
   "source": [
    "Una vez se tiene esta función, se repite la misma para el movimiento **abajo**, **izquierda** y **derecha**.\n",
    "\n",
    "---"
   ]
  },
  {
   "cell_type": "markdown",
   "metadata": {},
   "source": [
    "## Últimos ejercicios para esta sesión\n",
    "\n",
    "### Ejercicio 1\n",
    "\n",
    "Necesitamos un método que devuelva los movimientos disponibles, pensando ya en la estrategia de resolución automática del juego.\n",
    "\n",
    "Tal y como hemos comentado, el algoritmo que usaremos será el **MINIMAX**. En **MINIMAX** consideramos que tenemos dos jugadores, el usuario y el ordenador.\n",
    "\n",
    "- Movimientos para el jugador (**<span style=\"color:red\">MAX</span>**):\n",
    "\n",
    "Podrán ser **arriba**, **abajo**, **izquierda** y **derecha**. Lo que haremos será representar estos movimientos como números enteros, de tal forma que: \n",
    "\n",
    "1. Arriba $= 0$\n",
    "2. Abajo $= 1$\n",
    "3. Izquierda $= 2$\n",
    "4. Derecha $= 3$\n",
    "\n",
    "En el método asociado, si el resultado de poder hacer un movimiento es positivo, se añadirá el entero correspondiente a una lista que se devolverá al final de la ejecución del método.\n",
    "\n",
    "En el caso de **MIN**, la idea sería devolver una lista de tuplas de la forma (fila, columna, baldosa), donde las dos primeras coordenadas serían las de las celdas vacías, y la *baldosa*, uno de los dos valores $\\left\\lbrace2,4\\right\\rbrace$.\n",
    "\n",
    "### Ejercicio 2\n",
    "\n",
    "Vamos a definir otros dos métodos que:\n",
    "\n",
    "- Me diga si un estado del juego es *terminal*. Un estado del juego es *terminal* cuando ni el jugador **MAX** ni el jugador **MIN** pueden hacer movimientos, o bien, cuando el jugador **MAX** ha alcanzado en alguna casilla el número $2048$.\n",
    "\n",
    "- Me diga si el juego ha terminado. Terminará si el estado para el jugador **MAX** es *terminal* (valga la frase)."
   ]
  },
  {
   "cell_type": "code",
   "execution_count": 8,
   "metadata": {},
   "outputs": [],
   "source": [
    "class Rejilla:\n",
    "    \n",
    "    def __init__(self, matrix):\n",
    "        self.setMatrix(matrix)\n",
    "    \n",
    "    def __eq__(self, other) -> bool:\n",
    "        \n",
    "   ## A COMPLETAR\n",
    "    \n",
    "    def setMatrix(self, matrix):\n",
    "        self.matrix = deepcopy(matrix)\n",
    "    \n",
    "    def getMatrix(self) -> List[List]:\n",
    "        return deepcopy(self.matrix)\n",
    "    \n",
    "    def placeTile(self, row: int, col: int, tile: int):\n",
    "       \n",
    "   ## A COMPLETAR\n",
    "    \n",
    "    def utility(self) -> int:\n",
    "        \n",
    "        \n",
    "    ## A COMPLETAR     \n",
    "    \n",
    "    def canMoveUp(self) -> bool:\n",
    "        \n",
    "    ## A COMPLETAR\n",
    "\n",
    "    def canMoveDown(self) -> bool:\n",
    "    \n",
    "    ## A COMPLETAR\n",
    "\n",
    "    def canMoveLeft(self) -> bool:\n",
    "    \n",
    "    ## A COMPLETAR\n",
    "\n",
    "    def canMoveRight(self) -> bool:\n",
    "    \n",
    "    ## A COMPLETAR\n",
    "    \n",
    "    def getAvailableMovesForMax(self) -> List[int]:\n",
    "   \n",
    "    ## A COMPLETAR\n",
    "    \n",
    "    def getAvailableMovesForMin(self) -> List[Tuple[int]]:\n",
    "    \n",
    "    ## A COMPLETAR\n",
    "    \n",
    "    def isTerminal(self, who: str) -> bool:\n",
    "   \n",
    "    ## A COMPLETAR\n",
    "    \n",
    "    def isGameOver(self) -> bool:\n",
    "        \n",
    "     ## A COMPLETAR\n",
    "       "
   ]
  }
 ],
 "metadata": {
  "kernelspec": {
   "display_name": "Python 3",
   "language": "python",
   "name": "python3"
  },
  "language_info": {
   "codemirror_mode": {
    "name": "ipython",
    "version": 3
   },
   "file_extension": ".py",
   "mimetype": "text/x-python",
   "name": "python",
   "nbconvert_exporter": "python",
   "pygments_lexer": "ipython3",
   "version": "3.7.4"
  }
 },
 "nbformat": 4,
 "nbformat_minor": 2
}
