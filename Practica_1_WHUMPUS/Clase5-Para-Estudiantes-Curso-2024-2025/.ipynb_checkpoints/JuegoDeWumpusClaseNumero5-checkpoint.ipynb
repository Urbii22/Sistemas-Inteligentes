{
 "cells": [
  {
   "cell_type": "markdown",
   "metadata": {},
   "source": [
    "<img style=\"float:left\" width=\"70%\" src=\"pics/escudo_COLOR_1L_DCHA.png\">\n",
    "<img style=\"float:right\" width=\"15%\" src=\"pics/PythonLogo.svg\">\n",
    "<br style=\"clear:both;\">\n",
    "\n",
    "\n",
    "# *Wumpus*\n",
    "### *Sistemas Inteligentes* (Curso 2024-2025)\n",
    "#### Clase semana 5\n",
    "\n",
    "\n",
    "<h2 style=\"display: inline-block; padding: 4mm; padding-left: 2em; background-color: navy; line-height: 1.3em; color: white; border-radius: 10px;\">Hacia la versión \"manual\" del juego - II</h2>\n",
    "\n",
    "## Docentes\n",
    "\n",
    " - Pedro Latorre Carmona"
   ]
  },
  {
   "cell_type": "markdown",
   "metadata": {},
   "source": [
    "---\n",
    "Los objetivos de la clase de esta semana van a ser (idealmente) los siguientes:\n",
    "\n",
    "1. Colocar de forma aleatoria, en un tablero de $6\\times6$:\n",
    "\n",
    "    - Dos casillas, con **huecos**, \n",
    "    - El **wumpus**,\n",
    "    - El **oro**\n",
    "\n",
    "\n",
    "2. Restringir la distancia del **oro** al **agente**, de tal forma que no pueda estar uno al lado del otro.\n",
    "\n",
    "\n",
    "3. Generar los vecinos en las posiciones: $(i-1,j)$, $(i+1,j)$, $(i,j-1)$, $(i,j+1)$ correspondientes, que tengan sentido, a partir de la disposición de las casillas en el apartado anterior.\n",
    "\n",
    "\n",
    "4. Crear una función de mérito que no solamente tenga en cuenta la cercanía a la casilla de **oro**, sino a las casillas de **hedor**, o **brisa**.\n",
    "\n",
    "\n",
    "5. **OPCIONAL**: Crear una función que impida el movimiento diagonal entre casillas."
   ]
  },
  {
   "cell_type": "code",
   "execution_count": 1,
   "metadata": {},
   "outputs": [],
   "source": [
    "from copy import deepcopy\n",
    "from typing import Tuple, List"
   ]
  },
  {
   "cell_type": "code",
   "execution_count": 2,
   "metadata": {},
   "outputs": [],
   "source": [
    "class Tablerowumpus:\n",
    "    \n",
    "    def __init__(self, matrix):\n",
    "        self.setMatrix(matrix)\n",
    "    \n",
    "    \n",
    "    def __eq__(self, other) -> bool:\n",
    "        \n",
    "        for i in range(8):\n",
    "            for j in range(8):\n",
    "                if self.matrix[i][j] != other.matrix[i][j]:\n",
    "                    return False\n",
    "        return True\n",
    "    \n",
    "    \n",
    "    def setMatrix(self, matrix):\n",
    "        self.matrix = deepcopy(matrix)\n",
    "    \n",
    "    \n",
    "    def getMatrix(self) -> List[List]:\n",
    "        return deepcopy(self.matrix)\n",
    "    \n",
    "    \n",
    "    def placeTile(self, row: int, col: int, tile: int):\n",
    "        self.matrix[row-1][col-1] = tile\n",
    "    \n",
    "    \n",
    "    def utility(self) -> float:\n",
    "\n",
    "        for i in range(8):\n",
    "            for j in range(8):\n",
    "                if self.matrix[i][j] == 1:\n",
    "                    \n",
    "                    posAgente=[i,j]\n",
    "                    \n",
    "                elif self.matrix[i][j] == 2:\n",
    "                    \n",
    "                    posWumpus=[i,j]\n",
    "                    \n",
    "                    \n",
    "        return ((posAgente[0]-posWumpus[0])**2+(posAgente[1]-posWumpus[1])**2)**0.5\n",
    "        "
   ]
  },
  {
   "cell_type": "code",
   "execution_count": null,
   "metadata": {},
   "outputs": [],
   "source": []
  }
 ],
 "metadata": {
  "kernelspec": {
   "display_name": "Python 3",
   "language": "python",
   "name": "python3"
  },
  "language_info": {
   "codemirror_mode": {
    "name": "ipython",
    "version": 3
   },
   "file_extension": ".py",
   "mimetype": "text/x-python",
   "name": "python",
   "nbconvert_exporter": "python",
   "pygments_lexer": "ipython3",
   "version": "3.8.8"
  }
 },
 "nbformat": 4,
 "nbformat_minor": 4
}
