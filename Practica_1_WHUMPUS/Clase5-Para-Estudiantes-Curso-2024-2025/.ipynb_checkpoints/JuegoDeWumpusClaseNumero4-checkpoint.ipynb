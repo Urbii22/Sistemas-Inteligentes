{
 "cells": [
  {
   "cell_type": "markdown",
   "metadata": {},
   "source": [
    "<img style=\"float:left\" width=\"70%\" src=\"pics/escudo_COLOR_1L_DCHA.png\">\n",
    "<img style=\"float:right\" width=\"15%\" src=\"pics/PythonLogo.svg\">\n",
    "<br style=\"clear:both;\">\n",
    "\n",
    "\n",
    "# *Wumpus*\n",
    "### *Sistemas Inteligentes* (Curso 2023-2024)\n",
    "\n",
    "\n",
    "\n",
    "<h2 style=\"display: inline-block; padding: 4mm; padding-left: 2em; background-color: navy; line-height: 1.3em; color: white; border-radius: 10px;\">Hacia la versión \"manual\" del juego</h2>\n",
    "\n",
    "## Docentes\n",
    "\n",
    " - Pedro Latorre Carmona"
   ]
  },
  {
   "cell_type": "markdown",
   "metadata": {},
   "source": [
    "---\n",
    "Tal y como se ha comentado, **Wumpus** es un juego para un solo jugador, en el que el movimiento del mismo debe venir establecido por las condiciones asociadas a las diferentes casillas del tablero.\n",
    "\n",
    "Hemos de tener en cuenta que, por ejemplo, si tenemos un agujero en la casilla $(i,j)$, se le ha de asignar automáticamente una casilla de **Brisa** a las posiciones $(i-1,j)$, $(i+1,j)$, $(i,j-1)$, y $(i,j+1)$.\n",
    "\n",
    "Lo mismo ocurre en el caso de tener el **Wumpus** en una determinada posición $(k,l)$. i. e., quedarían determinadas las posiciones $(k-1,l)$, $(k+1,l)$, $(k,l-1)$, y $(k,l+1)$.\n",
    "\n",
    "Es decir, estamos hablando de la siguiente disposición:\n",
    "\n",
    "<img src=\"DisposicionCruz.png\">"
   ]
  },
  {
   "cell_type": "markdown",
   "metadata": {},
   "source": [
    "## Creación de la clase\n",
    "\n",
    "Vamos a crear una priemra clase con un conjunto mínimo de elementos, que sea viable para trabajar con él."
   ]
  },
  {
   "cell_type": "code",
   "execution_count": 1,
   "metadata": {},
   "outputs": [],
   "source": [
    "from copy import deepcopy\n",
    "from typing import Tuple, List"
   ]
  },
  {
   "cell_type": "code",
   "execution_count": 2,
   "metadata": {},
   "outputs": [],
   "source": [
    "class Tablerowumpus:\n",
    "    \n",
    "    def __init__(self, matrix):\n",
    "        self.setMatrix(matrix)\n",
    "    \n",
    "    \n",
    "    def __eq__(self, other) -> bool:\n",
    "        \n",
    "        for i in range(8):\n",
    "            for j in range(8):\n",
    "                if self.matrix[i][j] != other.matrix[i][j]:\n",
    "                    return False\n",
    "        return True\n",
    "    \n",
    "    \n",
    "    def setMatrix(self, matrix):\n",
    "        self.matrix = deepcopy(matrix)\n",
    "    \n",
    "    \n",
    "    def getMatrix(self) -> List[List]:\n",
    "        return deepcopy(self.matrix)\n",
    "    \n",
    "    \n",
    "    def placeTile(self, row: int, col: int, tile: int):\n",
    "        self.matrix[row-1][col-1] = tile\n",
    "    \n",
    "    \n",
    "    def utility(self) -> float:\n",
    "\n",
    "        for i in range(8):\n",
    "            for j in range(8):\n",
    "                if self.matrix[i][j] == 1:\n",
    "                    \n",
    "                    posAgente=[i,j]\n",
    "                    \n",
    "                elif self.matrix[i][j] == 2:\n",
    "                    \n",
    "                    posWumpus=[i,j]\n",
    "                    \n",
    "                    \n",
    "        return ((posAgente[0]-posWumpus[0])**2+(posAgente[1]-posWumpus[1])**2)**0.5\n",
    "  \n",
    "    \n",
    "\n",
    "    \n",
    "    \n",
    "  #  def identificaVecinos(self):\n",
    "  #    Va a determinar los vecinos de las \"fichas de interés\"\n",
    "        "
   ]
  },
  {
   "cell_type": "code",
   "execution_count": 3,
   "metadata": {},
   "outputs": [],
   "source": [
    "matrix=[[0,0,0,0,0,1,0,0],[0,0,0,0,0,0,0,0],[0,0,0,0,0,0,0,0],[0,0,0,2,0,0,0,0],[0,0,0,0,0,0,0,0],[0,0,0,0,0,0,0,0],[0,0,0,0,0,0,0,0],[0,0,0,0,0,0,0,0]]"
   ]
  },
  {
   "cell_type": "code",
   "execution_count": 4,
   "metadata": {},
   "outputs": [],
   "source": [
    "matrixB=matrix[:]"
   ]
  },
  {
   "cell_type": "code",
   "execution_count": 5,
   "metadata": {},
   "outputs": [],
   "source": [
    "tabl=Tablerowumpus(matrix)"
   ]
  },
  {
   "cell_type": "code",
   "execution_count": 6,
   "metadata": {},
   "outputs": [
    {
     "name": "stdout",
     "output_type": "stream",
     "text": [
      "[[0, 0, 0, 0, 0, 1, 0, 0], [0, 0, 0, 0, 0, 0, 0, 0], [0, 0, 0, 0, 0, 0, 0, 0], [0, 0, 0, 2, 0, 0, 0, 0], [0, 0, 0, 0, 0, 0, 0, 0], [0, 0, 0, 0, 0, 0, 0, 0], [0, 0, 0, 0, 0, 0, 0, 0], [0, 0, 0, 0, 0, 0, 0, 0]]\n"
     ]
    }
   ],
   "source": [
    "print(tabl.matrix)"
   ]
  },
  {
   "cell_type": "code",
   "execution_count": 7,
   "metadata": {},
   "outputs": [],
   "source": [
    "tabl.placeTile(3,3,3)"
   ]
  },
  {
   "cell_type": "code",
   "execution_count": 8,
   "metadata": {},
   "outputs": [
    {
     "name": "stdout",
     "output_type": "stream",
     "text": [
      "[[0, 0, 0, 0, 0, 1, 0, 0], [0, 0, 0, 0, 0, 0, 0, 0], [0, 0, 3, 0, 0, 0, 0, 0], [0, 0, 0, 2, 0, 0, 0, 0], [0, 0, 0, 0, 0, 0, 0, 0], [0, 0, 0, 0, 0, 0, 0, 0], [0, 0, 0, 0, 0, 0, 0, 0], [0, 0, 0, 0, 0, 0, 0, 0]]\n"
     ]
    }
   ],
   "source": [
    "print(tabl.matrix)"
   ]
  },
  {
   "cell_type": "code",
   "execution_count": 9,
   "metadata": {},
   "outputs": [
    {
     "name": "stdout",
     "output_type": "stream",
     "text": [
      "[[0, 0, 0, 0, 0, 1, 0, 0], [0, 0, 0, 0, 0, 0, 0, 0], [0, 0, 0, 0, 0, 0, 0, 0], [0, 0, 0, 2, 0, 0, 0, 0], [0, 0, 0, 0, 0, 0, 0, 0], [0, 0, 0, 0, 0, 0, 0, 0], [0, 0, 0, 0, 0, 0, 0, 0], [0, 0, 0, 0, 0, 0, 0, 0]]\n"
     ]
    }
   ],
   "source": [
    "tablB=Tablerowumpus(matrixB)\n",
    "print(tablB.matrix)"
   ]
  },
  {
   "cell_type": "code",
   "execution_count": 10,
   "metadata": {},
   "outputs": [
    {
     "name": "stdout",
     "output_type": "stream",
     "text": [
      "False\n"
     ]
    }
   ],
   "source": [
    "print(tabl==tablB)"
   ]
  },
  {
   "cell_type": "code",
   "execution_count": 11,
   "metadata": {},
   "outputs": [],
   "source": [
    "tablB.placeTile(3,3,3)"
   ]
  },
  {
   "cell_type": "code",
   "execution_count": 12,
   "metadata": {},
   "outputs": [
    {
     "name": "stdout",
     "output_type": "stream",
     "text": [
      "True\n"
     ]
    }
   ],
   "source": [
    "print(tabl==tablB)"
   ]
  },
  {
   "cell_type": "code",
   "execution_count": 15,
   "metadata": {},
   "outputs": [
    {
     "name": "stdout",
     "output_type": "stream",
     "text": [
      "3.605551275463989\n"
     ]
    }
   ],
   "source": [
    "print(tablB.utility())"
   ]
  },
  {
   "cell_type": "code",
   "execution_count": null,
   "metadata": {},
   "outputs": [],
   "source": []
  }
 ],
 "metadata": {
  "kernelspec": {
   "display_name": "Python 3 (ipykernel)",
   "language": "python",
   "name": "python3"
  },
  "language_info": {
   "codemirror_mode": {
    "name": "ipython",
    "version": 3
   },
   "file_extension": ".py",
   "mimetype": "text/x-python",
   "name": "python",
   "nbconvert_exporter": "python",
   "pygments_lexer": "ipython3",
   "version": "3.9.12"
  }
 },
 "nbformat": 4,
 "nbformat_minor": 4
}
