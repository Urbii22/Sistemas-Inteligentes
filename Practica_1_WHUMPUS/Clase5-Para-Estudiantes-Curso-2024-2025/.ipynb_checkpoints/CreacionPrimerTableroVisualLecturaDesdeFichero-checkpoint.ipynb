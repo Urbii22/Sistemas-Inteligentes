{
 "cells": [
  {
   "cell_type": "markdown",
   "metadata": {},
   "source": [
    "<img style=\"float:left\" width=\"70%\" src=\"pics/escudo_COLOR_1L_DCHA.png\">\n",
    "<img style=\"float:right\" width=\"15%\" src=\"pics/PythonLogo.svg\">\n",
    "<br style=\"clear:both;\">\n",
    "\n",
    "\n",
    "# Juego del *2048*\n",
    "### *Sistemas Inteligentes* (Curso 2021-2022)\n",
    "\n",
    "\n",
    "\n",
    "<h2 style=\"display: inline-block; padding: 4mm; padding-left: 2em; background-color: navy; line-height: 1.3em; color: white; border-radius: 10px;\">Una propuesta muy sencilla de \"tablero visual\"</h2>\n",
    "\n",
    "## Docentes\n",
    "\n",
    " - Pedro Latorre Carmona"
   ]
  },
  {
   "cell_type": "markdown",
   "metadata": {},
   "source": [
    "---\n",
    "Vamos a hacer un tablero visual lo más sencillo posible, creando un fichero de texto que va a tener la configuración del tablero, y donde vamos a tener un conjunto de letras, que van a reprsentar todos los números posibles:\n",
    "\n",
    "    0 --> A\n",
    "    2 --> B\n",
    "    4 --> C\n",
    "    8 --> D\n",
    "    16 --> E\n",
    "    32 --> F\n",
    "    64 --> G\n",
    "    128 --> H\n",
    "    256 --> I\n",
    "    512 --> J\n",
    "    1024 --> K\n",
    "    2048 --> L\n",
    "\n",
    "---"
   ]
  },
  {
   "cell_type": "code",
   "execution_count": 1,
   "metadata": {},
   "outputs": [],
   "source": [
    "#tablero = [[1024,256,0,0],\n",
    "#         [0,256,0,0],\n",
    "#         [0,0,512,32],\n",
    "#         [0,0,0,0]]"
   ]
  },
  {
   "cell_type": "code",
   "execution_count": 2,
   "metadata": {},
   "outputs": [
    {
     "name": "stdout",
     "output_type": "stream",
     "text": [
      "[0, 0, 0, 0]\n"
     ]
    }
   ],
   "source": [
    "import itertools\n",
    "\n",
    "listaVacia=list(itertools.repeat(0,4))\n",
    "print(listaVacia)"
   ]
  },
  {
   "cell_type": "code",
   "execution_count": 3,
   "metadata": {},
   "outputs": [
    {
     "data": {
      "text/plain": [
       "4"
      ]
     },
     "execution_count": 3,
     "metadata": {},
     "output_type": "execute_result"
    }
   ],
   "source": [
    "len(listaVacia)"
   ]
  },
  {
   "cell_type": "code",
   "execution_count": 4,
   "metadata": {},
   "outputs": [],
   "source": [
    "# Cargamos un fichero que codifica un tablero como el indicado arriba.\n",
    "\n",
    "fileHandler = open (\"PrimerTableroEquivalenciaANumeros.txt\", \"r\",encoding=\"utf-8\")\n",
    " \n",
    "# Get list of all lines in file\n",
    "listOfLines = fileHandler.readlines()\n",
    " \n",
    "# Close file \n",
    "fileHandler.close()"
   ]
  },
  {
   "cell_type": "code",
   "execution_count": 5,
   "metadata": {},
   "outputs": [
    {
     "name": "stdout",
     "output_type": "stream",
     "text": [
      "['LAAA\\n', 'DEDA\\n', 'HAAA\\n', 'AAAA']\n"
     ]
    }
   ],
   "source": [
    "print(listOfLines)"
   ]
  },
  {
   "cell_type": "code",
   "execution_count": 6,
   "metadata": {},
   "outputs": [
    {
     "name": "stdout",
     "output_type": "stream",
     "text": [
      "LAAA\n",
      "DEDA\n",
      "HAAA\n",
      "AAAA\n"
     ]
    }
   ],
   "source": [
    "for line in listOfLines:\n",
    "    a=line.strip()\n",
    "    print(a)"
   ]
  },
  {
   "cell_type": "code",
   "execution_count": 7,
   "metadata": {},
   "outputs": [],
   "source": [
    "def getCodigoTablero(caracter):\n",
    "    '''\n",
    "    Devuelve el código de mapa asociado a los caracteres definidos.\n",
    "    '''    \n",
    "    codigo = 0\n",
    "    if caracter == 'A':\n",
    "        codigo = 0\n",
    "    if caracter == 'B':\n",
    "        codigo = 2        \n",
    "    elif caracter == 'C':\n",
    "        codigo = 4\n",
    "    elif caracter == 'D':\n",
    "        codigo = 8\n",
    "    elif caracter == 'E':\n",
    "        codigo = 16\n",
    "    elif caracter == 'F':\n",
    "        codigo = 32\n",
    "    elif caracter == 'G':\n",
    "        codigo = 64\n",
    "    elif caracter == 'H':\n",
    "        codigo = 128\n",
    "    elif caracter == 'I':\n",
    "        codigo = 256\n",
    "    elif caracter == 'J':\n",
    "        codigo = 512\n",
    "    elif caracter == 'K':\n",
    "        codigo = 1024\n",
    "    elif caracter == 'L':\n",
    "        codigo = 2048\n",
    "        \n",
    "    return codigo"
   ]
  },
  {
   "cell_type": "code",
   "execution_count": 8,
   "metadata": {},
   "outputs": [],
   "source": [
    "# Generamos un tablero que directamente codifique los números asociados.\n",
    "\n",
    "tablero = []\n",
    "nFila=0\n",
    "\n",
    "ancho=len(listaVacia)\n",
    "\n",
    "for linea in listOfLines:\n",
    "        \n",
    "        fila = list(itertools.repeat(0, ancho))\n",
    "\n",
    "        nCol = 0\n",
    "        for ch in linea:\n",
    "            if ch =='\\n':\n",
    "                break\n",
    "\n",
    "            codigo = getCodigoTablero(ch)\n",
    "            fila[nCol] = codigo                \n",
    "\n",
    "            nCol+=1\n",
    "\n",
    "        tablero.append(fila)\n",
    "        nFila+=1"
   ]
  },
  {
   "cell_type": "code",
   "execution_count": 9,
   "metadata": {},
   "outputs": [
    {
     "name": "stdout",
     "output_type": "stream",
     "text": [
      "[[2048, 0, 0, 0], [8, 16, 8, 0], [128, 0, 0, 0], [0, 0, 0, 0]]\n"
     ]
    }
   ],
   "source": [
    "print(tablero)"
   ]
  },
  {
   "cell_type": "code",
   "execution_count": 10,
   "metadata": {},
   "outputs": [
    {
     "name": "stdout",
     "output_type": "stream",
     "text": [
      "2048\n"
     ]
    }
   ],
   "source": [
    "print(tablero[0][0])"
   ]
  },
  {
   "cell_type": "code",
   "execution_count": 11,
   "metadata": {},
   "outputs": [],
   "source": [
    "def get_content(coord):\n",
    "    \"\"\"\n",
    "    Obtiene el contenido de una determinada posición.\n",
    "    \n",
    "    Parameters\n",
    "    ----------\n",
    "    coord : Posición [y,x] de la que queremos conocer el contenido\n",
    "    \n",
    "    Returns\n",
    "    --------\n",
    "    contenido : Una lista de tamaño 1 .\n",
    "    \"\"\"\n",
    "    contenido = [None]\n",
    "    \n",
    "    if tablero[coord[0]][coord[1]] == 0:\n",
    "        contenido[0] = \"cero\"\n",
    "    elif tablero[coord[0]][coord[1]] == 2:\n",
    "        contenido[0] = \"dos\"\n",
    "    elif tablero[coord[0]][coord[1]] == 4:\n",
    "        contenido[0] = \"cuatro\"\n",
    "    elif tablero[coord[0]][coord[1]] == 8:\n",
    "        contenido[0] = \"ocho\"\n",
    "    elif tablero[coord[0]][coord[1]] == 16:\n",
    "        contenido[0] = \"dieciseis\"\n",
    "    elif tablero[coord[0]][coord[1]] == 32:\n",
    "        contenido[0] = \"trentaydos\"\n",
    "    elif tablero[coord[0]][coord[1]] == 64:\n",
    "        contenido[0] = \"sesentaycuatro\"\n",
    "    elif tablero[coord[0]][coord[1]] == 128:\n",
    "        contenido[0] = \"cientoventiocho\"\n",
    "    elif tablero[coord[0]][coord[1]] == 256:\n",
    "        contenido[0] = \"doscientoscincuentayseis\"\n",
    "    elif tablero[coord[0]][coord[1]] == 512:\n",
    "        contenido[0] = \"quinientosdoce\"\n",
    "    elif tablero[coord[0]][coord[1]] == 1024:\n",
    "        contenido[0] = \"milventicuatro\"\n",
    "    elif tablero[coord[0]][coord[1]] == 2048:\n",
    "        contenido[0] = \"dosmilcuarentayocho\"               \n",
    "    \n",
    "    return contenido"
   ]
  },
  {
   "cell_type": "code",
   "execution_count": 12,
   "metadata": {},
   "outputs": [
    {
     "name": "stdout",
     "output_type": "stream",
     "text": [
      "./ImagenesNumerosTablero/Numero2.png\n"
     ]
    }
   ],
   "source": [
    "element_image = {\n",
    "    \"cero\": \"./ImagenesNumerosTablero/Numero0.png\",\n",
    "    \"dos\": \"./ImagenesNumerosTablero/Numero2.png\",\n",
    "    \"cuatro\": \"./ImagenesNumerosTablero/Numero4.png\",\n",
    "    \"ocho\": \"./ImagenesNumerosTablero/Numero8.png\",\n",
    "    \"dieciseis\": \"./ImagenesNumerosTablero/Numero16.png\",\n",
    "    \"trentaydos\": \"./ImagenesNumerosTablero/Numero32.png\",\n",
    "    \"sesentaycuatro\": \"./ImagenesNumerosTablero/Numero64.png\",\n",
    "    \"cientoventiocho\": \"./ImagenesNumerosTablero/Numero128.png\",\n",
    "    \"doscientoscincuentayseis\": \"./ImagenesNumerosTablero/Numero256.png\",\n",
    "    \"quinientosdoce\": \"./ImagenesNumerosTablero/Numero512.png\",\n",
    "    \"milventicuatro\": \"./ImagenesNumerosTablero/Numero1024.png\",\n",
    "    \"dosmilcuarentayocho\": \"./ImagenesNumerosTablero/Numero2048.png\"\n",
    "}\n",
    "\n",
    "print(element_image[\"dos\"])"
   ]
  },
  {
   "cell_type": "code",
   "execution_count": 13,
   "metadata": {},
   "outputs": [
    {
     "data": {
      "application/vnd.jupyter.widget-view+json": {
       "model_id": "348eb24c593c49efba2e3674fee75771",
       "version_major": 2,
       "version_minor": 0
      },
      "text/plain": [
       "HTML(value='<style> img.game {width: 37px !important; height: 22px !important;}</style><table><tr><td><img cla…"
      ]
     },
     "metadata": {},
     "output_type": "display_data"
    }
   ],
   "source": [
    "from IPython.display import display\n",
    "from ipywidgets import HTML\n",
    "\n",
    "\n",
    "def get_html():\n",
    "    \"\"\" Muestra una representación gráfica del juego.\n",
    "\n",
    "    Devuelve un \"string\" que contiene HTML\n",
    "\n",
    "    \"\"\" \n",
    "    \n",
    "    \n",
    "    height = len(tablero)\n",
    "    width = len(tablero[0])\n",
    "    \n",
    "    html_string = \"<style> img.game {width: 37px !important; height: 22px !important;}</style><table>\"\n",
    "    \n",
    "\n",
    "\n",
    "    new_row = \"<tr>\"\n",
    "    end_row = \"</tr>\"\n",
    "    \n",
    "    for i in range(height):\n",
    "        html_string+=new_row\n",
    "        for j in range(width):\n",
    "            \n",
    "            content = get_content((i,j))\n",
    "            drawing = element_image[content[0]]\n",
    "            \n",
    "            html = '<td><img class=\"game\" src=%s alt=\"\"></img></td>' % drawing     \n",
    "            \n",
    "            \n",
    "            html_string+=html\n",
    "        html_string+=end_row\n",
    "            \n",
    "    html_string += \"</table>\"\n",
    "        \n",
    "                \n",
    "    return html_string\n",
    "\n",
    "HTML(get_html())"
   ]
  },
  {
   "cell_type": "code",
   "execution_count": null,
   "metadata": {},
   "outputs": [],
   "source": []
  }
 ],
 "metadata": {
  "kernelspec": {
   "display_name": "Python 3",
   "language": "python",
   "name": "python3"
  },
  "language_info": {
   "codemirror_mode": {
    "name": "ipython",
    "version": 3
   },
   "file_extension": ".py",
   "mimetype": "text/x-python",
   "name": "python",
   "nbconvert_exporter": "python",
   "pygments_lexer": "ipython3",
   "version": "3.7.4"
  }
 },
 "nbformat": 4,
 "nbformat_minor": 2
}
