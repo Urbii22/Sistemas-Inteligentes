{
 "cells": [
  {
   "cell_type": "markdown",
   "metadata": {},
   "source": [
    "<img style=\"float:left\" width=\"70%\" src=\"pics/escudo_COLOR_1L_DCHA.png\">\n",
    "<img style=\"float:right\" width=\"15%\" src=\"pics/PythonLogo.svg\">\n",
    "<br style=\"clear:both;\">\n",
    "\n",
    "\n",
    "# Juego del *2048*\n",
    "### *Sistemas Inteligentes* (Curso 2021-2022)\n",
    "\n",
    "\n",
    "\n",
    "<h2 style=\"display: inline-block; padding: 4mm; padding-left: 2em; background-color: navy; line-height: 1.3em; color: white; border-radius: 10px;\">Hacia la versión \"manual\" del juego</h2>\n",
    "\n",
    "## Docentes\n",
    "\n",
    " - Pedro Latorre Carmona"
   ]
  },
  {
   "cell_type": "markdown",
   "metadata": {},
   "source": [
    "---\n",
    "El objetivo del juego es deslizar baldosas en una cuadrícula o tablero para combinarlas y crear una baldosa con el número **2048**. Dicho tablero, en el juego original, tiene unas dimensiones de $4 \\times 4$, es decir, $16$ casillas para realizar la combinación de los diferentes elementos.\n",
    "\n",
    "Existen cuatro posibles movimientos: **arriba**, **abajo**, **izquierda**, y **derecha**. Si dos baldosas con el mismo número *colisionan* durante el movimiento, se combinarán en una nueva baldosa, cuyo número será el equivalente a la suma de los números de las dos baldosas originales. \n",
    "\n",
    "A la vez que se produce un movimiento en cualquiera de las cuatro direcciones, una nueva casilla ha de ser *ocupada* por los números $2$ o $4$.\n",
    "\n",
    "---"
   ]
  },
  {
   "cell_type": "markdown",
   "metadata": {},
   "source": [
    "En esta práctica, vamos a definir una **clase**, con inicializador y métodos, que nos permitirá poder hacer las opraciones fundamentales del juego."
   ]
  },
  {
   "cell_type": "code",
   "execution_count": 1,
   "metadata": {},
   "outputs": [],
   "source": [
    "def creaMatrizDato(n,m, dato):\n",
    "    '''\n",
    "    n: Número de filas de la matriz\n",
    "    m: Número de columnas de la matriz\n",
    "    dato: Valor que se quiere poner en TODOS los lugares de la matriz\n",
    "    '''\n",
    "\n",
    "    matriz = []\n",
    "    for i in range(n):\n",
    "    \n",
    "        a = [dato]*m\n",
    "        matriz.append(a)\n",
    "    \n",
    "    return matriz"
   ]
  },
  {
   "cell_type": "code",
   "execution_count": 2,
   "metadata": {},
   "outputs": [],
   "source": [
    "matriz=creaMatrizDato(4,4,0)"
   ]
  },
  {
   "cell_type": "code",
   "execution_count": 3,
   "metadata": {},
   "outputs": [
    {
     "name": "stdout",
     "output_type": "stream",
     "text": [
      "Matriz original: [[0, 0, 0, 0], [0, 0, 0, 0], [0, 0, 0, 0], [0, 0, 0, 0]]\n"
     ]
    }
   ],
   "source": [
    "print(\"Matriz original:\", matriz)"
   ]
  },
  {
   "cell_type": "code",
   "execution_count": 4,
   "metadata": {},
   "outputs": [
    {
     "name": "stdout",
     "output_type": "stream",
     "text": [
      "La fila aleatoria elegida es: 3\n",
      "La columna aleatoria elegida es: 2\n",
      "La matriz entera es: [[0, 0, 0, 0], [0, 0, 0, 0], [0, 0, 0, 0], [0, 0, 0, 0]]\n",
      "El elemento de la matriz concreto elegido es: 0\n",
      "La segunda fila aleatoria elegida es: 3\n",
      "La segunda columna aleatoria elegida es: 1\n"
     ]
    }
   ],
   "source": [
    "# Ahora, generamos una lista con los posibles valores de los índices aleatorios, lo que permitirá seleccionar aleatoriamente\n",
    "# la posición de la fila y la columna de la matriz.\n",
    "\n",
    "# La idea con la lista formada por los \"items\" 0, 1, 2 y 3 es que elija de forma aleatoria uno de ellos, para cada uno de los\n",
    "# índices (fila, columna) de la matriz.\n",
    "\n",
    "import random\n",
    "\n",
    "listaMia=['0', '1', '2', '3']\n",
    "\n",
    "fila1=random.choice(listaMia)\n",
    "columna1=random.choice(listaMia)\n",
    "\n",
    "print(\"La fila aleatoria elegida es:\",fila1)\n",
    "print(\"La columna aleatoria elegida es:\",columna1)\n",
    "\n",
    "print(\"La matriz entera es:\", matriz)\n",
    "print(\"El elemento de la matriz concreto elegido es:\", matriz[int(fila1)][int(columna1)])\n",
    "\n",
    "fila2=random.choice(listaMia)\n",
    "columna2=random.choice(listaMia)\n",
    "\n",
    "print(\"La segunda fila aleatoria elegida es:\",fila2)\n",
    "print(\"La segunda columna aleatoria elegida es:\",columna2)"
   ]
  },
  {
   "cell_type": "code",
   "execution_count": 5,
   "metadata": {},
   "outputs": [],
   "source": [
    "matriz[int(fila1)][int(columna1)]=2\n",
    "matriz[int(fila2)][int(columna2)]=2"
   ]
  },
  {
   "cell_type": "code",
   "execution_count": 6,
   "metadata": {},
   "outputs": [
    {
     "name": "stdout",
     "output_type": "stream",
     "text": [
      "Matriz después de poner dos elementos aleatorios a 2: [[0, 0, 0, 0], [0, 0, 0, 0], [0, 0, 0, 0], [0, 2, 2, 0]]\n"
     ]
    }
   ],
   "source": [
    "print(\"Matriz después de poner dos elementos aleatorios a 2:\", matriz)"
   ]
  },
  {
   "cell_type": "markdown",
   "metadata": {},
   "source": [
    "## Generación de la clase *Rejilla*, que permite operar con el estado del juego"
   ]
  },
  {
   "cell_type": "code",
   "execution_count": 7,
   "metadata": {},
   "outputs": [],
   "source": [
    "from copy import deepcopy\n",
    "from typing import Tuple, List\n",
    "from selenium import webdriver\n",
    "from selenium.webdriver.common.keys import Keys\n",
    "from sys import maxsize as MAX_INT\n",
    "import time"
   ]
  },
  {
   "cell_type": "markdown",
   "metadata": {},
   "source": [
    "## Definición de la *Clase*\n",
    "\n",
    "Creamos una clase *Rejilla* (o el nombre que se considere), el cual va a tener todo el conjunto de propiedades y métodos necesarios para poder trabajar.\n",
    "\n",
    "En concreto, va a tener:\n",
    "\n",
    "- Un *inicializador* que va a ser la matriz (lista de listas), que, de hecho, es la representación del *estado* del juego.\n",
    "\n",
    "- Un comparador de **igualdad** que nos va a decir si dos estados son iguales\n",
    "\n",
    "- Una **copia profunda** del estado, de tal forma que no tengamos *malas pasadas* con las jugadas\n",
    "\n",
    "- Una función de utilidad, que va a ser una heurística que nos permitirá establecer *cómo de bueno* es un estado.\n",
    "\n",
    "- Un método que nos va a poder decir si podemos hacer movimientos **arriba**, **abajo**, **izquierda**, y **derecha**.\n",
    "\n",
    "- Un método que nos va a decir si un estado es **terminal**.\n",
    "\n",
    "- Un método que nos va a decir si el juego ha terminado (aka, **Game Over**).\n",
    "\n",
    "- Un método que nos va a actualizar el estado del juego después de un movimiento **arriba**, **abajo**, **izquierda** y **derecha**."
   ]
  },
  {
   "cell_type": "markdown",
   "metadata": {},
   "source": [
    "---\n",
    "Lo primero que hemos de tener en cuenta es cómo queremos representar el estado concreto del juego en un momento determinado. Lo haremos generando una representación matricial de la *foto congelada* de la disposición de números en el tablero. Algo así como:\n",
    "\n",
    "<img width=\"80%\" src=\"pics/SelfMatrix.png\">\n",
    "\n",
    "---"
   ]
  },
  {
   "cell_type": "markdown",
   "metadata": {},
   "source": [
    "El siguiente método a definir sería el que permite colocar *baldosas* en los huecos, es decir, rellenar el tablero con números. Tendremos que decirle qué posición queremos cambiar y qué número va a ocupar dicha posición."
   ]
  },
  {
   "cell_type": "markdown",
   "metadata": {},
   "source": [
    "### Introducción de la primera función heurística.\n",
    "\n",
    "Vamos a crear un método que nos va a permitir evaluar cómo de buena es la distribución de números en nuestro tablero. Para ello hemos de tener en cuenta las dos siguientes características:\n",
    "\n",
    "- Cuanto más altos sean los valors en cada posición del tablero, mejor indicación del *buen camino* será\n",
    "\n",
    "- Cuanto más huecos tengamos, mejor.\n",
    "\n",
    "Por tanto, una posibilidad sería definir:\n",
    "\n",
    "$U = \\frac{T}{N_{h}}$\n",
    "\n",
    "donde:\n",
    "\n",
    "- $T=\\sum_{i}\\sum_{j}M_{ij}$\n",
    "- $N_h$ sería el número de posiciones ocupadas\n",
    "- $M_{ij}$: Posición correspondiente de la matriz.\n",
    "\n",
    "**<span style=\"color:red\">IMPORTANTE</span>**: Una de las tareas a la que os podréis dedicar para aumentar el valor de vuestra nota de la práctica será plantear y programar otras funciones de utilidad que consideréis pueden ser mejores de cara a este juego."
   ]
  },
  {
   "cell_type": "markdown",
   "metadata": {},
   "source": [
    "---\n",
    "Hemos de definir un método que nos permita saber si nos podemos mover **arriba**, **abajo**, a **izquierda** y a **derecha**. Para ellos, podemos considerar una función que, para el caso del movimiento **arriba** (en los otros casos, sería completamente equivalente), haga:\n",
    "\n",
    "<img width=\"70%\" src=\"pics/CanMoveUp.jpeg\">"
   ]
  },
  {
   "cell_type": "markdown",
   "metadata": {},
   "source": [
    "---\n",
    "Esta función debería devolver **True** o **False**, dependiendo de si es posible hacer algún tipo de movimiento hacia **arriba**. \n",
    "\n",
    "Evidentemente, no es necesario considerar todas las columnas. Tan pronto encontremos alguna columna que permita que algo cambie en el movimiento hacia arriba, devuelve **True**. Si no existe *esa columna*, devolverá **False** al final del proceso.\n",
    "\n",
    "---"
   ]
  },
  {
   "cell_type": "markdown",
   "metadata": {},
   "source": [
    "¿Qué podemos hacer a continuación?\n",
    "\n",
    "Para cada columna, empezamos en la parte baja y nos movemos hacia arriba hasta que se encuentra un elemento $>0$. A partir de aquí, ¿cómo podemos saber si un movimiento **arriba** cambia algo en esta columna?\n",
    "\n",
    "Dos cosas pueden producir un cambio:\n",
    "\n",
    "- Existe un espacio en blanco donde una *baldosa* se puede mover.\n",
    "- Existen dos baldosas adyacentes, que son iguales.\n",
    "---"
   ]
  },
  {
   "cell_type": "markdown",
   "metadata": {},
   "source": [
    "Una vez se tiene esta función, se repite la misma para el movimiento **abajo**, **izquierda** y **derecha**.\n",
    "\n",
    "---"
   ]
  },
  {
   "cell_type": "markdown",
   "metadata": {},
   "source": [
    "## Último ejercicio para esta sesión\n",
    "\n",
    "Necesitamos un método que devuelva los movimientos disponibles, pensando ya en la estrategia de resolución automática del juego.\n",
    "\n",
    "Tal y como hemos comentado, el algoritmo que usaremos será el **MINIMAX**. En **MINIMAX** consideramos que tenemos dos jugadores, el usuario y el ordenador.\n",
    "\n",
    "- Movimientos para el jugador (**<span style=\"color:red\">MAX</span>**):\n",
    "\n",
    "Podrán ser **arriba**, **abajo**, **izquierda** y **derecha**. Lo que haremos será representar estos movimientos como números enteros, de tal forma que: \n",
    "\n",
    "1. Arriba $= 0$\n",
    "2. Abajo $= 1$\n",
    "3. Izquierda $= 2$\n",
    "4. Derecha $= 3$\n",
    "\n",
    "En el método asociado, si el resultado de poder hacer un movimiento es positivo, se añadirá el entero correspondiente a una lista que se devolverá al final de la ejecución del método.\n",
    "\n",
    "En el caso de **MIN**, la idea sería devolver una lista de tuplas de la forma (fila, columna, baldosa), donde las dos primeras coordenadas serían las de las celdas vacías, y la *baldosa*, uno de los dos valores $\\left\\lbrace2,4\\right\\rbrace$."
   ]
  },
  {
   "cell_type": "markdown",
   "metadata": {},
   "source": [
    "---\n",
    "## Especificación del movimiento *hacia arriba*\n",
    "\n",
    "En este código se establece cómo quedaría el resultado de un movimiento *up* en una determinada columna del tabñero.\n",
    "\n",
    "<img width=\"70%\" src=\"pics/HowTheUpMoveIsCoded.png\">\n",
    "\n",
    "---"
   ]
  },
  {
   "cell_type": "code",
   "execution_count": 8,
   "metadata": {},
   "outputs": [],
   "source": [
    "class Rejilla:\n",
    "    \n",
    "    def __init__(self, matrix):\n",
    "        self.setMatrix(matrix)\n",
    "    \n",
    "    def __eq__(self, other) -> bool:\n",
    "        \n",
    "        for i in range(4):\n",
    "            for j in range(4):\n",
    "                if self.matrix[i][j] != other.matrix[i][j]:\n",
    "                    return False\n",
    "        return True\n",
    "    \n",
    "    def setMatrix(self, matrix):\n",
    "        self.matrix = deepcopy(matrix)\n",
    "    \n",
    "    def getMatrix(self) -> List[List]:\n",
    "        return deepcopy(self.matrix)\n",
    "    \n",
    "    def placeTile(self, row: int, col: int, tile: int):\n",
    "        self.matrix[row-1][col-1] = tile\n",
    "    \n",
    "    def utility(self) -> int:\n",
    "        count = 0\n",
    "        sum = 0\n",
    "        for i in range(4):\n",
    "            for j in range(4):\n",
    "                sum += self.matrix[i][j]\n",
    "                if self.matrix[i][j] != 0:\n",
    "                    count += 1\n",
    "        return int(sum/count)\n",
    "    \n",
    "    def canMoveUp(self) -> bool:\n",
    "        for j in range(4):     # For each column...\n",
    "            k = -1\n",
    "            for i in range(3, -1, -1):  # This \"for\" loop finds the \">0\" element in its \"lowest\" position\n",
    "                if self.matrix[i][j] > 0:\n",
    "                    k = i\n",
    "                    break\n",
    "            if k > -1:  \n",
    "                for i in range(k, 0, -1):  # From this element upwards, is it an empty element or there will e \"fusion\"?\n",
    "                    if self.matrix[i-1][j] == 0 or self.matrix[i][j] == self.matrix[i-1][j]:\n",
    "                        return True\n",
    "        return False\n",
    "\n",
    "    def canMoveDown(self) -> bool:\n",
    "        for j in range(4):\n",
    "            k = -1\n",
    "            for i in range(4):\n",
    "                if self.matrix[i][j] > 0:\n",
    "                    k = i\n",
    "                    break\n",
    "            if k > -1:\n",
    "                for i in range(k, 3):\n",
    "                    if self.matrix[i+1][j] == 0 or self.matrix[i][j] == self.matrix[i+1][j]:\n",
    "                        return True\n",
    "        return False\n",
    "\n",
    "    def canMoveLeft(self) -> bool:\n",
    "        for i in range(4):\n",
    "            k = -1\n",
    "            for j in range(3, -1, -1):\n",
    "                if self.matrix[i][j] > 0:\n",
    "                    k = j\n",
    "                    break\n",
    "            if k > -1:\n",
    "                for j in range(k, 0, -1):\n",
    "                    if self.matrix[i][j-1] == 0 or self.matrix[i][j] == self.matrix[i][j-1]:\n",
    "                        return True\n",
    "        return False\n",
    "\n",
    "    def canMoveRight(self) -> bool:\n",
    "        for i in range(4):\n",
    "            k = -1\n",
    "            for j in range(4):\n",
    "                if self.matrix[i][j] > 0:\n",
    "                    k = j\n",
    "                    break\n",
    "            if k > -1:\n",
    "                for j in range(k, 3):\n",
    "                    if self.matrix[i][j+1] == 0 or self.matrix[i][j] == self.matrix[i][j+1]:\n",
    "                        return True\n",
    "        return False\n",
    "    \n",
    "    def getAvailableMovesForMax(self) -> List[int]:\n",
    "        moves = []\n",
    "# In the .getAvailableMovesForMax() method we check if we can move in each of these directions, using our previously created \n",
    "# methods, and in case # the result is true for a direction, we append the corresponding integer to a list which we will \n",
    "# return at the end of the method.\n",
    "        if self.canMoveUp():\n",
    "            moves.append(0)\n",
    "        if self.canMoveDown():\n",
    "            moves.append(1)\n",
    "        if self.canMoveLeft():\n",
    "            moves.append(2)\n",
    "        if self.canMoveRight():\n",
    "            moves.append(3)\n",
    "        \n",
    "        return moves\n",
    "    \n",
    "    def getAvailableMovesForMin(self) -> List[Tuple[int]]:\n",
    "        places = []\n",
    "# The .getAvailableMovesForMin() method will return, the cross product between the set of empty places on the grid and \n",
    "# the set {2, 4}. This return value will be a list of tuples of the form (row, col, tile), where row and col are \n",
    "# 1-indexed coordinates of the empty cells, and tile is one of {2, 4}.\n",
    "        for i in range(4):\n",
    "            for j in range(4):\n",
    "                if self.matrix[i][j] == 0:\n",
    "                    places.append((i+1, j+1, 2))\n",
    "                    places.append((i+1, j+1, 4))\n",
    "        return places\n",
    "    \n",
    "    def getChildren(self, who: str) -> List:\n",
    "        if who == \"max\":\n",
    "            return self.getAvailableMovesForMax()\n",
    "        elif who == \"min\":\n",
    "            return self.getAvailableMovesForMin()\n",
    "    \n",
    "    def isTerminal(self, who: str) -> bool:\n",
    "        if who == \"max\":\n",
    "            if self.canMoveUp():\n",
    "                return False\n",
    "            if self.canMoveDown():\n",
    "                return False\n",
    "            if self.canMoveLeft():\n",
    "                return False\n",
    "            if self.canMoveRight():\n",
    "                return False\n",
    "            return True\n",
    "        elif who == \"min\":\n",
    "            for i in range(4):\n",
    "                for j in range(4):\n",
    "                    if self.matrix[i][j] == 0:\n",
    "                        return False\n",
    "            return True\n",
    "    \n",
    "    def isGameOver(self) -> bool:\n",
    "        return self.isTerminal(who=\"max\")\n",
    "    \n",
    "    def up(self):\n",
    "        for j in range(4):\n",
    "            w = 0\n",
    "            k = 0\n",
    "            for i in range(4):\n",
    "                if self.matrix[i][j] == 0:\n",
    "                    continue     # For a specific \"column\", we ignore the empty cell.\n",
    "                if k == 0:  # Since it came through the \"continue\" condition, this means the element is different\n",
    "                    # from \"0\", and its value is kept in \"k\".\n",
    "                    k = self.matrix[i][j]\n",
    "                elif k == self.matrix[i][j]: # If two continued tiles have the same value, they are \"fused\" and its value\n",
    "                    # is written in the location corresponding to \"w\". The \"w\" value is incremented in one \n",
    "                    # and \"k\" is made \"0\" again.\n",
    "                    self.matrix[w][j] = 2*k\n",
    "                    w += 1\n",
    "                    k = 0\n",
    "                else: # If two continued tiles do not have the same value, then write the first one at location\n",
    "                    # \"w\", \"w\" is incremented by one, and the second one is kept as the new \"k\".\n",
    "                    self.matrix[w][j] = k\n",
    "                    w += 1\n",
    "                    k = self.matrix[i][j]\n",
    "            if k != 0: # After the loop ends, if there exists yet any value kept in \"k\", it is written at location \"w\", \n",
    "                # and \"w\" is incremented by one\n",
    "                self.matrix[w][j] = k\n",
    "                w += 1\n",
    "            for i in range(w, 4): # Empty all cells from \"w\" onwards.\n",
    "                self.matrix[i][j] = 0\n",
    "    \n",
    "    def down(self):\n",
    "        for j in range(4):\n",
    "            w = 3\n",
    "            k = 0\n",
    "            for i in range(3, -1, -1):\n",
    "                if self.matrix[i][j] == 0:\n",
    "                    continue\n",
    "                if k == 0:\n",
    "                    k = self.matrix[i][j]\n",
    "                elif k == self.matrix[i][j]:\n",
    "                    self.matrix[w][j] = 2*k\n",
    "                    w -= 1\n",
    "                    k = 0\n",
    "                else:\n",
    "                    self.matrix[w][j] = k\n",
    "                    w -= 1\n",
    "                    k = self.matrix[i][j]\n",
    "            if k != 0:\n",
    "                self.matrix[w][j] = k\n",
    "                w -= 1\n",
    "            for i in range(w+1):\n",
    "                self.matrix[i][j] = 0\n",
    "    \n",
    "    def left(self):\n",
    "        for i in range(4):\n",
    "            w = 0\n",
    "            k = 0\n",
    "            for j in range(4):\n",
    "                if self.matrix[i][j] == 0:\n",
    "                    continue\n",
    "                if k == 0:\n",
    "                    k = self.matrix[i][j]\n",
    "                elif k == self.matrix[i][j]:\n",
    "                    self.matrix[i][w] = 2*k\n",
    "                    w += 1\n",
    "                    k = 0\n",
    "                else:\n",
    "                    self.matrix[i][w] = k\n",
    "                    w += 1\n",
    "                    k = self.matrix[i][j]\n",
    "            if k != 0:\n",
    "                self.matrix[i][w] = k\n",
    "                w += 1\n",
    "            for j in range(w, 4):\n",
    "                self.matrix[i][j] = 0\n",
    "    \n",
    "    def right(self):\n",
    "        for i in range(4):\n",
    "            w = 3\n",
    "            k = 0\n",
    "            for j in range(3, -1, -1):\n",
    "                if self.matrix[i][j] == 0:\n",
    "                    continue\n",
    "                if k == 0:\n",
    "                    k = self.matrix[i][j]\n",
    "                elif k == self.matrix[i][j]:\n",
    "                    self.matrix[i][w] = 2*k\n",
    "                    w -= 1\n",
    "                    k = 0\n",
    "                else:\n",
    "                    self.matrix[i][w] = k\n",
    "                    w -= 1\n",
    "                    k = self.matrix[i][j]\n",
    "            if k != 0:\n",
    "                self.matrix[i][w] = k\n",
    "                w -= 1\n",
    "            for j in range(w+1):\n",
    "                self.matrix[i][j] = 0\n",
    "    \n",
    "    def move(self, mv: int) -> None:    # It does the actual move, i. e., if the movement is coded with a number, then the \n",
    "# number will define the type of movement to be made (\"up\", \"down\",...)\n",
    "        if mv == 0:\n",
    "            self.up()\n",
    "        elif mv == 1:\n",
    "            self.down()\n",
    "        elif mv == 2:\n",
    "            self.left()\n",
    "        else:\n",
    "            self.right()\n",
    "\n",
    "            \n",
    "# Now, we want a method that takes as parameter another \"Grid object\", which is assumed to be a direct child by a call \n",
    "# to \"move()\", and returns the direction code that generated this parameter. We name this method \".getMoveTo()\".            \n",
    "            \n",
    "    \n",
    "    def getMoveTo(self, child: 'Grid') -> int:\n",
    "        if self.canMoveUp():\n",
    "            g = Grid(matrix=self.getMatrix())\n",
    "            g.up()\n",
    "            if g == child:\n",
    "                return 0\n",
    "        if self.canMoveDown():\n",
    "            g = Grid(matrix=self.getMatrix())\n",
    "            g.down()\n",
    "            if g == child:\n",
    "                return 1\n",
    "        if self.canMoveLeft():\n",
    "            g = Grid(matrix=self.getMatrix())\n",
    "            g.left()\n",
    "            if g == child:\n",
    "                return 2\n",
    "        return 3"
   ]
  },
  {
   "cell_type": "code",
   "execution_count": 9,
   "metadata": {},
   "outputs": [],
   "source": [
    "matrix=[[0,0,0,0],[0,0,0,0],[0,0,0,0],[0,0,0,0]]"
   ]
  },
  {
   "cell_type": "code",
   "execution_count": 10,
   "metadata": {},
   "outputs": [],
   "source": [
    "matrixB=[[0,0,0,0],[0,0,0,0],[0,0,0,0],[0,0,0,0]]"
   ]
  },
  {
   "cell_type": "code",
   "execution_count": 11,
   "metadata": {},
   "outputs": [],
   "source": [
    "rej=Rejilla(matrix)"
   ]
  },
  {
   "cell_type": "code",
   "execution_count": 12,
   "metadata": {},
   "outputs": [
    {
     "name": "stdout",
     "output_type": "stream",
     "text": [
      "<__main__.Rejilla object at 0x00000253AC310308>\n"
     ]
    }
   ],
   "source": [
    "print(rej)"
   ]
  },
  {
   "cell_type": "code",
   "execution_count": 13,
   "metadata": {},
   "outputs": [
    {
     "name": "stdout",
     "output_type": "stream",
     "text": [
      "[[0, 0, 0, 0], [0, 0, 0, 0], [0, 0, 0, 0], [0, 0, 0, 0]]\n"
     ]
    }
   ],
   "source": [
    "print(rej.matrix)"
   ]
  },
  {
   "cell_type": "code",
   "execution_count": 14,
   "metadata": {},
   "outputs": [],
   "source": [
    "rej.placeTile(3,3,3)"
   ]
  },
  {
   "cell_type": "code",
   "execution_count": 15,
   "metadata": {},
   "outputs": [
    {
     "name": "stdout",
     "output_type": "stream",
     "text": [
      "[[0, 0, 0, 0], [0, 0, 0, 0], [0, 0, 3, 0], [0, 0, 0, 0]]\n"
     ]
    }
   ],
   "source": [
    "print(rej.matrix)"
   ]
  },
  {
   "cell_type": "code",
   "execution_count": 16,
   "metadata": {},
   "outputs": [],
   "source": [
    "rejB=Rejilla(matrixB)"
   ]
  },
  {
   "cell_type": "code",
   "execution_count": 17,
   "metadata": {},
   "outputs": [
    {
     "name": "stdout",
     "output_type": "stream",
     "text": [
      "[[0, 0, 0, 0], [0, 0, 0, 0], [0, 0, 0, 0], [0, 0, 0, 0]]\n"
     ]
    }
   ],
   "source": [
    "print(rejB.matrix)"
   ]
  },
  {
   "cell_type": "code",
   "execution_count": 18,
   "metadata": {},
   "outputs": [
    {
     "name": "stdout",
     "output_type": "stream",
     "text": [
      "False\n"
     ]
    }
   ],
   "source": [
    "print(rej==rejB)"
   ]
  },
  {
   "cell_type": "code",
   "execution_count": 19,
   "metadata": {},
   "outputs": [],
   "source": [
    "rejB.placeTile(3,3,3)"
   ]
  },
  {
   "cell_type": "code",
   "execution_count": 20,
   "metadata": {},
   "outputs": [
    {
     "name": "stdout",
     "output_type": "stream",
     "text": [
      "True\n"
     ]
    }
   ],
   "source": [
    "print(rej==rejB)"
   ]
  },
  {
   "cell_type": "code",
   "execution_count": 21,
   "metadata": {},
   "outputs": [],
   "source": [
    "matrixC=[[15,17,19,21],[23,25,27,29],[31,33,35,37],[39,41,43,45]]"
   ]
  },
  {
   "cell_type": "code",
   "execution_count": 22,
   "metadata": {},
   "outputs": [],
   "source": [
    "rejC=Rejilla(matrixC)"
   ]
  },
  {
   "cell_type": "code",
   "execution_count": 23,
   "metadata": {},
   "outputs": [
    {
     "name": "stdout",
     "output_type": "stream",
     "text": [
      "False\n"
     ]
    }
   ],
   "source": [
    "print(rejC.canMoveUp())"
   ]
  },
  {
   "cell_type": "code",
   "execution_count": 24,
   "metadata": {},
   "outputs": [
    {
     "name": "stdout",
     "output_type": "stream",
     "text": [
      "[[2, 17, 19, 21], [2, 25, 27, 29], [31, 33, 35, 37], [39, 41, 43, 45]]\n"
     ]
    }
   ],
   "source": [
    "rejC.placeTile(1,1,2)\n",
    "rejC.placeTile(2,1,2)\n",
    "print(rejC.matrix)"
   ]
  },
  {
   "cell_type": "code",
   "execution_count": 25,
   "metadata": {},
   "outputs": [
    {
     "name": "stdout",
     "output_type": "stream",
     "text": [
      "True\n"
     ]
    }
   ],
   "source": [
    "print(rejC.canMoveUp())"
   ]
  },
  {
   "cell_type": "code",
   "execution_count": 26,
   "metadata": {},
   "outputs": [],
   "source": [
    "rejC.up()"
   ]
  },
  {
   "cell_type": "code",
   "execution_count": 27,
   "metadata": {},
   "outputs": [
    {
     "name": "stdout",
     "output_type": "stream",
     "text": [
      "[[4, 17, 19, 21], [31, 25, 27, 29], [39, 33, 35, 37], [0, 41, 43, 45]]\n"
     ]
    }
   ],
   "source": [
    "print(rejC.matrix)"
   ]
  }
 ],
 "metadata": {
  "kernelspec": {
   "display_name": "Python 3",
   "language": "python",
   "name": "python3"
  },
  "language_info": {
   "codemirror_mode": {
    "name": "ipython",
    "version": 3
   },
   "file_extension": ".py",
   "mimetype": "text/x-python",
   "name": "python",
   "nbconvert_exporter": "python",
   "pygments_lexer": "ipython3",
   "version": "3.7.4"
  }
 },
 "nbformat": 4,
 "nbformat_minor": 2
}
