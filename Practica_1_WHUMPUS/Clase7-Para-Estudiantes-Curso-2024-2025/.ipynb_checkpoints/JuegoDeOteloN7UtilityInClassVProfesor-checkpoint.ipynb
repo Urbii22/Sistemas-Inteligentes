{
 "cells": [
  {
   "cell_type": "markdown",
   "metadata": {},
   "source": [
    "<img style=\"float:left\" width=\"70%\" src=\"pics/escudo_COLOR_1L_DCHA.png\">\n",
    "<img style=\"float:right\" width=\"15%\" src=\"pics/PythonLogo.svg\">\n",
    "<br style=\"clear:both;\">\n",
    "\n",
    "\n",
    "# Otelo\n",
    "### *Sistemas Inteligentes* (Curso 2022-2023)\n",
    "\n",
    "\n",
    "\n",
    "<h2 style=\"display: inline-block; padding: 4mm; padding-left: 2em; background-color: navy; line-height: 1.3em; color: white; border-radius: 10px;\">Hacia la versión \"automática\" del juego </h2>\n",
    "\n",
    "## Docentes\n",
    "\n",
    " - Pedro Latorre Carmona"
   ]
  },
  {
   "cell_type": "markdown",
   "metadata": {},
   "source": [
    "## Definición de la clase\n",
    "\n",
    "Partimos de la definición de la clase **Tablerootelo** que se vio la semana anterior."
   ]
  },
  {
   "cell_type": "code",
   "execution_count": 1,
   "metadata": {},
   "outputs": [],
   "source": [
    "from copy import deepcopy\n",
    "from typing import Tuple, List"
   ]
  },
  {
   "cell_type": "code",
   "execution_count": 2,
   "metadata": {},
   "outputs": [],
   "source": [
    "class Tablerootelo:\n",
    "    \n",
    "    def __init__(self, matrix):\n",
    "        self.setMatrix(matrix)\n",
    "    \n",
    "    \n",
    "    def __eq__(self, other) -> bool:\n",
    "        \n",
    "        for i in range(8):\n",
    "            for j in range(8):\n",
    "                if self.matrix[i][j] != other.matrix[i][j]:\n",
    "                    return False\n",
    "        return True\n",
    "    \n",
    "    \n",
    "    def setMatrix(self, matrix):\n",
    "        self.matrix = deepcopy(matrix)\n",
    "    \n",
    "    \n",
    "    def getMatrix(self) -> List[List]:\n",
    "        return deepcopy(self.matrix)\n",
    "    \n",
    "    \n",
    "    def placeTile(self, row: int, col: int, tile: int):\n",
    "        self.matrix[row-1][col-1] = tile\n",
    "    \n",
    "    \n",
    "    def utility(self) -> int:\n",
    "        \n",
    "        global utilidad\n",
    "        \n",
    "        all = [item for sublist in self.matrix for item in sublist]\n",
    "        white = sum(1 for tile in all if tile == 2)\n",
    "        black = sum(1 for tile in all if tile == 1)\n",
    "                \n",
    "        if white > black:\n",
    "            diff = int((white / (black + white)) * 100)     \n",
    "        else:\n",
    "            diff = - int((black / (black + white)) * 100) \n",
    "    \n",
    "    \n",
    "        if self.moveCanBeMade(1) + self.moveCanBeMade(2) == 0:\n",
    "            mobility = 0    \n",
    "        else:\n",
    "            mobility = 100 * self.moveCanBeMade(2) / (self.moveCanBeMade(2) + self.moveCanBeMade(1))\n",
    "            \n",
    "        \n",
    "        utilidad = diff + mobility\n",
    "        \n",
    "        return utilidad\n",
    "\n",
    "\n",
    "\n",
    "    def isAvailable(self, row: int, col: int, playerID: int, PLAYMODE:bool) -> int:\n",
    "   \n",
    "    \n",
    "    # CÓDIGO, AQUÍ DENTRO.\n",
    "    #\n",
    "    # Se devuelve una variable \"contadora\" que es el número de fichas que potencialmente SE DARÍAN LA VUELTA.\n",
    "\n",
    "        \n",
    "        global changed\n",
    "        global player\n",
    "        global debug\n",
    "        global victory\n",
    "        global whiteTiles\n",
    "        global blackTiles\n",
    "\n",
    "        if PLAYMODE:\n",
    "            self.matrix[row][col] = player\n",
    "        count = 0\n",
    "        __column = self.matrix[row]                        # This sentence gives the values in row \"row\", in the list of lists (matrix)\n",
    "        __row = [self.matrix[i][col] for i in range(0, 8)] # This sentence gives the values in column \"col\", in the \n",
    "                                                 # list of lists (matrix)\n",
    "\n",
    "        \n",
    "        \n",
    "# ==============================================================================================================================\n",
    "#\n",
    "# There are 8 different types of movement, starting for a specific cell position:\n",
    "#\n",
    "# a) Four, with: (1) Up, (3) Down, (3) Left and (4) Right\n",
    "# b) Four with [diagonal movements]: (1) Up-left, (2) Up-right, (3) Down-left, and (4) Down-right\n",
    "#\n",
    "# Those are the 8 sentences that appear below. The first four, which start with \"if playerID in __column[:col]:\", or similar,\n",
    "# for \"a)\", and four more for \"b)\".\n",
    "#\n",
    "# In order to count the number of changes, a variable called \"changes\" is created. It is a list that \"stores\" a number of\n",
    "# numbers in a list, and then obtains its length: \"len(changes)\", which directly gives the number of \"flips\".\n",
    "# ==============================================================================================================================\n",
    "\n",
    "\n",
    "# ==============================================================================================================================\n",
    "#\n",
    "# IMPORTANT (1): As far as I see it, it is ONLY in \"isAvailable\" when the game UPDATES the board. There is no other \n",
    "# place where these changes (updates) are made. \n",
    "#\n",
    "# IMPORTANT (2): This change is made ONLY WHEN PLAYMODE = True\", because it is updated when the following sentence appears:\n",
    "#\n",
    "# if PLAYMODE:\n",
    "#\n",
    "# ==============================================================================================================================\n",
    "  \n",
    "\n",
    "        \n",
    "# 1)\n",
    "\n",
    "        if playerID in __column[:col]:      # Here we identify the first \"col\" number of elements in \"__column\", i. e., it obtains \n",
    "                                        # the first \"col\" elements in the row \n",
    "            changes = []\n",
    "            searchCompleted = False             # By default,\"searchCompleted = False\", meaning that a search has to be made.\n",
    "            for i in range(col - 1, -1, -1):    # Here, \"i\" goes from \"col-1\" up to \"0\", both of them included.\n",
    "                if searchCompleted:\n",
    "                    continue\n",
    "                piece = __column[i]\n",
    "                if piece == 0:        \n",
    "                    changes = []\n",
    "                    searchCompleted = True\n",
    "                \n",
    "                \n",
    "# ==============================================================================================================================\n",
    "#\n",
    "# Here, and in any other part of the function (and notebook file), the search IN THAT DIRECTION will finish when we will find\n",
    "# another tile of the same type as MINE (and, therefore, \"searchCompleted\" will become TRUE).\n",
    "#\n",
    "# The same happens above, when (if): \"if piece == 0\", because that means there is no further change in that direction\n",
    "# ==============================================================================================================================\n",
    "\n",
    "\n",
    "                elif piece == playerID:\n",
    "                    searchCompleted = True\n",
    "                else:\n",
    "                    changes.append(i)  # An \"append\" is made if the position \"i\" in the row is such that it is not empty (\"0\") AND\n",
    "                                   # it does not contain a chip/tile with the same ID as \"playerID\". I understand this means\n",
    "                                   # that it identifies the positions in the row that belong to THE OTHER PLAYER.\n",
    "                        \n",
    "                                   # Here, (in \"else\") we do not change the \"searchCompleted\" variable value, meaning that it\n",
    "                                   # will continue SEARCHING.\n",
    "                        \n",
    "            if searchCompleted:        # If it is TRUE, count the number of changes that would IMPLY a movement. THis would be, on\n",
    "                                   # some occasions, the best strategy.\n",
    "                count += len(changes)\n",
    "                if PLAYMODE:\n",
    "                    for i in changes:\n",
    "                        self.matrix[row][i] = player\n",
    "\n",
    "\n",
    "# 2)                    \n",
    "                    \n",
    "        if playerID in __column[col:]:\n",
    "            changes = []\n",
    "            searchCompleted = False\n",
    "\n",
    "            for i in range(col + 1, 8, 1): # Here, \"i\" goes from \"col+1\" up to \"7\", both of them included.\n",
    "                if searchCompleted:\n",
    "                    continue\n",
    "                piece = __column[i]\n",
    "                if piece == 0:\n",
    "                    changes = []\n",
    "                    searchCompleted = True\n",
    "\n",
    "# ==============================================================================================================================\n",
    "#\n",
    "# Here, and in any other part of the function (and notebook file), the search IN THAT DIRECTION will finish when we will find\n",
    "# another tile of the same type as MINE (and, therefore, \"searchCompleted\" will become TRUE).\n",
    "#\n",
    "# The same happens above, when (if): \"if piece == 0\", because that means there is no further change in that direction\n",
    "# ==============================================================================================================================\n",
    "\n",
    "                elif piece == playerID:\n",
    "                    searchCompleted = True\n",
    "                else:\n",
    "                    changes.append(i)  # An \"append\" is made if the position \"i\" in the row is such that it is not empty (\"0\") AND\n",
    "                                   # it does not contain a chip/tile with the same ID as \"playerID\". I understand this means\n",
    "                                   # that it identifies the positions in the row that belong to THE OTHER PLAYER.\n",
    "                        \n",
    "                                   # Here, (in \"else\") we do not change the \"searchCompleted\" variable value, meaning that it\n",
    "                                   # will continue SEARCHING.\n",
    "                                \n",
    "            if searchCompleted:        # If it is TRUE, count the number of changes that would IMPLY a movement. THis would be, on\n",
    "                                   # some occasions, the best strategy.\n",
    "                count += len(changes)\n",
    "                if PLAYMODE:\n",
    "                    for i in changes:\n",
    "                        self.matrix[row][i] = player # All the positions in \"changes\" are changed to \"player\", taking into account that \n",
    "                                           # they belonged to the other player.\n",
    "\n",
    "# 3) \n",
    "\n",
    "\n",
    "        if playerID in __row[:row]:    # Here we identify the first \"row\" number of elements in \"__row\", i. e., it obtains the first\n",
    "                                   # \"row\" elements in a specific column of the matrix\n",
    "            changes = []\n",
    "            searchCompleted = False\n",
    "\n",
    "            for i in range(row - 1, -1, -1): # Here, \"i\" goes from \"row-1\" up to \"0\", both of them included.\n",
    "                if searchCompleted:\n",
    "                    continue\n",
    "                piece = __row[i]\n",
    "                if piece == 0:\n",
    "                    changes = []\n",
    "                    searchCompleted = True\n",
    "                elif piece == playerID:\n",
    "                    searchCompleted = True\n",
    "                else:\n",
    "                    changes.append(i)\n",
    "            if searchCompleted:\n",
    "                count += len(changes)\n",
    "                if PLAYMODE:\n",
    "                    for i in changes:\n",
    "                        self.matrix[i][col] = player\n",
    "\n",
    "\n",
    "# 4)\n",
    "         \n",
    "    \n",
    "        if playerID in __row[row:]:\n",
    "            changes = []\n",
    "            searchCompleted = False\n",
    "\n",
    "            for i in range(row + 1, 8, 1): # Here, \"i\" goes from \"row+1\" up to \"7\", both of them included.\n",
    "                if searchCompleted:\n",
    "                    continue\n",
    "                piece = __row[i]\n",
    "                if piece == 0:\n",
    "                    changes = []\n",
    "                    searchCompleted = True\n",
    "                elif piece == playerID:\n",
    "                    searchCompleted = True\n",
    "                else:\n",
    "                    changes.append(i)\n",
    "            if searchCompleted:\n",
    "                count += len(changes)\n",
    "                if PLAYMODE:\n",
    "                    for i in changes:\n",
    "                        self.matrix[i][col] = player\n",
    "\n",
    "\n",
    "#   [row - i][col - i]\n",
    "\n",
    "# The following three lines, what they do, is to select the group of elements in the board that, starting from position\n",
    "# [row-1][col-1] goes to position [0][0], considering the \"up-left diagonal\". That is the reason why the \"ulDiagonal\" variable\n",
    "# is called that way.\n",
    " \n",
    "# 5)\n",
    "\n",
    "        i = 1    \n",
    "        ulDiagonal = []\n",
    "        while row - i >= 0 and col - i >= 0:\n",
    "            ulDiagonal.append(self.matrix[row - i][col - i])\n",
    "            i += 1\n",
    "        if playerID in ulDiagonal:\n",
    "            changes = []\n",
    "            searchCompleted = False\n",
    "            for i in range(0, len(ulDiagonal)):\n",
    "                piece = ulDiagonal[i]\n",
    "                if searchCompleted:\n",
    "                    continue\n",
    "                if piece == 0:\n",
    "                    changes = []\n",
    "                    searchCompleted = True\n",
    "                elif piece == playerID:\n",
    "                    searchCompleted = True\n",
    "                else:\n",
    "                    changes.append((row - (i + 1), col - (i + 1)))  # Here we will also include in \"changes\", those cells \n",
    "                                                                # in the Upper Left diagonal of the board\n",
    "            if searchCompleted:\n",
    "                count += len(changes)\n",
    "                if PLAYMODE:\n",
    "                    for i, j in changes:\n",
    "                        self.matrix[i][j] = player\n",
    "\n",
    "\n",
    "#   [row + i][col - i]\n",
    "\n",
    "# The following three lines, what they do, is to select the group of elements in the board that, starting from position\n",
    "# [row-1][col-1], goes in diagonal in a down-left manner up to the end of the board. \n",
    "\n",
    "# 6)\n",
    "\n",
    "\n",
    "        i = 1\n",
    "        urDiagonal = []\n",
    "        while row + i < 8 and col - i >= 0:\n",
    "            urDiagonal.append(self.matrix[row + i][col - i])\n",
    "            i += 1\n",
    "        if playerID in urDiagonal:\n",
    "            changes = []\n",
    "            searchCompleted = False\n",
    "            for i in range(0, len(urDiagonal)):\n",
    "                piece = urDiagonal[i]\n",
    "                if searchCompleted:\n",
    "                    continue\n",
    "                if piece == 0:\n",
    "                    changes = []\n",
    "                    searchCompleted = True\n",
    "                elif piece == playerID:\n",
    "                    searchCompleted = True\n",
    "                else:\n",
    "                    changes.append((row + (i + 1), col - (i + 1)))   # Here we will also include in \"changes\", those cells \n",
    "                                                                 # in the Lower Left diagonal of the board\n",
    "            if searchCompleted:\n",
    "                count += len(changes)\n",
    "                if PLAYMODE:\n",
    "                    for i, j in changes:\n",
    "                        self.matrix[i][j] = player\n",
    "\n",
    "                    \n",
    "#   [row - i][col + i]\n",
    "\n",
    "# The following three lines, what they do, is to select the group of elements in the board that, starting from position\n",
    "# [row-1][col-1], goes in diagonal in a up-right manner up to the end of the board. \n",
    "\n",
    "\n",
    "# 7)\n",
    "\n",
    "\n",
    "        i = 1\n",
    "        llDiagonal = []\n",
    "        while row - i >= 0 and col + i < 8:\n",
    "            llDiagonal.append(self.matrix[row - i][col + i])\n",
    "            i += 1\n",
    "        if playerID in llDiagonal:\n",
    "            changes = []\n",
    "            searchCompleted = False\n",
    "\n",
    "            for i in range(0, len(llDiagonal)):\n",
    "                piece = llDiagonal[i]\n",
    "                if searchCompleted:\n",
    "                    continue\n",
    "                if piece == 0:\n",
    "                    changes = []\n",
    "                    searchCompleted = True\n",
    "                elif piece == playerID:\n",
    "                    searchCompleted = True\n",
    "                else:\n",
    "                    changes.append((row - (i + 1), col + (i + 1)))   # Here we will also include in \"changes\", those cells \n",
    "                                                                 # in the Upper Right diagonal of the board\n",
    "            if searchCompleted:\n",
    "                count += len(changes)\n",
    "                if PLAYMODE:\n",
    "                    for i, j in changes:\n",
    "                        self.matrix[i][j] = player\n",
    "\n",
    "                    \n",
    "                    \n",
    "#   [row + i][col + i]\n",
    "\n",
    "# The following three lines, what they do, is to select the group of elements in the board that, starting from position\n",
    "# [row-1][col-1], goes in diagonal in a lower-right manner up to the end of the board. That is the reason why the variable\n",
    "# is called \"lrDiagonal\".\n",
    "\n",
    "\n",
    "# 8)\n",
    "\n",
    "\n",
    "        i = 1\n",
    "        lrDiagonal = []\n",
    "        while row + i < 8 and col + i < 8:\n",
    "            lrDiagonal.append(self.matrix[row + i][col + i])\n",
    "            i += 1\n",
    "        if playerID in lrDiagonal:\n",
    "            changes = []\n",
    "            searchCompleted = False\n",
    "\n",
    "            for i in range(0, len(lrDiagonal)):\n",
    "                piece = lrDiagonal[i]\n",
    "                if searchCompleted:\n",
    "                    continue\n",
    "                if piece == 0:\n",
    "                    changes = []\n",
    "                    searchCompleted = True\n",
    "                elif piece == playerID:\n",
    "                    searchCompleted = True\n",
    "                else:\n",
    "                    changes.append((row + (i + 1), col + (i + 1)))   # Here we will also include in \"changes\", those cells \n",
    "                                                                 # in the Lower Right diagonal of the board\n",
    "\n",
    "            if searchCompleted:\n",
    "                count += len(changes)\n",
    "                if PLAYMODE:\n",
    "                    for i, j in changes:\n",
    "                        self.matrix[i][j] = player\n",
    "\n",
    "        if count == 0 and PLAYMODE:\n",
    "            self.matrix[row][col] = 0          \n",
    "    \n",
    "        return count\n",
    "    \n",
    "    \n",
    "    def moveCanBeMade(self, playerID:int) -> bool:\n",
    "        movesFound = False\n",
    "        for row in range(0, 8):\n",
    "            for col in range(0, 8):\n",
    "                if movesFound:\n",
    "                    continue\n",
    "                elif self.matrix[row][col] == 0:\n",
    "                    numAvailableMoves = self.isAvailable(row, col, playerID, PLAYMODE=False)\n",
    "                    if numAvailableMoves > 0:\n",
    "                        movesFound = True\n",
    "        return movesFound\n",
    "    \n",
    "    \n",
    "    def endGame(self) -> int:\n",
    "        global victory\n",
    "        global changed\n",
    "        global whiteTiles\n",
    "        global blackTiles\n",
    "\n",
    "        all = [item for sublist in self.matrix for item in sublist]\n",
    "        white = sum(1 for tile in all if tile == 2)   \n",
    "        black = sum(1 for tile in all if tile == 1)\n",
    "    \n",
    "        if white > black:\n",
    "            victory = 2\n",
    "        elif white < black:\n",
    "            victory = 1\n",
    "        else:\n",
    "            victory = -1\n",
    "        \n",
    "        changed = True\n",
    "        \n",
    "        return victory\n",
    "    \n",
    "    \n",
    "    def performMove(self,x:int, y:int):\n",
    "        global changed\n",
    "        global player\n",
    "\n",
    "        if self.matrix[x][y] != 0: \n",
    "            \n",
    "            print(\"¡La celda ya está ocupada!\")\n",
    "            \n",
    "        else:\n",
    "            numFlipped = self.isAvailable(x, y, player, PLAYMODE=True) # In \"isAvailable\", you will also bear in mind \n",
    "        # every potential diagonal movement (in all directions).\n",
    "        \n",
    "            print(\"¡Se dieron la vuelta \" + str(numFlipped) + \" fichas!\")\n",
    "            changed = True\n",
    "\n",
    "            # check game ending\n",
    "            allTiles = [item for sublist in self.matrix for item in sublist]\n",
    "            emptyTiles = sum(1 for tile in allTiles if tile == 0)\n",
    "            whiteTiles = sum(1 for tile in allTiles if tile == 2)\n",
    "            blackTiles = sum(1 for tile in allTiles if tile == 1)\n",
    "\n",
    "        \n",
    "            print(\"Estado actual - Vacias: \" + str(emptyTiles) + \" Blancas: \" + str(\n",
    "                whiteTiles) + \" Negras: \" + str(blackTiles))\n",
    "            \n",
    "\n",
    "            if whiteTiles < 1 or blackTiles < 1 or emptyTiles < 1:\n",
    "                endGame(whiteTiles, blackTiles)\n",
    "                return\n",
    "\n",
    "\n",
    "            movesFound = self.moveCanBeMade(3 - player)        \n",
    "        \n",
    "        \n",
    "            if not movesFound:  \n",
    "                \n",
    "                print(\"¡El jugador \" + str(3 - player) + \"no puede mover!\")\n",
    "                movesFound = self.moveCanBeMade(player)\n",
    "                \n",
    "                if not movesFound:\n",
    "                    \n",
    "                    print(\"¡El jugador \" + str(player) + \"tampoco puede mover!\")\n",
    "                    victoria=self.endGame()\n",
    "                    return victoria\n",
    "                else:\n",
    "                    print(\"El jugador \" + str(player) + \" puede mover, asi que ¡adelante!\")\n",
    "                    if useAI and player == 2: \n",
    "                    \n",
    "                        pass                \n",
    "                        # performMoveMinMax()\n",
    "                    \n",
    "                    changed = True\n",
    "            else:\n",
    "                player = 3 - player\n",
    "                changed = True\n",
    "\n",
    "    "
   ]
  },
  {
   "cell_type": "code",
   "execution_count": 3,
   "metadata": {},
   "outputs": [],
   "source": [
    "matrizA=[[1,2,0,0,0,0,0,0],[1,2,0,0,0,0,0,0],[0,0,0,0,0,0,0,0],[0,0,0,0,0,0,0,0],[0,0,0,0,0,0,0,0],[0,0,0,0,0,0,0,0],[0,0,0,0,0,0,0,0],[0,0,0,0,0,0,0,0]]"
   ]
  },
  {
   "cell_type": "code",
   "execution_count": 4,
   "metadata": {},
   "outputs": [],
   "source": [
    "inst1=Tablerootelo(matrizA)"
   ]
  },
  {
   "cell_type": "code",
   "execution_count": 5,
   "metadata": {},
   "outputs": [
    {
     "name": "stdout",
     "output_type": "stream",
     "text": [
      "[[1, 2, 0, 0, 0, 0, 0, 0], [1, 2, 0, 0, 0, 0, 0, 0], [0, 0, 0, 0, 0, 0, 0, 0], [0, 0, 0, 0, 0, 0, 0, 0], [0, 0, 0, 0, 0, 0, 0, 0], [0, 0, 0, 0, 0, 0, 0, 0], [0, 0, 0, 0, 0, 0, 0, 0], [0, 0, 0, 0, 0, 0, 0, 0]]\n"
     ]
    }
   ],
   "source": [
    "print(inst1.matrix)"
   ]
  },
  {
   "cell_type": "code",
   "execution_count": 6,
   "metadata": {},
   "outputs": [
    {
     "name": "stdout",
     "output_type": "stream",
     "text": [
      "El número de veces que se da la vuelta es: 1\n"
     ]
    }
   ],
   "source": [
    "global player\n",
    "player=1\n",
    "\n",
    "numero=inst1.isAvailable(2,2,player,True)\n",
    "\n",
    "print('El número de veces que se da la vuelta es:',numero)"
   ]
  },
  {
   "cell_type": "code",
   "execution_count": 7,
   "metadata": {},
   "outputs": [
    {
     "name": "stdout",
     "output_type": "stream",
     "text": [
      "True\n"
     ]
    }
   ],
   "source": [
    "VarBool=inst1.moveCanBeMade(1)\n",
    "\n",
    "print(VarBool)"
   ]
  },
  {
   "cell_type": "code",
   "execution_count": 8,
   "metadata": {},
   "outputs": [],
   "source": [
    "matrizB=[[1,2,1,2,1,1,1,1],[1,2,1,2,1,1,1,1],[1,2,1,2,1,1,1,1],[1,2,1,2,1,1,1,1],[1,2,1,2,1,1,1,1],[1,2,1,2,1,1,1,1],[1,2,1,2,1,1,1,1],[1,2,1,2,1,1,1,1]]"
   ]
  },
  {
   "cell_type": "code",
   "execution_count": 9,
   "metadata": {},
   "outputs": [],
   "source": [
    "inst2=Tablerootelo(matrizB)"
   ]
  },
  {
   "cell_type": "code",
   "execution_count": 10,
   "metadata": {},
   "outputs": [
    {
     "name": "stdout",
     "output_type": "stream",
     "text": [
      "La victoria es para el jugador con clave:  1\n"
     ]
    }
   ],
   "source": [
    "FinalInstancia2=inst2.endGame()\n",
    "\n",
    "print(\"La victoria es para el jugador con clave: \",FinalInstancia2)"
   ]
  },
  {
   "cell_type": "code",
   "execution_count": 11,
   "metadata": {},
   "outputs": [],
   "source": [
    "matrizC=[[1,2,1,2,1,2,1,2],[1,2,1,2,1,2,1,2],[1,2,1,2,1,2,1,2],[1,2,1,2,1,2,1,2],[1,2,1,2,1,2,1,2],[1,2,1,2,1,2,1,2],[1,2,1,2,1,2,1,2],[1,2,1,2,1,2,1,2]]"
   ]
  },
  {
   "cell_type": "code",
   "execution_count": 12,
   "metadata": {},
   "outputs": [],
   "source": [
    "inst3=Tablerootelo(matrizC)"
   ]
  },
  {
   "cell_type": "code",
   "execution_count": 13,
   "metadata": {},
   "outputs": [
    {
     "name": "stdout",
     "output_type": "stream",
     "text": [
      "La victoria es para el jugador con clave:  -1\n"
     ]
    }
   ],
   "source": [
    "FinalInstancia3=inst3.endGame()\n",
    "\n",
    "print(\"La victoria es para el jugador con clave: \",FinalInstancia3)"
   ]
  },
  {
   "cell_type": "code",
   "execution_count": 14,
   "metadata": {},
   "outputs": [
    {
     "name": "stdout",
     "output_type": "stream",
     "text": [
      "¡La celda ya está ocupada!\n"
     ]
    }
   ],
   "source": [
    "inst3.performMove(1,1)"
   ]
  },
  {
   "cell_type": "code",
   "execution_count": 15,
   "metadata": {},
   "outputs": [
    {
     "name": "stdout",
     "output_type": "stream",
     "text": [
      "El coste asociado es:  -50\n"
     ]
    }
   ],
   "source": [
    "coste=inst3.utility()\n",
    "print('El coste asociado es: ', coste)"
   ]
  },
  {
   "cell_type": "markdown",
   "metadata": {},
   "source": [
    "## Función asociada al método *Minimax* (con poda $\\alpha-\\beta$)"
   ]
  },
  {
   "cell_type": "code",
   "execution_count": 16,
   "metadata": {},
   "outputs": [],
   "source": [
    "def miniMax(state:Tablerootelo, currentLevel:int, maxLevel:int, player:int, alpha:int, beta:int, stop:bool) -> Tuple[Tablerootelo, int]:\n",
    "\n",
    "    matriz=state.getMatrix()\n",
    "        \n",
    "    successorMatrices = []\n",
    "    \n",
    "    if (not state.moveCanBeMade(player) or currentLevel == maxLevel):\n",
    "        return (state.matrix,state.utility())    \n",
    "   \n",
    "    for row in range(0, 8):\n",
    "        for col in range(0, 8):\n",
    "            if matriz[row][col] == 0:\n",
    "                numAvailableMoves = state.isAvailable(row, col, player, PLAYMODE=False)                \n",
    "                if numAvailableMoves > 0:\n",
    "                    successorBoard = [row[:] for row in matriz]\n",
    "                    successorBoard[row][col] = player\n",
    "                    successorMatrices.append(successorBoard)\n",
    "    \n",
    "    \n",
    "    if len(successorMatrices) == 0:\n",
    "        stopDigging = True\n",
    "        coste=state.utility()\n",
    "        return (statematrix,coste)\n",
    "    bestMatrix = None\n",
    "\n",
    "\n",
    "    if player == 2:                    \n",
    "        maxValue = -math.inf #alpha\n",
    "        for i in range(0, len(successorMatrices)):\n",
    "            mat = Tablerootelo(successorMatrices[i])            \n",
    "            matrizS, coste = miniMax(mat, currentLevel + 1, maxLevel, 1, alpha,beta,stop)\n",
    "                \n",
    "            best = state.utility() \n",
    "            \n",
    "            if best > maxValue:\n",
    "                maxValue = best\n",
    "                bestMatrix = successorMatrices[i]\n",
    "            alpha = max(alpha, best)\n",
    "            if best >= beta:\n",
    "                # return (stop, matrizS)\n",
    "                return (matrizS,best)\n",
    "    else:                           \n",
    "        \n",
    "        minValue = math.inf #beta\n",
    "        for i in range(0, len(successorMatrices)):\n",
    "            mat = Tablerootelo(successorMatrices[i])\n",
    "            matrizS, coste = miniMax(mat, currentLevel + 1, maxLevel, 2, alpha,beta,stop)\n",
    "            coste = state.utility()\n",
    "            if coste < minValue:\n",
    "                minValue = coste\n",
    "                bestMatrix = successorMatrices[i]\n",
    "            beta = min(beta, coste)\n",
    "            if coste <= alpha:\n",
    "                # return (stop, matrizS)\n",
    "                return (matrizS,coste)\n",
    "    return (bestMatrix,coste)"
   ]
  },
  {
   "cell_type": "code",
   "execution_count": 17,
   "metadata": {},
   "outputs": [],
   "source": [
    "MatrizPedro=[[0,0,0,0,0,0,0,0],[0,0,0,0,0,0,0,0],[0,0,0,0,0,0,0,0],[0,0,0,1,2,0,0,0],[0,0,0,2,1,0,0,0],[0,0,0,0,0,0,0,0],[0,0,0,0,0,0,0,0],[0,0,0,0,0,0,0,0]]"
   ]
  },
  {
   "cell_type": "code",
   "execution_count": 18,
   "metadata": {},
   "outputs": [],
   "source": [
    "instPedro=Tablerootelo(MatrizPedro)"
   ]
  },
  {
   "cell_type": "code",
   "execution_count": 19,
   "metadata": {},
   "outputs": [
    {
     "name": "stdout",
     "output_type": "stream",
     "text": [
      "[[0, 0, 0, 0, 0, 0, 0, 0], [0, 0, 0, 0, 0, 0, 0, 0], [0, 0, 0, 0, 0, 0, 0, 0], [0, 0, 0, 1, 2, 0, 0, 0], [0, 0, 0, 2, 1, 0, 0, 0], [0, 0, 0, 0, 0, 0, 0, 0], [0, 0, 0, 0, 0, 0, 0, 0], [0, 0, 0, 0, 0, 0, 0, 0]]\n"
     ]
    }
   ],
   "source": [
    "matrizPrueba=instPedro.matrix\n",
    "print(matrizPrueba)"
   ]
  },
  {
   "cell_type": "code",
   "execution_count": 20,
   "metadata": {},
   "outputs": [
    {
     "name": "stdout",
     "output_type": "stream",
     "text": [
      "[[0, 0, 0, 0, 0, 0, 0, 0], [0, 0, 0, 0, 0, 0, 0, 0], [0, 0, 0, 0, 0, 0, 0, 0], [0, 0, 0, 1, 2, 0, 0, 0], [0, 0, 0, 2, 1, 0, 0, 0], [0, 0, 0, 0, 0, 0, 0, 0], [0, 0, 0, 0, 0, 0, 0, 0], [0, 0, 0, 0, 0, 0, 0, 0]]\n"
     ]
    }
   ],
   "source": [
    "matrix=instPedro.getMatrix()\n",
    "print(matrix)"
   ]
  },
  {
   "cell_type": "code",
   "execution_count": 21,
   "metadata": {},
   "outputs": [
    {
     "name": "stdout",
     "output_type": "stream",
     "text": [
      "<__main__.Tablerootelo object at 0x000001EEF2898C70>\n"
     ]
    }
   ],
   "source": [
    "print(Tablerootelo(matrix=instPedro.getMatrix()))"
   ]
  },
  {
   "cell_type": "code",
   "execution_count": 22,
   "metadata": {},
   "outputs": [],
   "source": [
    "import math\n",
    "\n",
    "(childPedro, mejorValorPedro) = miniMax(Tablerootelo(matrix=instPedro.getMatrix()),0, 2, 1, -math.inf, math.inf, False)\n",
    "(childAI, mejorValorAI) = miniMax(Tablerootelo(matrix=instPedro.getMatrix()),0, 2, 2, -math.inf, math.inf, False)"
   ]
  },
  {
   "cell_type": "code",
   "execution_count": 23,
   "metadata": {},
   "outputs": [
    {
     "name": "stdout",
     "output_type": "stream",
     "text": [
      "[[0, 0, 0, 0, 0, 0, 0, 0], [0, 0, 0, 0, 0, 0, 0, 0], [0, 0, 0, 0, 1, 0, 0, 0], [0, 0, 0, 1, 2, 0, 0, 0], [0, 0, 0, 2, 1, 0, 0, 0], [0, 0, 0, 0, 0, 0, 0, 0], [0, 0, 0, 0, 0, 0, 0, 0], [0, 0, 0, 0, 0, 0, 0, 0]]\n"
     ]
    }
   ],
   "source": [
    "print(childPedro)"
   ]
  },
  {
   "cell_type": "code",
   "execution_count": 24,
   "metadata": {},
   "outputs": [
    {
     "name": "stdout",
     "output_type": "stream",
     "text": [
      "0.0\n"
     ]
    }
   ],
   "source": [
    "print(mejorValorPedro)"
   ]
  },
  {
   "cell_type": "code",
   "execution_count": 25,
   "metadata": {},
   "outputs": [
    {
     "name": "stdout",
     "output_type": "stream",
     "text": [
      "[[0, 0, 0, 0, 0, 0, 0, 0], [0, 0, 0, 0, 0, 0, 0, 0], [0, 0, 0, 2, 0, 0, 0, 0], [0, 0, 0, 1, 2, 0, 0, 0], [0, 0, 0, 2, 1, 0, 0, 0], [0, 0, 0, 0, 0, 0, 0, 0], [0, 0, 0, 0, 0, 0, 0, 0], [0, 0, 0, 0, 0, 0, 0, 0]]\n"
     ]
    }
   ],
   "source": [
    "print(childAI)"
   ]
  },
  {
   "cell_type": "code",
   "execution_count": 26,
   "metadata": {},
   "outputs": [
    {
     "name": "stdout",
     "output_type": "stream",
     "text": [
      "110.0\n"
     ]
    }
   ],
   "source": [
    "print(mejorValorAI)"
   ]
  }
 ],
 "metadata": {
  "kernelspec": {
   "display_name": "Python 3 (ipykernel)",
   "language": "python",
   "name": "python3"
  },
  "language_info": {
   "codemirror_mode": {
    "name": "ipython",
    "version": 3
   },
   "file_extension": ".py",
   "mimetype": "text/x-python",
   "name": "python",
   "nbconvert_exporter": "python",
   "pygments_lexer": "ipython3",
   "version": "3.9.7"
  }
 },
 "nbformat": 4,
 "nbformat_minor": 2
}
