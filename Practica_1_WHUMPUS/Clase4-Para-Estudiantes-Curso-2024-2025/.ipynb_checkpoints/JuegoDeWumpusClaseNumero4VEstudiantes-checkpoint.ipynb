{
 "cells": [
  {
   "cell_type": "markdown",
   "metadata": {},
   "source": [
    "<img style=\"float:left\" width=\"70%\" src=\"pics/escudo_COLOR_1L_DCHA.png\">\n",
    "<img style=\"float:right\" width=\"15%\" src=\"pics/PythonLogo.svg\">\n",
    "<br style=\"clear:both;\">\n",
    "\n",
    "\n",
    "# *Wumpus*\n",
    "### *Sistemas Inteligentes* (Curso 2023-2024)\n",
    "\n",
    "\n",
    "\n",
    "<h2 style=\"display: inline-block; padding: 4mm; padding-left: 2em; background-color: navy; line-height: 1.3em; color: white; border-radius: 10px;\">Hacia la versión \"manual\" del juego</h2>\n",
    "\n",
    "## Docentes\n",
    "\n",
    " - Pedro Latorre Carmona"
   ]
  },
  {
   "cell_type": "markdown",
   "metadata": {},
   "source": [
    "---\n",
    "Tal y como se ha comentado, **Wumpus** es un juego para un solo jugador, en el que el movimiento del mismo debe venir establecido por las condiciones asociadas a las diferentes casillas del tablero.\n",
    "\n",
    "Hemos de tener en cuenta que, por ejemplo, si tenemos un agujero en la casilla $(i,j)$, se le ha de asignar automáticamente una casilla de **Brisa** a las posiciones $(i-1,j)$, $(i+1,j)$, $(i,j-1)$, y $(i,j+1)$.\n",
    "\n",
    "Lo mismo ocurre en el caso de tener el **Wumpus** en una determinada posición $(k,l)$. i. e., quedarían determinadas las posiciones $(k-1,l)$, $(k+1,l)$, $(k,l-1)$, y $(k,l+1)$.\n",
    "\n",
    "Es decir, estamos hablando de la siguiente disposición:\n",
    "\n",
    "<img src=\"DisposicionCruz.png\">"
   ]
  },
  {
   "cell_type": "code",
   "execution_count": null,
   "metadata": {},
   "outputs": [],
   "source": []
  },
  {
   "cell_type": "code",
   "execution_count": 1,
   "metadata": {},
   "outputs": [],
   "source": [
    "from copy import deepcopy\n",
    "from typing import Tuple, List\n",
    "import math"
   ]
  },
  {
   "cell_type": "code",
   "execution_count": 2,
   "metadata": {},
   "outputs": [],
   "source": [
    "class Tablerowumpus:\n",
    "    \n",
    "    def __init__(self, matrix):\n",
    "        self.setMatrix(matrix)\n",
    "    \n",
    "    \n",
    "    def __eq__(self, other) -> bool:\n",
    "        alto = len(self.matrix)\n",
    "        ancho = len(self.matrix[0])\n",
    "        \n",
    "        for i in range (alto):\n",
    "            for j in range (ancho):\n",
    "                if self.matrix[i][j] != other.matrix[i][j]: return False\n",
    "          \n",
    "        return True  \n",
    "    \n",
    "    def setMatrix(self, matrix):\n",
    "        self.matrix = deepcopy(matrix)\n",
    "    \n",
    "    \n",
    "    def getMatrix(self) -> List[List]:\n",
    "        return deepcopy(self.matrix)\n",
    "    \n",
    "    \n",
    "    def placeTile(self, row: int, col: int, tile: int):\n",
    "        self.matrix[row-1][col-1] = tile\n",
    "    \n",
    "    \n",
    "    def utility(self) -> float:\n",
    "        Agente = 1\n",
    "        Wumpus = 3\n",
    "        posAgente = [0, 0] \n",
    "        posWumpus = [0, 0]\n",
    "        alto = len(self.matrix)\n",
    "        ancho = len(self.matrix[0])\n",
    "        \n",
    "        for i in range(alto):\n",
    "            for j in range(ancho):\n",
    "                if self.matrix[i][j] == Agente:\n",
    "                    posAgente = [i, j]\n",
    "                    print(\"Posición del Agente encontrada:\", posAgente)\n",
    "                if self.matrix[i][j] == Wumpus:\n",
    "                    posWumpus = [i, j]\n",
    "                    print(\"Posición del Wumpus encontrada:\", posWumpus)  \n",
    "        \n",
    "        return math.sqrt((posWumpus[0] - posAgente[0]) ** 2 + (posWumpus[1] - posAgente[1]) ** 2)\n",
    "        \n",
    "    #      COMPLETAD VOSOTR@S\n",
    "    # \n",
    "    #      PRIMERA POPUESTA (MUY SENCILLA):\n",
    "    #      \n",
    "    #      Tiene que devolver la distancia euclídea entre la posición del \"agente\" y la del \"wumpus\".\n",
    "    #      Distancia Euclidea o Distancia Manhattan\n",
    "      \n",
    "        \n",
    "                    \n",
    "    #   return XXXXXXXXXXXXXXXXXXXXXXXXX\n",
    " \n",
    "    \n",
    "    \n",
    "  #  def identificaVecinos(self):\n",
    "  #    Va a determinar los vecinos de las \"fichas de interés\"\n",
    "        "
   ]
  },
  {
   "cell_type": "code",
   "execution_count": 3,
   "metadata": {},
   "outputs": [],
   "source": [
    "#ejemplos para comprobar funcionalidad.\n",
    "\n",
    "tablero_1 = Tablerowumpus([\n",
    "    [0, 0, 0, 0],\n",
    "    [0, 0, 3, 0],\n",
    "    [0, 0, 0, 0],\n",
    "    [1, 0, 0, 0],\n",
    "])\n",
    "\n",
    "tablero_2 = Tablerowumpus([\n",
    "    [0, 0, 0, 0],\n",
    "    [0, 0, 3, 0],\n",
    "    [0, 0, 0, 0],\n",
    "    [1, 0, 0, 0],\n",
    "])"
   ]
  },
  {
   "cell_type": "code",
   "execution_count": 4,
   "metadata": {},
   "outputs": [
    {
     "name": "stdout",
     "output_type": "stream",
     "text": [
      "4\n"
     ]
    }
   ],
   "source": [
    "print(len(tablero_1.matrix[0]))"
   ]
  },
  {
   "cell_type": "code",
   "execution_count": 5,
   "metadata": {},
   "outputs": [
    {
     "name": "stdout",
     "output_type": "stream",
     "text": [
      "Son iguales\n"
     ]
    }
   ],
   "source": [
    "if (Tablerowumpus.__eq__(tablero_1, tablero_2)) : print(\"Son iguales\")\n",
    "else: print(\"Son diferentes\")    "
   ]
  },
  {
   "cell_type": "code",
   "execution_count": 6,
   "metadata": {},
   "outputs": [
    {
     "name": "stdout",
     "output_type": "stream",
     "text": [
      "Posición del Wumpus encontrada: [1, 2]\n",
      "Posición del Agente encontrada: [3, 0]\n",
      "2.8284271247461903\n"
     ]
    }
   ],
   "source": [
    "print (Tablerowumpus.utility(tablero_1))"
   ]
  },
  {
   "cell_type": "code",
   "execution_count": null,
   "metadata": {},
   "outputs": [],
   "source": []
  }
 ],
 "metadata": {
  "kernelspec": {
   "display_name": "Python 3 (ipykernel)",
   "language": "python",
   "name": "python3"
  },
  "language_info": {
   "codemirror_mode": {
    "name": "ipython",
    "version": 3
   },
   "file_extension": ".py",
   "mimetype": "text/x-python",
   "name": "python",
   "nbconvert_exporter": "python",
   "pygments_lexer": "ipython3",
   "version": "3.11.4"
  }
 },
 "nbformat": 4,
 "nbformat_minor": 4
}
