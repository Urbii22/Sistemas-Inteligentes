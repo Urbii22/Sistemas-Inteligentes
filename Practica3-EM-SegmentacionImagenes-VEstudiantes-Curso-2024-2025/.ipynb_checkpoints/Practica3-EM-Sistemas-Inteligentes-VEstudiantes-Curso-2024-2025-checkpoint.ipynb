{
 "cells": [
  {
   "cell_type": "markdown",
   "metadata": {},
   "source": [
    "<img style=\"float:left\" width=\"70%\" src=\"pics/escudo_COLOR_1L_DCHA.png\">\n",
    "<img style=\"float:right\" width=\"15%\" src=\"pics/PythonLogo.svg\">\n",
    "<br style=\"clear:both;\">\n",
    "\n",
    "<h2 style=\"display: inline-block; padding: 4mm; padding-left: 2em; background-color: navy; line-height: 1.3em; color: white; border-radius: 10px;\">Segmentación por clustering. Caso EM</h2>\n",
    "\n",
    "### Mixtura de Gausianas - Expectación Maximización (EM)\n",
    "#### Author: Pedro Latorre Carmona\n",
    "#### Curso: 2024-2025\n",
    "\n",
    "Versión 1.0\n",
    "\n",
    "---"
   ]
  },
  {
   "cell_type": "markdown",
   "metadata": {},
   "source": [
    "En esta práctica, la idea es aplicar el algoritmo de agrupamiento de EM a una imagen sin ruido, y a otra imagen a la que le vais a añadir ruido Gausiano de un determinado valor de *desviación estándar*.\n"
   ]
  },
  {
   "cell_type": "markdown",
   "metadata": {},
   "source": [
    "### Mixtura de Gausianas (Mixture of Gaussians, o MoGs)\n",
    "\n",
    "El algoritmo de mixtura de Gausianas intenta resolver e inferir cuáles son las características, número y peso de un conjunto de Gausianas, en un espacio $D-$dimensional que permitirían modelizar una determinada distribución de datos.\n",
    "\n",
    "Supongamos un **vector de características** que representa un dato que queremos clasificar. La distribución de probabilidad de ese vector de características a lo largo del espacio que lo define se puede poner como:\n",
    "\n",
    "$p(\\mathbf{x}) = \\sum_{j=1}^{m} p(\\Omega_{j})\\cdot p(\\mathbf{x}|\\Omega_{j})$\n",
    "\n",
    "Una función Gausiana en un espacio $D-$dimensional puede escribirse de la siguiente forma:\n",
    "\n",
    "$p(\\mathbf{x}|\\Omega_{j})=\\frac{1}{(2\\pi)^{\\frac{d}{2}}|\\Sigma_{j}|^{\\frac{1}{2}}}\\exp\\left(-\\frac{1}{2}([\\mathbf{x}-\\mathbf{\\mu}_{j}]^{T}\\Sigma_{j}^{-1}[\\mathbf{x}-\\mathbf{\\mu}_{j}])\\right)$\n",
    "\n",
    "donde:\n",
    "\n",
    "1. $\\mathbf{\\mu}_{j}$ es el vector que representa las coordenadas del **centroide** j-ésimo\n",
    "2. $\\Sigma_{j}$ es la matriz de covarianza asociada al *clúster* j-ésimo"
   ]
  },
  {
   "cell_type": "markdown",
   "metadata": {},
   "source": [
    "## ¿Qué resuelve el algoritmo de mixtura de Gausianas?\n",
    "\n",
    "Lo que indica es el grupo al que pertenece un vector, $\\mathbf{x}$, porque busca:\n",
    "\n",
    "$j\\equiv\\max_{j\\in\\Omega_{i}} \\left\\{p(\\Omega_{j}|\\mathbf{x})\\right\\}$"
   ]
  },
  {
   "cell_type": "markdown",
   "metadata": {},
   "source": [
    "## Método de resolución\n",
    "\n",
    "Normalmente, el método que se usa para resolver este problema de optimización es el denominado de **expectación**-**maximización** (**EM**). Consta de dos partes:\n",
    "\n",
    "1. Paso **E** (Expectación):\n",
    "\n",
    "<img src=\"pics/PasoE.png\">\n",
    "\n",
    "2. Paso **M** (Maximización):\n",
    "\n",
    "<img src=\"pics/PasoM.png\">"
   ]
  },
  {
   "cell_type": "markdown",
   "metadata": {},
   "source": [
    "## ¿Cuándo *pararía* el algoritmo?\n",
    "\n",
    "Hay diversas formas de establecer que el algoritmo ha **convergido**:\n",
    "\n",
    "1. Considerar que los centroides, así como las matrices de covarianza, no han *cambiado*. Esto, en realidad, tendría que reflejarse en que:\n",
    "\n",
    "$\\|\\Sigma_{j}^{(t+1)}-\\Sigma_{j}^{(t)}\\|_{2}\\leq \\epsilon_{1}, \\forall j$\n",
    "\n",
    "$\\|\\mathbf{\\mu}_{j}^{(t+1)}-\\mathbf{\\mu}_{j}^{(t)}\\|_{2}\\leq \\epsilon_{2}, \\forall j$\n",
    "\n",
    "Podemos considerar: $\\epsilon_{1}=\\epsilon_{2}=\\epsilon$\n",
    "\n",
    "2. Hacer un número máximo de iteraciones."
   ]
  },
  {
   "cell_type": "markdown",
   "metadata": {},
   "source": [
    "---\n",
    "\n",
    "- Para el caso de la **Mixtura de Gausianas** habría que analizar:\n",
    "\n",
    "    1. El número de Gausianas\n",
    "    2. El valor del umbral de parada\n",
    "    3. El número de iteraciones\n",
    "    4. La forma de las matrices de covarianza\n",
    "    5. El efecto del ruido de la imagen, en la calidad de la segmentación\n",
    "\n",
    "\n",
    "Hay que usar el código que ya tiene **sklearn.mixture** de **Mixturas de Gausianas**.\n",
    "\n",
    "---"
   ]
  },
  {
   "cell_type": "markdown",
   "metadata": {},
   "source": [
    "---\n",
    "### Adición de ruido Gausiano\n",
    "\n",
    "Para añadir ruido Gausiano, podéis hacerlo de forma independiente en cada canal de color (R, G, B), siguiendo lo comentado (por ejemplo) en:\n",
    "\n",
    "https://medium.com/@ms_somanna/guide-to-adding-noise-to-your-data-using-python-and-numpy-c8be815df524\n"
   ]
  },
  {
   "cell_type": "code",
   "execution_count": 1,
   "metadata": {},
   "outputs": [],
   "source": [
    "%matplotlib inline"
   ]
  },
  {
   "cell_type": "code",
   "execution_count": 2,
   "metadata": {},
   "outputs": [],
   "source": [
    "import math\n",
    "import matplotlib.pyplot as plt\n",
    "import numpy as np\n",
    "import pandas as pd\n",
    "\n",
    "from skimage import io"
   ]
  }
 ],
 "metadata": {
  "kernelspec": {
   "display_name": "Python 3",
   "language": "python",
   "name": "python3"
  },
  "language_info": {
   "codemirror_mode": {
    "name": "ipython",
    "version": 3
   },
   "file_extension": ".py",
   "mimetype": "text/x-python",
   "name": "python",
   "nbconvert_exporter": "python",
   "pygments_lexer": "ipython3",
   "version": "3.8.8"
  }
 },
 "nbformat": 4,
 "nbformat_minor": 2
}
