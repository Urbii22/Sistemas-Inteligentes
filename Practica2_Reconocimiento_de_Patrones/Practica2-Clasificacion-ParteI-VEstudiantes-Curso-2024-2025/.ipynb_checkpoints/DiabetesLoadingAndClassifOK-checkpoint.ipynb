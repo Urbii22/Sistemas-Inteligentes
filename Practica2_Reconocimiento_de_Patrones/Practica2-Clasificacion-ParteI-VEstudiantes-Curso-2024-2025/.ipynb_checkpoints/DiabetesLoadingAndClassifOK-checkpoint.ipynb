{
 "cells": [
  {
   "cell_type": "markdown",
   "metadata": {},
   "source": [
    "<img style=\"float:left\" width=\"70%\" src=\"pics/escudo_COLOR_1L_DCHA.png\">\n",
    "<img style=\"float:right\" width=\"15%\" src=\"pics/PythonLogo.svg\">\n",
    "<br style=\"clear:both;\">\n",
    "\n",
    "# Reconocimiento de patrones. Parte I.\n",
    "\n",
    "# Ejemplo de clasificación con sólo dos clases. Base de datos *Diabetes* (*Diabetes dataset*)\n",
    "\n",
    "Este *Notebook* contiene el trabajo necesario para cargar el fichero *.csv* de la base de datos de **Kaggle** denominada *Diabetes dataset*.\n",
    "\n",
    "## Autor\n",
    "- Pedro Latorre Carmona\n",
    "\n",
    "## Curso 2024-2025"
   ]
  },
  {
   "cell_type": "markdown",
   "metadata": {},
   "source": [
    "**Kaggle** es, digamos, un repositorio, donde podemos encontrar bases de datos, así como diferentes tipos de métodos (código), para tareas que pueden ir desde la clasificación, regresión, por citar sólo dos ejemplos:\n",
    "\n",
    "https://www.kaggle.com/\n",
    "\n",
    "Dentro de **Kaggle**, vamos a trabajar con la base de datos *Diabetes*. Las carcaterísticas de la base de datos y su descarga se pueden encontrar en:\n",
    "\n",
    "https://www.kaggle.com/datasets/mathchi/diabetes-data-set\n",
    "\n",
    "La idea de esta práctica es poder crear una base de datos que permita establecer si hay o no diabetes, en base a los valores concretos de/en el vector de características."
   ]
  },
  {
   "cell_type": "markdown",
   "metadata": {
    "collapsed": true
   },
   "source": [
    "# Carga de la base de datos y aplicación de los métodos de clasificación\n"
   ]
  },
  {
   "cell_type": "code",
   "execution_count": 1,
   "metadata": {},
   "outputs": [],
   "source": [
    "'''\n",
    "Importación de librerías\n",
    "'''\n",
    "import pandas as pd\n",
    "import numpy as np\n",
    "import pickle\n",
    "import os\n",
    "\n",
    "from sklearn.datasets import make_classification\n",
    "from sklearn.pipeline import make_pipeline\n",
    "from sklearn.preprocessing import StandardScaler\n",
    "\n",
    "from sklearn.neural_network import MLPClassifier\n",
    "from sklearn.svm import SVC\n",
    "\n",
    "from sklearn.model_selection import cross_val_score, cross_val_predict, GridSearchCV\n",
    "from sklearn.pipeline import Pipeline"
   ]
  },
  {
   "cell_type": "code",
   "execution_count": 2,
   "metadata": {},
   "outputs": [],
   "source": [
    "'''\n",
    "Datos. Hay que establecer el \"path\"\n",
    "'''\n",
    "\n",
    "# path = \"./Diabetes\"\n",
    "\n",
    "\n",
    "# features_file = ..."
   ]
  },
  {
   "cell_type": "code",
   "execution_count": 3,
   "metadata": {},
   "outputs": [],
   "source": [
    "'''\n",
    "Hay que cargar el conjunto, con \"pd.read_csv\"\n",
    "'''\n",
    " \n",
    "# df = ..."
   ]
  },
  {
   "cell_type": "code",
   "execution_count": 4,
   "metadata": {},
   "outputs": [
    {
     "data": {
      "text/html": [
       "<div>\n",
       "<style scoped>\n",
       "    .dataframe tbody tr th:only-of-type {\n",
       "        vertical-align: middle;\n",
       "    }\n",
       "\n",
       "    .dataframe tbody tr th {\n",
       "        vertical-align: top;\n",
       "    }\n",
       "\n",
       "    .dataframe thead th {\n",
       "        text-align: right;\n",
       "    }\n",
       "</style>\n",
       "<table border=\"1\" class=\"dataframe\">\n",
       "  <thead>\n",
       "    <tr style=\"text-align: right;\">\n",
       "      <th></th>\n",
       "      <th>Pregnancies</th>\n",
       "      <th>Glucose</th>\n",
       "      <th>BloodPressure</th>\n",
       "      <th>SkinThickness</th>\n",
       "      <th>Insulin</th>\n",
       "      <th>BMI</th>\n",
       "      <th>DiabetesPedigreeFunction</th>\n",
       "      <th>Age</th>\n",
       "      <th>Outcome</th>\n",
       "    </tr>\n",
       "  </thead>\n",
       "  <tbody>\n",
       "    <tr>\n",
       "      <th>0</th>\n",
       "      <td>6</td>\n",
       "      <td>148</td>\n",
       "      <td>72</td>\n",
       "      <td>35</td>\n",
       "      <td>0</td>\n",
       "      <td>33.6</td>\n",
       "      <td>0.627</td>\n",
       "      <td>50</td>\n",
       "      <td>1</td>\n",
       "    </tr>\n",
       "    <tr>\n",
       "      <th>1</th>\n",
       "      <td>1</td>\n",
       "      <td>85</td>\n",
       "      <td>66</td>\n",
       "      <td>29</td>\n",
       "      <td>0</td>\n",
       "      <td>26.6</td>\n",
       "      <td>0.351</td>\n",
       "      <td>31</td>\n",
       "      <td>0</td>\n",
       "    </tr>\n",
       "    <tr>\n",
       "      <th>2</th>\n",
       "      <td>8</td>\n",
       "      <td>183</td>\n",
       "      <td>64</td>\n",
       "      <td>0</td>\n",
       "      <td>0</td>\n",
       "      <td>23.3</td>\n",
       "      <td>0.672</td>\n",
       "      <td>32</td>\n",
       "      <td>1</td>\n",
       "    </tr>\n",
       "    <tr>\n",
       "      <th>3</th>\n",
       "      <td>1</td>\n",
       "      <td>89</td>\n",
       "      <td>66</td>\n",
       "      <td>23</td>\n",
       "      <td>94</td>\n",
       "      <td>28.1</td>\n",
       "      <td>0.167</td>\n",
       "      <td>21</td>\n",
       "      <td>0</td>\n",
       "    </tr>\n",
       "    <tr>\n",
       "      <th>4</th>\n",
       "      <td>0</td>\n",
       "      <td>137</td>\n",
       "      <td>40</td>\n",
       "      <td>35</td>\n",
       "      <td>168</td>\n",
       "      <td>43.1</td>\n",
       "      <td>2.288</td>\n",
       "      <td>33</td>\n",
       "      <td>1</td>\n",
       "    </tr>\n",
       "    <tr>\n",
       "      <th>...</th>\n",
       "      <td>...</td>\n",
       "      <td>...</td>\n",
       "      <td>...</td>\n",
       "      <td>...</td>\n",
       "      <td>...</td>\n",
       "      <td>...</td>\n",
       "      <td>...</td>\n",
       "      <td>...</td>\n",
       "      <td>...</td>\n",
       "    </tr>\n",
       "    <tr>\n",
       "      <th>763</th>\n",
       "      <td>10</td>\n",
       "      <td>101</td>\n",
       "      <td>76</td>\n",
       "      <td>48</td>\n",
       "      <td>180</td>\n",
       "      <td>32.9</td>\n",
       "      <td>0.171</td>\n",
       "      <td>63</td>\n",
       "      <td>0</td>\n",
       "    </tr>\n",
       "    <tr>\n",
       "      <th>764</th>\n",
       "      <td>2</td>\n",
       "      <td>122</td>\n",
       "      <td>70</td>\n",
       "      <td>27</td>\n",
       "      <td>0</td>\n",
       "      <td>36.8</td>\n",
       "      <td>0.340</td>\n",
       "      <td>27</td>\n",
       "      <td>0</td>\n",
       "    </tr>\n",
       "    <tr>\n",
       "      <th>765</th>\n",
       "      <td>5</td>\n",
       "      <td>121</td>\n",
       "      <td>72</td>\n",
       "      <td>23</td>\n",
       "      <td>112</td>\n",
       "      <td>26.2</td>\n",
       "      <td>0.245</td>\n",
       "      <td>30</td>\n",
       "      <td>0</td>\n",
       "    </tr>\n",
       "    <tr>\n",
       "      <th>766</th>\n",
       "      <td>1</td>\n",
       "      <td>126</td>\n",
       "      <td>60</td>\n",
       "      <td>0</td>\n",
       "      <td>0</td>\n",
       "      <td>30.1</td>\n",
       "      <td>0.349</td>\n",
       "      <td>47</td>\n",
       "      <td>1</td>\n",
       "    </tr>\n",
       "    <tr>\n",
       "      <th>767</th>\n",
       "      <td>1</td>\n",
       "      <td>93</td>\n",
       "      <td>70</td>\n",
       "      <td>31</td>\n",
       "      <td>0</td>\n",
       "      <td>30.4</td>\n",
       "      <td>0.315</td>\n",
       "      <td>23</td>\n",
       "      <td>0</td>\n",
       "    </tr>\n",
       "  </tbody>\n",
       "</table>\n",
       "<p>768 rows × 9 columns</p>\n",
       "</div>"
      ],
      "text/plain": [
       "     Pregnancies  Glucose  BloodPressure  SkinThickness  Insulin   BMI  \\\n",
       "0              6      148             72             35        0  33.6   \n",
       "1              1       85             66             29        0  26.6   \n",
       "2              8      183             64              0        0  23.3   \n",
       "3              1       89             66             23       94  28.1   \n",
       "4              0      137             40             35      168  43.1   \n",
       "..           ...      ...            ...            ...      ...   ...   \n",
       "763           10      101             76             48      180  32.9   \n",
       "764            2      122             70             27        0  36.8   \n",
       "765            5      121             72             23      112  26.2   \n",
       "766            1      126             60              0        0  30.1   \n",
       "767            1       93             70             31        0  30.4   \n",
       "\n",
       "     DiabetesPedigreeFunction  Age  Outcome  \n",
       "0                       0.627   50        1  \n",
       "1                       0.351   31        0  \n",
       "2                       0.672   32        1  \n",
       "3                       0.167   21        0  \n",
       "4                       2.288   33        1  \n",
       "..                        ...  ...      ...  \n",
       "763                     0.171   63        0  \n",
       "764                     0.340   27        0  \n",
       "765                     0.245   30        0  \n",
       "766                     0.349   47        1  \n",
       "767                     0.315   23        0  \n",
       "\n",
       "[768 rows x 9 columns]"
      ]
     },
     "metadata": {},
     "output_type": "display_data"
    }
   ],
   "source": [
    "display(df)"
   ]
  },
  {
   "cell_type": "code",
   "execution_count": 5,
   "metadata": {},
   "outputs": [],
   "source": [
    "# Eliminación de las filas que contengan valores \"N. A.\"\n",
    "\n",
    "df=df.dropna()"
   ]
  },
  {
   "cell_type": "code",
   "execution_count": 6,
   "metadata": {},
   "outputs": [],
   "source": [
    "'''\n",
    "Hay que crear los conjuntos X e y.\n",
    "'''\n",
    "\n",
    "y = df.Outcome.values.astype(int)\n",
    "\n",
    "\n",
    "#caract_cols = [...]\n",
    "\n",
    "# X_all = ..."
   ]
  },
  {
   "cell_type": "code",
   "execution_count": 7,
   "metadata": {},
   "outputs": [
    {
     "name": "stdout",
     "output_type": "stream",
     "text": [
      "(768, 8)\n"
     ]
    }
   ],
   "source": [
    "print(X_all.shape)"
   ]
  },
  {
   "cell_type": "code",
   "execution_count": 8,
   "metadata": {},
   "outputs": [],
   "source": [
    "'''\n",
    "List of datasets and their names included in the experimental study\n",
    "'''\n",
    "\n",
    "datasets = [(X_all,y)]\n",
    "dataset_names = [\"Data All\"]"
   ]
  },
  {
   "cell_type": "code",
   "execution_count": 9,
   "metadata": {},
   "outputs": [
    {
     "name": "stdout",
     "output_type": "stream",
     "text": [
      "(768,)\n"
     ]
    }
   ],
   "source": [
    "print(y.shape)"
   ]
  },
  {
   "cell_type": "code",
   "execution_count": 10,
   "metadata": {},
   "outputs": [
    {
     "name": "stdout",
     "output_type": "stream",
     "text": [
      "[[  6.    148.     72.    ...  33.6     0.627  50.   ]\n",
      " [  1.     85.     66.    ...  26.6     0.351  31.   ]\n",
      " [  8.    183.     64.    ...  23.3     0.672  32.   ]\n",
      " ...\n",
      " [  5.    121.     72.    ...  26.2     0.245  30.   ]\n",
      " [  1.    126.     60.    ...  30.1     0.349  47.   ]\n",
      " [  1.     93.     70.    ...  30.4     0.315  23.   ]]\n"
     ]
    }
   ],
   "source": [
    "print(X_all)"
   ]
  },
  {
   "cell_type": "code",
   "execution_count": 11,
   "metadata": {},
   "outputs": [
    {
     "name": "stdout",
     "output_type": "stream",
     "text": [
      "[1 0 1 0 1 0 1 0 1 1 0 1 0 1 1 1 1 1 0 1 0 0 1 1 1 1 1 0 0 0 0 1 0 0 0 0 0\n",
      " 1 1 1 0 0 0 1 0 1 0 0 1 0 0 0 0 1 0 0 1 0 0 0 0 1 0 0 1 0 1 0 0 0 1 0 1 0\n",
      " 0 0 0 0 1 0 0 0 0 0 1 0 0 0 1 0 0 0 0 1 0 0 0 0 0 1 1 0 0 0 0 0 0 0 0 1 1\n",
      " 1 0 0 1 1 1 0 0 0 1 0 0 0 1 1 0 0 1 1 1 1 1 0 0 0 0 0 0 0 0 0 0 1 0 0 0 0\n",
      " 0 0 0 0 1 0 1 1 0 0 0 1 0 0 0 0 1 1 0 0 0 0 1 1 0 0 0 1 0 1 0 1 0 0 0 0 0\n",
      " 1 1 1 1 1 0 0 1 1 0 1 0 1 1 1 0 0 0 0 0 0 1 1 0 1 0 0 0 1 1 1 1 0 1 1 1 1\n",
      " 0 0 0 0 0 1 0 0 1 1 0 0 0 1 1 1 1 0 0 0 1 1 0 1 0 0 0 0 0 0 0 0 1 1 0 0 0\n",
      " 1 0 1 0 0 1 0 1 0 0 1 1 0 0 0 0 0 1 0 0 0 1 0 0 1 1 0 0 1 0 0 0 1 1 1 0 0\n",
      " 1 0 1 0 1 1 0 1 0 0 1 0 1 1 0 0 1 0 1 0 0 1 0 1 0 1 1 1 0 0 1 0 1 0 0 0 1\n",
      " 0 0 0 0 1 1 1 0 0 0 0 0 0 0 0 0 1 0 0 0 0 0 1 1 1 0 1 1 0 0 1 0 0 1 0 0 1\n",
      " 1 0 0 0 0 1 0 0 1 0 0 0 0 0 0 0 1 1 1 0 0 1 0 0 1 0 0 1 0 1 1 0 1 0 1 0 1\n",
      " 0 1 1 0 0 0 0 1 1 0 1 0 1 0 0 0 0 1 1 0 1 0 1 0 0 0 0 0 1 0 0 0 0 1 0 0 1\n",
      " 1 1 0 0 1 0 0 1 0 0 0 1 0 0 1 0 0 0 0 0 0 0 0 0 1 0 0 0 0 0 0 0 1 0 0 0 1\n",
      " 0 0 0 1 1 0 0 0 0 0 0 0 1 0 0 0 0 1 0 0 0 1 0 0 0 1 0 0 0 1 0 0 0 0 1 1 0\n",
      " 0 0 0 0 0 1 0 0 0 0 0 0 0 0 0 0 0 1 0 0 0 1 1 1 1 0 0 1 1 0 0 0 0 0 0 0 0\n",
      " 0 0 0 0 0 1 1 0 0 0 0 0 0 0 1 0 0 0 0 0 0 0 1 0 1 1 0 0 0 1 0 1 0 1 0 1 0\n",
      " 1 0 0 1 0 0 1 0 0 0 0 1 1 0 1 0 0 0 0 1 1 0 1 0 0 0 1 1 0 0 0 0 0 0 0 0 0\n",
      " 0 1 0 0 0 0 1 0 0 1 0 0 0 1 0 0 0 1 1 1 0 0 0 0 0 0 1 0 0 0 1 0 1 1 1 1 0\n",
      " 1 1 0 0 0 0 0 0 0 1 1 0 1 0 0 1 0 1 0 0 0 0 0 1 0 1 0 1 0 1 1 0 0 0 0 1 1\n",
      " 0 0 0 1 0 1 1 0 0 1 0 0 1 1 0 0 1 0 0 1 0 0 0 0 0 0 0 1 1 1 0 0 0 0 0 0 1\n",
      " 1 0 0 1 0 0 1 0 1 1 1 0 0 1 1 1 0 1 0 1 0 1 0 0 0 0 1 0]\n"
     ]
    }
   ],
   "source": [
    "print(y)"
   ]
  },
  {
   "cell_type": "code",
   "execution_count": 12,
   "metadata": {},
   "outputs": [],
   "source": [
    "'''\n",
    "Definición del espacio de búsqueda de SVM\n",
    "'''\n",
    "# C_range = ...\n",
    "# gamma_range = ...\n",
    "# param_grid_svm = dict(gamma=..., C=...)\n",
    "# nested_cv = 5\n",
    "\n",
    "# grid_svm = GridSearchCV(SVC(), param_grid=param_grid_svm, cv=nested_cv)"
   ]
  },
  {
   "cell_type": "code",
   "execution_count": 13,
   "metadata": {},
   "outputs": [
    {
     "data": {
      "text/plain": [
       "(array([1.00000000e-05, 5.17947468e-05, 2.68269580e-04, 1.38949549e-03,\n",
       "        7.19685673e-03, 3.72759372e-02, 1.93069773e-01, 1.00000000e+00,\n",
       "        5.17947468e+00, 2.68269580e+01, 1.38949549e+02, 7.19685673e+02,\n",
       "        3.72759372e+03, 1.93069773e+04, 1.00000000e+05]),\n",
       " array([1.00000000e-05, 5.17947468e-05, 2.68269580e-04, 1.38949549e-03,\n",
       "        7.19685673e-03, 3.72759372e-02, 1.93069773e-01, 1.00000000e+00,\n",
       "        5.17947468e+00, 2.68269580e+01, 1.38949549e+02, 7.19685673e+02,\n",
       "        3.72759372e+03, 1.93069773e+04, 1.00000000e+05]))"
      ]
     },
     "execution_count": 13,
     "metadata": {},
     "output_type": "execute_result"
    }
   ],
   "source": [
    "# Show the range of values to be explored\n",
    "C_range,gamma_range"
   ]
  },
  {
   "cell_type": "code",
   "execution_count": 14,
   "metadata": {},
   "outputs": [],
   "source": [
    "'''\n",
    "Definition of the MLP parameter search\n",
    "'''\n",
    "alpha_range = np.logspace(-5, -1, 5)\n",
    "hidden_layer_sizes_range=[(50,),(100,),(200,),(500,),(1000,)]\n",
    "\n",
    "param_grid_mlp = dict(alpha=alpha_range, hidden_layer_sizes=hidden_layer_sizes_range)\n",
    "\n",
    "\n",
    "grid_mlp = GridSearchCV(MLPClassifier(max_iter=1000,\n",
    "                                      early_stopping=True), param_grid=param_grid_mlp, cv=nested_cv)"
   ]
  },
  {
   "cell_type": "code",
   "execution_count": 15,
   "metadata": {},
   "outputs": [],
   "source": [
    "'''\n",
    "List of classifiers and their names included in the experimental study\n",
    "'''\n",
    "\n",
    "cls_names = [\"SVM\",\"MLP\"]\n",
    "\n",
    "classifiers = [\n",
    "    make_pipeline(StandardScaler(), grid_svm),\n",
    "    make_pipeline(StandardScaler(), grid_mlp)]"
   ]
  },
  {
   "cell_type": "code",
   "execution_count": 16,
   "metadata": {},
   "outputs": [],
   "source": [
    "# Method that runs the classifiers and returns the labels give for the test set\n",
    "\n",
    "from sklearn.model_selection import train_test_split\n",
    "\n",
    "def predictions(model,X_train,y_train,X_test,y_test):    \n",
    "    \n",
    "    model.fit(X_train,y_train)\n",
    "    y_pred = model.predict(X_test)\n",
    "    \n",
    "    return y_test, y_pred"
   ]
  },
  {
   "cell_type": "code",
   "execution_count": 17,
   "metadata": {},
   "outputs": [],
   "source": [
    "def predictions_model(X_train,y_train,X_test, y_test,model):\n",
    "        '''\n",
    "        Predictions with a model and a dataset (X and y), to later obtain the measurements \n",
    "        you want\n",
    "        \n",
    "        Parameters\n",
    "        ----------\n",
    "        X: numpy.array\n",
    "            Dataset (features)\n",
    "        Y: numpy.array\n",
    "            Dataset (Target)\n",
    "        model: scikit_model\n",
    "            model to be trained\n",
    "        num_folds: int\n",
    "            number of folds in the cross validation\n",
    "        \n",
    "        Return\n",
    "        -------\n",
    "        array \n",
    "            array of prediccions obtained using cross_validation\n",
    "        '''\n",
    "        print('\\t'+str(model)[:20], end=' - ')\n",
    "        y_test,preds = predictions(model,X_train,y_train,X_test,y_test)\n",
    "        print('OK')\n",
    "        \n",
    "        return y_test,preds"
   ]
  },
  {
   "cell_type": "code",
   "execution_count": 18,
   "metadata": {},
   "outputs": [],
   "source": [
    "from sklearn.model_selection import train_test_split\n",
    "\n",
    "def run_all_save(filename):\n",
    "    '''\n",
    "    Perform cross validation with all models and datasets.\n",
    "        \n",
    "        \n",
    "    Parameters\n",
    "    ----------\n",
    "    num_folds: int\n",
    "        number of folds in the cross validation\n",
    "    filename: string\n",
    "        name of the file that stores the predictions obtained using crossvalidation\n",
    "        \n",
    "        \n",
    "    El par X_train, y_train son los atributos y clases del conjunto de entrenamiento (70% de los ejemplos)\n",
    "    El par X_test, y_test son los atributos y clases del conjunto de test (30% de los ejemplos)\n",
    "\n",
    "    stratify (estratificar) significa que se quiere que haya la misma proporcion de cada una de las clases\n",
    "    tanto en entrenamiento como en test, es decir, no es una partición completamente aleatoria.\n",
    "    \n",
    "    ''' \n",
    "    \n",
    "    all_preds = {}\n",
    "\n",
    "    for dataset,dataset_name in zip(datasets, dataset_names):\n",
    "        print(dataset_name)\n",
    "        X,y = dataset\n",
    "        \n",
    "        # X_train, X_test, y_train, y_test = train_test_split(....)\n",
    "\n",
    "        for model,cls_name in zip(classifiers,cls_names):\n",
    "            print(cls_name)\n",
    "            y_test,preds = predictions_model(X_train,y_train,X_test,y_test,model)\n",
    "            all_preds[(dataset_name,cls_name)]=(y_test,preds)\n",
    "\n",
    "    all_preds[\"cls_names\"]=cls_names\n",
    "    all_preds[\"dataset_names\"]=dataset_names\n",
    "\n",
    "    with open(filename, 'wb') as fp:\n",
    "         pickle.dump(all_preds, fp)   "
   ]
  },
  {
   "cell_type": "code",
   "execution_count": 19,
   "metadata": {},
   "outputs": [],
   "source": [
    "'''\n",
    "All the predictions are going to be saved in a Python dictionary for \n",
    "further analysis.\n",
    "'''\n",
    "\n",
    "filename = 'predicciones.obj'"
   ]
  },
  {
   "cell_type": "code",
   "execution_count": 20,
   "metadata": {},
   "outputs": [
    {
     "name": "stdout",
     "output_type": "stream",
     "text": [
      "Data All\n",
      "SVM\n",
      "\tPipeline(steps=[('st - OK\n",
      "MLP\n",
      "\tPipeline(steps=[('st - OK\n"
     ]
    }
   ],
   "source": [
    "# Run the experiments\n",
    "\n",
    "run_all_save(filename)"
   ]
  },
  {
   "cell_type": "markdown",
   "metadata": {},
   "source": [
    "# Exploring the results\n",
    "\n",
    "If the experiments have been done previously, you only need to execute from this part.\n",
    "\n",
    "The results are going to be loaded from the hard disk"
   ]
  },
  {
   "cell_type": "code",
   "execution_count": 21,
   "metadata": {},
   "outputs": [],
   "source": [
    "import pickle\n",
    "import pandas as pd\n",
    "\n",
    "from sklearn.metrics import classification_report\n",
    "from sklearn.metrics import accuracy_score\n",
    "from sklearn.metrics import confusion_matrix\n",
    "import numpy as np"
   ]
  },
  {
   "cell_type": "code",
   "execution_count": 22,
   "metadata": {},
   "outputs": [],
   "source": [
    "'''\n",
    "    Create a confusion matrix in a DataFrame\n",
    "'''\n",
    "\n",
    "def evalua(y_test, y_pred):\n",
    "    \n",
    "    # COMPLETA"
   ]
  },
  {
   "cell_type": "code",
   "execution_count": 23,
   "metadata": {},
   "outputs": [],
   "source": [
    "def conf_mat_df(cm,labels):\n",
    "    '''\n",
    "    Create a confusion matrix in a DataFrame\n",
    "        \n",
    "        \n",
    "    Parameters\n",
    "    ----------\n",
    "    cm: ndarray 2D\n",
    "        confusion matrix\n",
    "    labels: list\n",
    "        List of class names\n",
    "        \n",
    "    Return DataFrame\n",
    "    -------\n",
    "    \n",
    "    ''' \n",
    "\n",
    "    return (pd.DataFrame(cm,index=labels, columns=labels)\n",
    "          .rename_axis(\"actual\")\n",
    "          .rename_axis(\"predicted\", axis=1))"
   ]
  },
  {
   "cell_type": "code",
   "execution_count": 24,
   "metadata": {},
   "outputs": [],
   "source": [
    "def get_results(filename):\n",
    "    '''\n",
    "    Load the file with the predictions.\n",
    "    Compute accuracy, confusion matrix and other measures.\n",
    "        \n",
    "        \n",
    "    Parameters\n",
    "    ----------\n",
    "    filename: string\n",
    "        name of the file that stores the predictions obtained using crossvalidation\n",
    "        \n",
    "    Return\n",
    "    dictionary\n",
    "        A dictionary of key:values that asociates the name\n",
    "        of a measure or chart with the value\n",
    "    -------\n",
    "    \n",
    "    ''' \n",
    "\n",
    "    with open(filename, 'rb') as fp:\n",
    "        all_preds = pickle.load(fp)\n",
    "\n",
    "    cls_names = all_preds.pop(\"cls_names\")\n",
    "    dataset_names = all_preds.pop(\"dataset_names\")\n",
    "\n",
    "    data_cls_pairs = list(all_preds.keys())\n",
    "    data_cls_pairs.sort()\n",
    "\n",
    "    results = {}\n",
    "\n",
    "\n",
    "    acc_df = pd.DataFrame(index=dataset_names, columns=cls_names)\n",
    "\n",
    "    ## A DataFrame is created to store the accuracy in each clase\n",
    "    for dataset in dataset_names:\n",
    "        results[(dataset,\"acc\")] = pd.DataFrame(columns=cls_names)\n",
    "\n",
    "\n",
    "    for dataset_name,cls_name in data_cls_pairs:\n",
    "\n",
    "        #print(dataset_name,cls_name)\n",
    "        y_true, y_pred = all_preds[(dataset_name,cls_name)]\n",
    "        labels = list(np.unique(y_true))\n",
    "\n",
    "        acc = evalua(y_true, y_pred)\n",
    "        # Fill accuracy dataframe\n",
    "        acc_df.at[dataset_name,cls_name]=acc\n",
    "\n",
    "        # Get conf_mat\n",
    "        cm = confusion_matrix(y_true, y_pred)\n",
    "        cm_df = conf_mat_df(cm,labels)\n",
    "        results[(dataset_name,cls_name,\"cm\")] = cm_df\n",
    "        \n",
    "        # Get classification report\n",
    "        report = classification_report(y_true, y_pred, output_dict=True)\n",
    "        report_df = pd.DataFrame(report).transpose()\n",
    "        results[(dataset_name,cls_name,\"report\")] = report_df\n",
    "\n",
    "        # Acc per class\n",
    "        cm_dig = cm.astype('float') / cm.sum(axis=1)[:, np.newaxis]\n",
    "        cm_dig = cm_dig.diagonal()\n",
    "\n",
    "        dfi = results[(dataset_name,\"acc\")]\n",
    "        dfi[cls_name]=pd.Series(cm_dig,labels)    \n",
    "        results[(dataset_name,\"acc\")]=dfi.copy()\n",
    "\n",
    "\n",
    "    results[\"Acc\"] = acc_df\n",
    "    return results\n",
    "        \n",
    "        \n",
    "results = get_results(filename)"
   ]
  },
  {
   "cell_type": "code",
   "execution_count": 25,
   "metadata": {},
   "outputs": [],
   "source": [
    "df_total = results[\"Acc\"].astype(float)\n",
    "df_conf = results[(\"Data All\",\"SVM\",\"cm\")].astype(float)\n",
    "df_report = results[(\"Data All\",\"SVM\",\"report\")].astype(float)"
   ]
  },
  {
   "cell_type": "code",
   "execution_count": 26,
   "metadata": {},
   "outputs": [
    {
     "data": {
      "text/html": [
       "<div>\n",
       "<style scoped>\n",
       "    .dataframe tbody tr th:only-of-type {\n",
       "        vertical-align: middle;\n",
       "    }\n",
       "\n",
       "    .dataframe tbody tr th {\n",
       "        vertical-align: top;\n",
       "    }\n",
       "\n",
       "    .dataframe thead th {\n",
       "        text-align: right;\n",
       "    }\n",
       "</style>\n",
       "<table border=\"1\" class=\"dataframe\">\n",
       "  <thead>\n",
       "    <tr style=\"text-align: right;\">\n",
       "      <th></th>\n",
       "      <th>SVM</th>\n",
       "      <th>MLP</th>\n",
       "    </tr>\n",
       "  </thead>\n",
       "  <tbody>\n",
       "    <tr>\n",
       "      <th>Data All</th>\n",
       "      <td>0.786458</td>\n",
       "      <td>0.671875</td>\n",
       "    </tr>\n",
       "  </tbody>\n",
       "</table>\n",
       "</div>"
      ],
      "text/plain": [
       "               SVM       MLP\n",
       "Data All  0.786458  0.671875"
      ]
     },
     "execution_count": 26,
     "metadata": {},
     "output_type": "execute_result"
    }
   ],
   "source": [
    "df_total"
   ]
  },
  {
   "cell_type": "code",
   "execution_count": 27,
   "metadata": {},
   "outputs": [
    {
     "data": {
      "text/html": [
       "<div>\n",
       "<style scoped>\n",
       "    .dataframe tbody tr th:only-of-type {\n",
       "        vertical-align: middle;\n",
       "    }\n",
       "\n",
       "    .dataframe tbody tr th {\n",
       "        vertical-align: top;\n",
       "    }\n",
       "\n",
       "    .dataframe thead th {\n",
       "        text-align: right;\n",
       "    }\n",
       "</style>\n",
       "<table border=\"1\" class=\"dataframe\">\n",
       "  <thead>\n",
       "    <tr style=\"text-align: right;\">\n",
       "      <th>predicted</th>\n",
       "      <th>0</th>\n",
       "      <th>1</th>\n",
       "    </tr>\n",
       "    <tr>\n",
       "      <th>actual</th>\n",
       "      <th></th>\n",
       "      <th></th>\n",
       "    </tr>\n",
       "  </thead>\n",
       "  <tbody>\n",
       "    <tr>\n",
       "      <th>0</th>\n",
       "      <td>231.0</td>\n",
       "      <td>19.0</td>\n",
       "    </tr>\n",
       "    <tr>\n",
       "      <th>1</th>\n",
       "      <td>63.0</td>\n",
       "      <td>71.0</td>\n",
       "    </tr>\n",
       "  </tbody>\n",
       "</table>\n",
       "</div>"
      ],
      "text/plain": [
       "predicted      0     1\n",
       "actual                \n",
       "0          231.0  19.0\n",
       "1           63.0  71.0"
      ]
     },
     "execution_count": 27,
     "metadata": {},
     "output_type": "execute_result"
    }
   ],
   "source": [
    "df_conf"
   ]
  },
  {
   "cell_type": "code",
   "execution_count": 28,
   "metadata": {},
   "outputs": [
    {
     "data": {
      "text/html": [
       "<div>\n",
       "<style scoped>\n",
       "    .dataframe tbody tr th:only-of-type {\n",
       "        vertical-align: middle;\n",
       "    }\n",
       "\n",
       "    .dataframe tbody tr th {\n",
       "        vertical-align: top;\n",
       "    }\n",
       "\n",
       "    .dataframe thead th {\n",
       "        text-align: right;\n",
       "    }\n",
       "</style>\n",
       "<table border=\"1\" class=\"dataframe\">\n",
       "  <thead>\n",
       "    <tr style=\"text-align: right;\">\n",
       "      <th></th>\n",
       "      <th>precision</th>\n",
       "      <th>recall</th>\n",
       "      <th>f1-score</th>\n",
       "    </tr>\n",
       "  </thead>\n",
       "  <tbody>\n",
       "    <tr>\n",
       "      <th>0</th>\n",
       "      <td>0.7857</td>\n",
       "      <td>0.9240</td>\n",
       "      <td>0.8493</td>\n",
       "    </tr>\n",
       "    <tr>\n",
       "      <th>1</th>\n",
       "      <td>0.7889</td>\n",
       "      <td>0.5299</td>\n",
       "      <td>0.6339</td>\n",
       "    </tr>\n",
       "    <tr>\n",
       "      <th>accuracy</th>\n",
       "      <td>0.7865</td>\n",
       "      <td>0.7865</td>\n",
       "      <td>0.7865</td>\n",
       "    </tr>\n",
       "    <tr>\n",
       "      <th>macro avg</th>\n",
       "      <td>0.7873</td>\n",
       "      <td>0.7269</td>\n",
       "      <td>0.7416</td>\n",
       "    </tr>\n",
       "    <tr>\n",
       "      <th>weighted avg</th>\n",
       "      <td>0.7868</td>\n",
       "      <td>0.7865</td>\n",
       "      <td>0.7741</td>\n",
       "    </tr>\n",
       "  </tbody>\n",
       "</table>\n",
       "</div>"
      ],
      "text/plain": [
       "              precision  recall  f1-score\n",
       "0                0.7857  0.9240    0.8493\n",
       "1                0.7889  0.5299    0.6339\n",
       "accuracy         0.7865  0.7865    0.7865\n",
       "macro avg        0.7873  0.7269    0.7416\n",
       "weighted avg     0.7868  0.7865    0.7741"
      ]
     },
     "execution_count": 28,
     "metadata": {},
     "output_type": "execute_result"
    }
   ],
   "source": [
    "df_report.round(4)[[\"precision\",\"recall\",\"f1-score\"]]"
   ]
  },
  {
   "cell_type": "code",
   "execution_count": null,
   "metadata": {},
   "outputs": [],
   "source": []
  }
 ],
 "metadata": {
  "kernelspec": {
   "display_name": "Python 3",
   "language": "python",
   "name": "python3"
  },
  "language_info": {
   "codemirror_mode": {
    "name": "ipython",
    "version": 3
   },
   "file_extension": ".py",
   "mimetype": "text/x-python",
   "name": "python",
   "nbconvert_exporter": "python",
   "pygments_lexer": "ipython3",
   "version": "3.8.8"
  }
 },
 "nbformat": 4,
 "nbformat_minor": 2
}
