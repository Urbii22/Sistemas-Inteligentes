{
 "cells": [
  {
   "cell_type": "markdown",
   "metadata": {},
   "source": [
    "<img style=\"float:left\" width=\"70%\" src=\"pics/escudo_COLOR_1L_DCHA.png\">\n",
    "<img style=\"float:right\" width=\"15%\" src=\"pics/PythonLogo.svg\">\n",
    "<br style=\"clear:both;\">\n",
    "\n",
    "# Reconocimiento de patrones. Parte I.\n",
    "\n",
    "# Ejemplo de clasificación con sólo dos clases. Base de datos *Diabetes* (*Diabetes dataset*)\n",
    "\n",
    "Este *Notebook* contiene el trabajo necesario para cargar el fichero *.csv* de la base de datos de **Kaggle** denominada *Diabetes dataset*.\n",
    "\n",
    "## Autor\n",
    "- Pedro Latorre Carmona\n",
    "\n",
    "## Curso 2024-2025"
   ]
  },
  {
   "cell_type": "markdown",
   "metadata": {},
   "source": [
    "**Kaggle** es, digamos, un repositorio, donde podemos encontrar bases de datos, así como diferentes tipos de métodos (código), para tareas que pueden ir desde la clasificación, regresión, por citar sólo dos ejemplos:\n",
    "\n",
    "https://www.kaggle.com/\n",
    "\n",
    "Dentro de **Kaggle**, vamos a trabajar con la base de datos *Diabetes*. Las carcaterísticas de la base de datos y su descarga se pueden encontrar en:\n",
    "\n",
    "https://www.kaggle.com/datasets/mathchi/diabetes-data-set\n",
    "\n",
    "La idea de esta práctica es poder crear una base de datos que permita establecer si hay o no diabetes, en base a los valores concretos de/en el vector de características."
   ]
  },
  {
   "cell_type": "markdown",
   "metadata": {
    "collapsed": true
   },
   "source": [
    "# Carga de la base de datos y aplicación de los métodos de clasificación\n"
   ]
  },
  {
   "cell_type": "code",
   "execution_count": 22,
   "metadata": {},
   "outputs": [
    {
     "name": "stdout",
     "output_type": "stream",
     "text": [
      "Requirement already satisfied: bottleneck in c:\\users\\urban\\appdata\\local\\programs\\python\\python311\\lib\\site-packages (1.4.2)\n",
      "Requirement already satisfied: numpy in c:\\users\\urban\\appdata\\local\\programs\\python\\python311\\lib\\site-packages (from bottleneck) (2.1.3)\n",
      "Note: you may need to restart the kernel to use updated packages.\n"
     ]
    },
    {
     "name": "stderr",
     "output_type": "stream",
     "text": [
      "\n",
      "[notice] A new release of pip available: 22.3.1 -> 24.3.1\n",
      "[notice] To update, run: python.exe -m pip install --upgrade pip\n"
     ]
    },
    {
     "name": "stdout",
     "output_type": "stream",
     "text": [
      "Requirement already satisfied: seaborn in c:\\users\\urban\\appdata\\local\\programs\\python\\python311\\lib\\site-packages (0.13.2)Note: you may need to restart the kernel to use updated packages.\n",
      "\n",
      "Requirement already satisfied: numpy!=1.24.0,>=1.20 in c:\\users\\urban\\appdata\\local\\programs\\python\\python311\\lib\\site-packages (from seaborn) (2.1.3)\n",
      "Requirement already satisfied: pandas>=1.2 in c:\\users\\urban\\appdata\\local\\programs\\python\\python311\\lib\\site-packages (from seaborn) (2.2.3)\n",
      "Requirement already satisfied: matplotlib!=3.6.1,>=3.4 in c:\\users\\urban\\appdata\\local\\programs\\python\\python311\\lib\\site-packages (from seaborn) (3.9.2)\n",
      "Requirement already satisfied: contourpy>=1.0.1 in c:\\users\\urban\\appdata\\local\\programs\\python\\python311\\lib\\site-packages (from matplotlib!=3.6.1,>=3.4->seaborn) (1.3.1)\n",
      "Requirement already satisfied: cycler>=0.10 in c:\\users\\urban\\appdata\\local\\programs\\python\\python311\\lib\\site-packages (from matplotlib!=3.6.1,>=3.4->seaborn) (0.12.1)\n",
      "Requirement already satisfied: fonttools>=4.22.0 in c:\\users\\urban\\appdata\\local\\programs\\python\\python311\\lib\\site-packages (from matplotlib!=3.6.1,>=3.4->seaborn) (4.55.0)\n",
      "Requirement already satisfied: kiwisolver>=1.3.1 in c:\\users\\urban\\appdata\\local\\programs\\python\\python311\\lib\\site-packages (from matplotlib!=3.6.1,>=3.4->seaborn) (1.4.7)\n",
      "Requirement already satisfied: packaging>=20.0 in c:\\users\\urban\\appdata\\roaming\\python\\python311\\site-packages (from matplotlib!=3.6.1,>=3.4->seaborn) (24.2)\n",
      "Requirement already satisfied: pillow>=8 in c:\\users\\urban\\appdata\\local\\programs\\python\\python311\\lib\\site-packages (from matplotlib!=3.6.1,>=3.4->seaborn) (11.0.0)\n",
      "Requirement already satisfied: pyparsing>=2.3.1 in c:\\users\\urban\\appdata\\local\\programs\\python\\python311\\lib\\site-packages (from matplotlib!=3.6.1,>=3.4->seaborn) (3.2.0)\n",
      "Requirement already satisfied: python-dateutil>=2.7 in c:\\users\\urban\\appdata\\roaming\\python\\python311\\site-packages (from matplotlib!=3.6.1,>=3.4->seaborn) (2.9.0.post0)\n",
      "Requirement already satisfied: pytz>=2020.1 in c:\\users\\urban\\appdata\\local\\programs\\python\\python311\\lib\\site-packages (from pandas>=1.2->seaborn) (2024.2)\n",
      "Requirement already satisfied: tzdata>=2022.7 in c:\\users\\urban\\appdata\\local\\programs\\python\\python311\\lib\\site-packages (from pandas>=1.2->seaborn) (2024.2)\n",
      "Requirement already satisfied: six>=1.5 in c:\\users\\urban\\appdata\\roaming\\python\\python311\\site-packages (from python-dateutil>=2.7->matplotlib!=3.6.1,>=3.4->seaborn) (1.16.0)\n"
     ]
    },
    {
     "name": "stderr",
     "output_type": "stream",
     "text": [
      "\n",
      "[notice] A new release of pip available: 22.3.1 -> 24.3.1\n",
      "[notice] To update, run: python.exe -m pip install --upgrade pip\n"
     ]
    }
   ],
   "source": [
    "%pip install --upgrade bottleneck\n",
    "%pip install seaborn\n"
   ]
  },
  {
   "cell_type": "code",
   "execution_count": 23,
   "metadata": {},
   "outputs": [],
   "source": [
    "'''\n",
    "Importación de librerías\n",
    "'''\n",
    "import pandas as pd\n",
    "import numpy as np\n",
    "import pickle\n",
    "import os\n",
    "\n",
    "import matplotlib.pyplot as plt\n",
    "\n",
    "from sklearn.datasets import make_classification\n",
    "from sklearn.pipeline import make_pipeline\n",
    "from sklearn.preprocessing import StandardScaler\n",
    "\n",
    "from sklearn.neural_network import MLPClassifier\n",
    "from sklearn.svm import SVC\n",
    "\n",
    "from sklearn.model_selection import cross_val_score, cross_val_predict, GridSearchCV\n",
    "from sklearn.pipeline import Pipeline\n",
    "\n",
    "from sklearn.metrics import confusion_matrix, classification_report, accuracy_score\n",
    "\n",
    "\n",
    "from sklearn.ensemble import RandomForestClassifier\n",
    "\n",
    "\n"
   ]
  },
  {
   "cell_type": "code",
   "execution_count": 24,
   "metadata": {},
   "outputs": [],
   "source": [
    "'''\n",
    "Datos. Hay que establecer el \"path\"\n",
    "'''\n",
    "\n",
    "path = \"./Diabetes\"\n",
    "\n",
    "\n",
    "features_file = os.path.join(path, \"diabetes_dataset.csv\")"
   ]
  },
  {
   "cell_type": "code",
   "execution_count": 25,
   "metadata": {},
   "outputs": [],
   "source": [
    "'''\n",
    "Hay que cargar el conjunto, con \"pd.read_csv\"\n",
    "'''\n",
    " \n",
    "df = pd.read_csv(features_file)"
   ]
  },
  {
   "cell_type": "code",
   "execution_count": 26,
   "metadata": {},
   "outputs": [
    {
     "data": {
      "text/html": [
       "<div>\n",
       "<style scoped>\n",
       "    .dataframe tbody tr th:only-of-type {\n",
       "        vertical-align: middle;\n",
       "    }\n",
       "\n",
       "    .dataframe tbody tr th {\n",
       "        vertical-align: top;\n",
       "    }\n",
       "\n",
       "    .dataframe thead th {\n",
       "        text-align: right;\n",
       "    }\n",
       "</style>\n",
       "<table border=\"1\" class=\"dataframe\">\n",
       "  <thead>\n",
       "    <tr style=\"text-align: right;\">\n",
       "      <th></th>\n",
       "      <th>Pregnancies</th>\n",
       "      <th>Glucose</th>\n",
       "      <th>BloodPressure</th>\n",
       "      <th>SkinThickness</th>\n",
       "      <th>Insulin</th>\n",
       "      <th>BMI</th>\n",
       "      <th>DiabetesPedigreeFunction</th>\n",
       "      <th>Age</th>\n",
       "      <th>Outcome</th>\n",
       "    </tr>\n",
       "  </thead>\n",
       "  <tbody>\n",
       "    <tr>\n",
       "      <th>0</th>\n",
       "      <td>6</td>\n",
       "      <td>148</td>\n",
       "      <td>72</td>\n",
       "      <td>35</td>\n",
       "      <td>0</td>\n",
       "      <td>33.6</td>\n",
       "      <td>0.627</td>\n",
       "      <td>50</td>\n",
       "      <td>1</td>\n",
       "    </tr>\n",
       "    <tr>\n",
       "      <th>1</th>\n",
       "      <td>1</td>\n",
       "      <td>85</td>\n",
       "      <td>66</td>\n",
       "      <td>29</td>\n",
       "      <td>0</td>\n",
       "      <td>26.6</td>\n",
       "      <td>0.351</td>\n",
       "      <td>31</td>\n",
       "      <td>0</td>\n",
       "    </tr>\n",
       "    <tr>\n",
       "      <th>2</th>\n",
       "      <td>8</td>\n",
       "      <td>183</td>\n",
       "      <td>64</td>\n",
       "      <td>0</td>\n",
       "      <td>0</td>\n",
       "      <td>23.3</td>\n",
       "      <td>0.672</td>\n",
       "      <td>32</td>\n",
       "      <td>1</td>\n",
       "    </tr>\n",
       "    <tr>\n",
       "      <th>3</th>\n",
       "      <td>1</td>\n",
       "      <td>89</td>\n",
       "      <td>66</td>\n",
       "      <td>23</td>\n",
       "      <td>94</td>\n",
       "      <td>28.1</td>\n",
       "      <td>0.167</td>\n",
       "      <td>21</td>\n",
       "      <td>0</td>\n",
       "    </tr>\n",
       "    <tr>\n",
       "      <th>4</th>\n",
       "      <td>0</td>\n",
       "      <td>137</td>\n",
       "      <td>40</td>\n",
       "      <td>35</td>\n",
       "      <td>168</td>\n",
       "      <td>43.1</td>\n",
       "      <td>2.288</td>\n",
       "      <td>33</td>\n",
       "      <td>1</td>\n",
       "    </tr>\n",
       "    <tr>\n",
       "      <th>...</th>\n",
       "      <td>...</td>\n",
       "      <td>...</td>\n",
       "      <td>...</td>\n",
       "      <td>...</td>\n",
       "      <td>...</td>\n",
       "      <td>...</td>\n",
       "      <td>...</td>\n",
       "      <td>...</td>\n",
       "      <td>...</td>\n",
       "    </tr>\n",
       "    <tr>\n",
       "      <th>763</th>\n",
       "      <td>10</td>\n",
       "      <td>101</td>\n",
       "      <td>76</td>\n",
       "      <td>48</td>\n",
       "      <td>180</td>\n",
       "      <td>32.9</td>\n",
       "      <td>0.171</td>\n",
       "      <td>63</td>\n",
       "      <td>0</td>\n",
       "    </tr>\n",
       "    <tr>\n",
       "      <th>764</th>\n",
       "      <td>2</td>\n",
       "      <td>122</td>\n",
       "      <td>70</td>\n",
       "      <td>27</td>\n",
       "      <td>0</td>\n",
       "      <td>36.8</td>\n",
       "      <td>0.340</td>\n",
       "      <td>27</td>\n",
       "      <td>0</td>\n",
       "    </tr>\n",
       "    <tr>\n",
       "      <th>765</th>\n",
       "      <td>5</td>\n",
       "      <td>121</td>\n",
       "      <td>72</td>\n",
       "      <td>23</td>\n",
       "      <td>112</td>\n",
       "      <td>26.2</td>\n",
       "      <td>0.245</td>\n",
       "      <td>30</td>\n",
       "      <td>0</td>\n",
       "    </tr>\n",
       "    <tr>\n",
       "      <th>766</th>\n",
       "      <td>1</td>\n",
       "      <td>126</td>\n",
       "      <td>60</td>\n",
       "      <td>0</td>\n",
       "      <td>0</td>\n",
       "      <td>30.1</td>\n",
       "      <td>0.349</td>\n",
       "      <td>47</td>\n",
       "      <td>1</td>\n",
       "    </tr>\n",
       "    <tr>\n",
       "      <th>767</th>\n",
       "      <td>1</td>\n",
       "      <td>93</td>\n",
       "      <td>70</td>\n",
       "      <td>31</td>\n",
       "      <td>0</td>\n",
       "      <td>30.4</td>\n",
       "      <td>0.315</td>\n",
       "      <td>23</td>\n",
       "      <td>0</td>\n",
       "    </tr>\n",
       "  </tbody>\n",
       "</table>\n",
       "<p>768 rows × 9 columns</p>\n",
       "</div>"
      ],
      "text/plain": [
       "     Pregnancies  Glucose  BloodPressure  SkinThickness  Insulin   BMI  \\\n",
       "0              6      148             72             35        0  33.6   \n",
       "1              1       85             66             29        0  26.6   \n",
       "2              8      183             64              0        0  23.3   \n",
       "3              1       89             66             23       94  28.1   \n",
       "4              0      137             40             35      168  43.1   \n",
       "..           ...      ...            ...            ...      ...   ...   \n",
       "763           10      101             76             48      180  32.9   \n",
       "764            2      122             70             27        0  36.8   \n",
       "765            5      121             72             23      112  26.2   \n",
       "766            1      126             60              0        0  30.1   \n",
       "767            1       93             70             31        0  30.4   \n",
       "\n",
       "     DiabetesPedigreeFunction  Age  Outcome  \n",
       "0                       0.627   50        1  \n",
       "1                       0.351   31        0  \n",
       "2                       0.672   32        1  \n",
       "3                       0.167   21        0  \n",
       "4                       2.288   33        1  \n",
       "..                        ...  ...      ...  \n",
       "763                     0.171   63        0  \n",
       "764                     0.340   27        0  \n",
       "765                     0.245   30        0  \n",
       "766                     0.349   47        1  \n",
       "767                     0.315   23        0  \n",
       "\n",
       "[768 rows x 9 columns]"
      ]
     },
     "metadata": {},
     "output_type": "display_data"
    }
   ],
   "source": [
    "display(df)"
   ]
  },
  {
   "cell_type": "code",
   "execution_count": 27,
   "metadata": {},
   "outputs": [],
   "source": [
    "# Eliminación de las filas que contengan valores \"N. A.\"\n",
    "\n",
    "df=df.dropna()"
   ]
  },
  {
   "cell_type": "code",
   "execution_count": 28,
   "metadata": {},
   "outputs": [],
   "source": [
    "'''\n",
    "Hay que crear los conjuntos X e y.\n",
    "'''\n",
    "\n",
    "y = df.Outcome.values.astype(int)\n",
    "\n",
    "\n",
    "caract_cols = [col for col in df.columns if col != 'Outcome']\n",
    "\n",
    "X_all = df[caract_cols].values"
   ]
  },
  {
   "cell_type": "code",
   "execution_count": 29,
   "metadata": {},
   "outputs": [
    {
     "name": "stdout",
     "output_type": "stream",
     "text": [
      "(768, 8)\n"
     ]
    }
   ],
   "source": [
    "print(X_all.shape)"
   ]
  },
  {
   "cell_type": "code",
   "execution_count": 30,
   "metadata": {},
   "outputs": [],
   "source": [
    "'''\n",
    "List of datasets and their names included in the experimental study\n",
    "'''\n",
    "\n",
    "datasets = [(X_all,y)]\n",
    "dataset_names = [\"Data All\"]"
   ]
  },
  {
   "cell_type": "code",
   "execution_count": 31,
   "metadata": {},
   "outputs": [
    {
     "name": "stdout",
     "output_type": "stream",
     "text": [
      "(768,)\n"
     ]
    }
   ],
   "source": [
    "print(y.shape)"
   ]
  },
  {
   "cell_type": "code",
   "execution_count": 32,
   "metadata": {},
   "outputs": [
    {
     "name": "stdout",
     "output_type": "stream",
     "text": [
      "[[  6.    148.     72.    ...  33.6     0.627  50.   ]\n",
      " [  1.     85.     66.    ...  26.6     0.351  31.   ]\n",
      " [  8.    183.     64.    ...  23.3     0.672  32.   ]\n",
      " ...\n",
      " [  5.    121.     72.    ...  26.2     0.245  30.   ]\n",
      " [  1.    126.     60.    ...  30.1     0.349  47.   ]\n",
      " [  1.     93.     70.    ...  30.4     0.315  23.   ]]\n"
     ]
    }
   ],
   "source": [
    "print(X_all)"
   ]
  },
  {
   "cell_type": "code",
   "execution_count": 33,
   "metadata": {},
   "outputs": [
    {
     "name": "stdout",
     "output_type": "stream",
     "text": [
      "[1 0 1 0 1 0 1 0 1 1 0 1 0 1 1 1 1 1 0 1 0 0 1 1 1 1 1 0 0 0 0 1 0 0 0 0 0\n",
      " 1 1 1 0 0 0 1 0 1 0 0 1 0 0 0 0 1 0 0 1 0 0 0 0 1 0 0 1 0 1 0 0 0 1 0 1 0\n",
      " 0 0 0 0 1 0 0 0 0 0 1 0 0 0 1 0 0 0 0 1 0 0 0 0 0 1 1 0 0 0 0 0 0 0 0 1 1\n",
      " 1 0 0 1 1 1 0 0 0 1 0 0 0 1 1 0 0 1 1 1 1 1 0 0 0 0 0 0 0 0 0 0 1 0 0 0 0\n",
      " 0 0 0 0 1 0 1 1 0 0 0 1 0 0 0 0 1 1 0 0 0 0 1 1 0 0 0 1 0 1 0 1 0 0 0 0 0\n",
      " 1 1 1 1 1 0 0 1 1 0 1 0 1 1 1 0 0 0 0 0 0 1 1 0 1 0 0 0 1 1 1 1 0 1 1 1 1\n",
      " 0 0 0 0 0 1 0 0 1 1 0 0 0 1 1 1 1 0 0 0 1 1 0 1 0 0 0 0 0 0 0 0 1 1 0 0 0\n",
      " 1 0 1 0 0 1 0 1 0 0 1 1 0 0 0 0 0 1 0 0 0 1 0 0 1 1 0 0 1 0 0 0 1 1 1 0 0\n",
      " 1 0 1 0 1 1 0 1 0 0 1 0 1 1 0 0 1 0 1 0 0 1 0 1 0 1 1 1 0 0 1 0 1 0 0 0 1\n",
      " 0 0 0 0 1 1 1 0 0 0 0 0 0 0 0 0 1 0 0 0 0 0 1 1 1 0 1 1 0 0 1 0 0 1 0 0 1\n",
      " 1 0 0 0 0 1 0 0 1 0 0 0 0 0 0 0 1 1 1 0 0 1 0 0 1 0 0 1 0 1 1 0 1 0 1 0 1\n",
      " 0 1 1 0 0 0 0 1 1 0 1 0 1 0 0 0 0 1 1 0 1 0 1 0 0 0 0 0 1 0 0 0 0 1 0 0 1\n",
      " 1 1 0 0 1 0 0 1 0 0 0 1 0 0 1 0 0 0 0 0 0 0 0 0 1 0 0 0 0 0 0 0 1 0 0 0 1\n",
      " 0 0 0 1 1 0 0 0 0 0 0 0 1 0 0 0 0 1 0 0 0 1 0 0 0 1 0 0 0 1 0 0 0 0 1 1 0\n",
      " 0 0 0 0 0 1 0 0 0 0 0 0 0 0 0 0 0 1 0 0 0 1 1 1 1 0 0 1 1 0 0 0 0 0 0 0 0\n",
      " 0 0 0 0 0 1 1 0 0 0 0 0 0 0 1 0 0 0 0 0 0 0 1 0 1 1 0 0 0 1 0 1 0 1 0 1 0\n",
      " 1 0 0 1 0 0 1 0 0 0 0 1 1 0 1 0 0 0 0 1 1 0 1 0 0 0 1 1 0 0 0 0 0 0 0 0 0\n",
      " 0 1 0 0 0 0 1 0 0 1 0 0 0 1 0 0 0 1 1 1 0 0 0 0 0 0 1 0 0 0 1 0 1 1 1 1 0\n",
      " 1 1 0 0 0 0 0 0 0 1 1 0 1 0 0 1 0 1 0 0 0 0 0 1 0 1 0 1 0 1 1 0 0 0 0 1 1\n",
      " 0 0 0 1 0 1 1 0 0 1 0 0 1 1 0 0 1 0 0 1 0 0 0 0 0 0 0 1 1 1 0 0 0 0 0 0 1\n",
      " 1 0 0 1 0 0 1 0 1 1 1 0 0 1 1 1 0 1 0 1 0 1 0 0 0 0 1 0]\n"
     ]
    }
   ],
   "source": [
    "print(y)"
   ]
  },
  {
   "cell_type": "code",
   "execution_count": 34,
   "metadata": {},
   "outputs": [],
   "source": [
    "'''\n",
    "Definición del espacio de búsqueda de SVM\n",
    "'''\n",
    "C_range = np.logspace(-5, 5, 15)\n",
    "gamma_range = np.logspace(-5, 5, 15)\n",
    "param_grid_svm = dict(gamma= gamma_range, C= C_range)\n",
    "nested_cv = 5\n",
    "\n",
    "grid_svm = GridSearchCV(SVC(), param_grid=param_grid_svm, cv=nested_cv)"
   ]
  },
  {
   "cell_type": "code",
   "execution_count": 35,
   "metadata": {},
   "outputs": [
    {
     "data": {
      "text/plain": [
       "(array([1.00000000e-05, 5.17947468e-05, 2.68269580e-04, 1.38949549e-03,\n",
       "        7.19685673e-03, 3.72759372e-02, 1.93069773e-01, 1.00000000e+00,\n",
       "        5.17947468e+00, 2.68269580e+01, 1.38949549e+02, 7.19685673e+02,\n",
       "        3.72759372e+03, 1.93069773e+04, 1.00000000e+05]),\n",
       " array([1.00000000e-05, 5.17947468e-05, 2.68269580e-04, 1.38949549e-03,\n",
       "        7.19685673e-03, 3.72759372e-02, 1.93069773e-01, 1.00000000e+00,\n",
       "        5.17947468e+00, 2.68269580e+01, 1.38949549e+02, 7.19685673e+02,\n",
       "        3.72759372e+03, 1.93069773e+04, 1.00000000e+05]))"
      ]
     },
     "execution_count": 35,
     "metadata": {},
     "output_type": "execute_result"
    }
   ],
   "source": [
    "# Show the range of values to be explored\n",
    "C_range,gamma_range"
   ]
  },
  {
   "cell_type": "code",
   "execution_count": 36,
   "metadata": {},
   "outputs": [],
   "source": [
    "'''\n",
    "Definition of the MLP parameter search\n",
    "'''\n",
    "alpha_range = np.logspace(-5, -1, 5)\n",
    "hidden_layer_sizes_range=[(50,),(100,),(200,),(500,),(1000,)]\n",
    "\n",
    "param_grid_mlp = dict(alpha=alpha_range, hidden_layer_sizes=hidden_layer_sizes_range)\n",
    "\n",
    "\n",
    "grid_mlp = GridSearchCV(MLPClassifier(max_iter=1000,\n",
    "                                      early_stopping=True), param_grid=param_grid_mlp, cv=nested_cv)"
   ]
  },
  {
   "cell_type": "code",
   "execution_count": 37,
   "metadata": {},
   "outputs": [],
   "source": [
    "'''\n",
    "List of classifiers and their names included in the experimental study\n",
    "'''\n",
    "\n",
    "cls_names = [\"SVM\",\"MLP\"]\n",
    "\n",
    "classifiers = [\n",
    "    make_pipeline(StandardScaler(), grid_svm),\n",
    "    make_pipeline(StandardScaler(), grid_mlp)]"
   ]
  },
  {
   "cell_type": "code",
   "execution_count": 38,
   "metadata": {},
   "outputs": [],
   "source": [
    "# Method that runs the classifiers and returns the labels give for the test set\n",
    "\n",
    "from sklearn.model_selection import train_test_split\n",
    "\n",
    "def predictions(model,X_train,y_train,X_test,y_test):    \n",
    "    \n",
    "    model.fit(X_train,y_train)\n",
    "    y_pred = model.predict(X_test)\n",
    "    \n",
    "    return y_test, y_pred"
   ]
  },
  {
   "cell_type": "code",
   "execution_count": 39,
   "metadata": {},
   "outputs": [],
   "source": [
    "def predictions_model(X_train,y_train,X_test, y_test,model):\n",
    "        '''\n",
    "        Predictions with a model and a dataset (X and y), to later obtain the measurements \n",
    "        you want\n",
    "        \n",
    "        Parameters\n",
    "        ----------\n",
    "        X: numpy.array\n",
    "            Dataset (features)\n",
    "        Y: numpy.array\n",
    "            Dataset (Target)\n",
    "        model: scikit_model\n",
    "            model to be trained\n",
    "        num_folds: int\n",
    "            number of folds in the cross validation\n",
    "        \n",
    "        Return\n",
    "        -------\n",
    "        array \n",
    "            array of prediccions obtained using cross_validation\n",
    "        '''\n",
    "        print('\\t'+str(model)[:20], end=' - ')\n",
    "        y_test,preds = predictions(model,X_train,y_train,X_test,y_test)\n",
    "        print('OK')\n",
    "        \n",
    "        return y_test,preds"
   ]
  },
  {
   "cell_type": "code",
   "execution_count": 40,
   "metadata": {},
   "outputs": [],
   "source": [
    "from sklearn.model_selection import train_test_split\n",
    "\n",
    "def run_all_save(filename):\n",
    "    '''\n",
    "    Perform cross validation with all models and datasets.\n",
    "        \n",
    "        \n",
    "    Parameters\n",
    "    ----------\n",
    "    num_folds: int\n",
    "        number of folds in the cross validation\n",
    "    filename: string\n",
    "        name of the file that stores the predictions obtained using crossvalidation\n",
    "        \n",
    "        \n",
    "    El par X_train, y_train son los atributos y clases del conjunto de entrenamiento (70% de los ejemplos)\n",
    "    El par X_test, y_test son los atributos y clases del conjunto de test (30% de los ejemplos)\n",
    "\n",
    "    stratify (estratificar) significa que se quiere que haya la misma proporcion de cada una de las clases\n",
    "    tanto en entrenamiento como en test, es decir, no es una partición completamente aleatoria.\n",
    "    \n",
    "    ''' \n",
    "    \n",
    "    all_preds = {}\n",
    "\n",
    "    for dataset,dataset_name in zip(datasets, dataset_names):\n",
    "        print(dataset_name)\n",
    "        X,y = dataset\n",
    "        \n",
    "        X_train, X_test, y_train, y_test = train_test_split(X, y, test_size=0.3, random_state=42, stratify=y)\n",
    "\n",
    "        for model,cls_name in zip(classifiers,cls_names):\n",
    "            print(cls_name)\n",
    "            y_test,preds = predictions_model(X_train,y_train,X_test,y_test,model)\n",
    "            all_preds[(dataset_name,cls_name)]=(y_test,preds)\n",
    "\n",
    "    all_preds[\"cls_names\"]=cls_names\n",
    "    all_preds[\"dataset_names\"]=dataset_names\n",
    "\n",
    "    with open(filename, 'wb') as fp:\n",
    "         pickle.dump(all_preds, fp)   "
   ]
  },
  {
   "cell_type": "code",
   "execution_count": 41,
   "metadata": {},
   "outputs": [],
   "source": [
    "'''\n",
    "All the predictions are going to be saved in a Python dictionary for \n",
    "further analysis.\n",
    "'''\n",
    "\n",
    "filename = 'predicciones.obj'"
   ]
  },
  {
   "cell_type": "code",
   "execution_count": 42,
   "metadata": {},
   "outputs": [
    {
     "name": "stdout",
     "output_type": "stream",
     "text": [
      "Data All\n",
      "SVM\n",
      "\tPipeline(steps=[('st - OK\n",
      "MLP\n",
      "\tPipeline(steps=[('st - OK\n"
     ]
    }
   ],
   "source": [
    "# Run the experiments\n",
    "\n",
    "run_all_save(filename)"
   ]
  },
  {
   "cell_type": "markdown",
   "metadata": {},
   "source": [
    "# Exploring the results\n",
    "\n",
    "If the experiments have been done previously, you only need to execute from this part.\n",
    "\n",
    "The results are going to be loaded from the hard disk"
   ]
  },
  {
   "cell_type": "code",
   "execution_count": 43,
   "metadata": {},
   "outputs": [],
   "source": [
    "import pickle\n",
    "import pandas as pd\n",
    "\n",
    "from sklearn.metrics import classification_report\n",
    "from sklearn.metrics import accuracy_score\n",
    "from sklearn.metrics import confusion_matrix\n",
    "import numpy as np\n",
    "import seaborn as sns"
   ]
  },
  {
   "cell_type": "code",
   "execution_count": 44,
   "metadata": {},
   "outputs": [],
   "source": [
    "def conf_mat_df(cm, labels):\n",
    "    '''\n",
    "    Create a confusion matrix in a DataFrame\n",
    "        \n",
    "    Parameters\n",
    "    ----------\n",
    "    cm: ndarray 2D\n",
    "        Confusion matrix\n",
    "    labels: list\n",
    "        List of class names\n",
    "        \n",
    "    Returns\n",
    "    -------\n",
    "    DataFrame\n",
    "        DataFrame representing the confusion matrix with appropriate axis labels\n",
    "    ''' \n",
    "    return (pd.DataFrame(cm, index=labels, columns=labels)\n",
    "            .rename_axis(\"actual\")\n",
    "            .rename_axis(\"predicted\", axis=1))"
   ]
  },
  {
   "cell_type": "code",
   "execution_count": 45,
   "metadata": {},
   "outputs": [],
   "source": [
    "def plot_confusion_matrix(cm_df, title='Matriz de Confusión'):\n",
    "    \"\"\"\n",
    "    Plotea una matriz de confusión usando seaborn con una paleta de colores adecuada.\n",
    "    \n",
    "    Parámetros:\n",
    "    - cm_df: DataFrame de pandas con la matriz de confusión\n",
    "    - title: título del gráfico\n",
    "    \"\"\"\n",
    "    plt.figure(figsize=(8,6))\n",
    "    \n",
    "    # Determinar una paleta de colores que facilite la legibilidad\n",
    "    # 'Blues' es una buena opción, pero puedes cambiarla si lo deseas\n",
    "    cmap = 'Blues'\n",
    "    \n",
    "    # Determinar el color de las anotaciones basado en el color de fondo\n",
    "    # Para 'Blues', el texto negro suele ser legible\n",
    "    sns.heatmap(cm_df, annot=True, fmt='g', cmap=cmap, cbar=False, \n",
    "                annot_kws={\"size\": 12, \"color\": 'black'})\n",
    "    \n",
    "    plt.title(title, fontsize=16)\n",
    "    plt.ylabel('Etiqueta Verdadera', fontsize=14)\n",
    "    plt.xlabel('Etiqueta Predicha', fontsize=14)\n",
    "    \n",
    "    # Ajustar las rotaciones de las etiquetas para mejorar la legibilidad\n",
    "    plt.xticks(rotation=45, ha='right', fontsize=12)\n",
    "    plt.yticks(rotation=0, fontsize=12)\n",
    "    \n",
    "    plt.tight_layout()\n",
    "    plt.show()\n",
    "    plt.close()\n"
   ]
  },
  {
   "cell_type": "code",
   "execution_count": 46,
   "metadata": {},
   "outputs": [],
   "source": [
    "def evalua(y_true, y_pred):\n",
    "    \"\"\"\n",
    "    Calcula la precisión (accuracy) de las predicciones.\n",
    "    \n",
    "    Parámetros:\n",
    "    - y_true: etiquetas verdaderas\n",
    "    - y_pred: etiquetas predichas\n",
    "    \n",
    "    Retorna:\n",
    "    - Precisión como float\n",
    "    \"\"\"\n",
    "    return np.mean(np.array(y_true) == np.array(y_pred))"
   ]
  },
  {
   "cell_type": "code",
   "execution_count": 47,
   "metadata": {},
   "outputs": [
    {
     "data": {
      "image/png": "[encoded data removed]",
      "text/plain": [
       "<Figure size 800x600 with 1 Axes>"
      ]
     },
     "metadata": {},
     "output_type": "display_data"
    },
    {
     "data": {
      "image/png": "[encoded data removed]",
      "text/plain": [
       "<Figure size 800x600 with 1 Axes>"
      ]
     },
     "metadata": {},
     "output_type": "display_data"
    }
   ],
   "source": [
    "def get_results(filename):\n",
    "    '''\n",
    "    Carga el archivo con las predicciones.\n",
    "    Calcula la precisión, matriz de confusión y otras métricas.\n",
    "        \n",
    "    Parámetros\n",
    "    ----------\n",
    "    filename: string\n",
    "        Nombre del archivo que almacena las predicciones obtenidas usando cross-validation\n",
    "        \n",
    "    Retorna\n",
    "    -------\n",
    "    dictionary\n",
    "        Un diccionario que asocia el nombre de una medida o gráfico con su valor\n",
    "    ''' \n",
    "\n",
    "    with open(filename, 'rb') as fp:\n",
    "        all_preds = pickle.load(fp)\n",
    "\n",
    "    cls_names = all_preds.pop(\"cls_names\")\n",
    "    dataset_names = all_preds.pop(\"dataset_names\")\n",
    "\n",
    "    data_cls_pairs = list(all_preds.keys())\n",
    "    data_cls_pairs.sort()\n",
    "\n",
    "    results = {}\n",
    "\n",
    "    acc_df = pd.DataFrame(index=dataset_names, columns=cls_names)\n",
    "\n",
    "    # Crear DataFrame para almacenar la precisión por clase\n",
    "    for dataset in dataset_names:\n",
    "        results[(dataset, \"acc\")] = pd.DataFrame(columns=cls_names)\n",
    "\n",
    "    for dataset_name, cls_name in data_cls_pairs:\n",
    "\n",
    "        # Obtener verdaderos y predichos\n",
    "        y_true, y_pred = all_preds[(dataset_name, cls_name)]\n",
    "        labels = sorted(list(np.unique(y_true)))  # Asegura que las etiquetas estén ordenadas\n",
    "\n",
    "        # Calcular precisión\n",
    "        acc = evalua(y_true, y_pred)\n",
    "        acc_df.at[dataset_name, cls_name] = acc\n",
    "\n",
    "        # Obtener matriz de confusión\n",
    "        cm = confusion_matrix(y_true, y_pred, labels=labels)\n",
    "        cm_df = conf_mat_df(cm, labels)\n",
    "        results[(dataset_name, cls_name, \"cm\")] = cm_df\n",
    "\n",
    "        # Graficar la matriz de confusión\n",
    "        plot_confusion_matrix(cm_df, title=f'Matriz de Confusión - {dataset_name} - {cls_name}')\n",
    "\n",
    "        # Obtener reporte de clasificación\n",
    "        report = classification_report(y_true, y_pred, output_dict=True, zero_division=0)\n",
    "        report_df = pd.DataFrame(report).transpose()\n",
    "        results[(dataset_name, cls_name, \"report\")] = report_df\n",
    "\n",
    "        # Precisión por clase (F1 Score, Precision, Recall, etc.)\n",
    "        # Aquí, por ejemplo, obtenemos la precisión (accuracy) por clase\n",
    "        cm_normalized = cm.astype('float') / cm.sum(axis=1)[:, np.newaxis]\n",
    "        cm_dig = np.diag(cm_normalized)\n",
    "        cm_dig_series = pd.Series(cm_dig, index=labels)\n",
    "\n",
    "        dfi = results[(dataset_name, \"acc\")]\n",
    "        dfi[cls_name] = cm_dig_series\n",
    "        results[(dataset_name, \"acc\")] = dfi.copy()\n",
    "\n",
    "    results[\"Acc\"] = acc_df\n",
    "    return results\n",
    "\n",
    "results = get_results(filename)"
   ]
  },
  {
   "cell_type": "markdown",
   "metadata": {},
   "source": [
    "# Análisis de las Matrices de Confusión\n",
    "\n",
    "## Primera Matriz de Confusión: MLP (Multilayer Perceptron)\n",
    "\n",
    "### Estructura de la Matriz\n",
    "- **Etiquetas Verdaderas (Filas)**: `No Diabetes` (0) y `Diabetes` (1).\n",
    "- **Etiquetas Predichas (Columnas)**: `No Diabetes` (0) y `Diabetes` (1).\n",
    "\n",
    "|                | Predicho: No Diabetes | Predicho: Diabetes |\n",
    "|----------------|-----------------------|--------------------|\n",
    "| **No Diabetes** | 130                   | 20                 |\n",
    "| **Diabetes**    | 39                    | 42                 |\n",
    "\n",
    "### Indicadores Clave\n",
    "- **Precisión General (Accuracy)**: \\((130 + 42) / (130 + 20 + 39 + 42) = 74.5\\%\\)\n",
    "- **Precisión por clase**:\n",
    "  - `No Diabetes`: \\(130 / (130 + 39) = 76.9\\%\\)\n",
    "  - `Diabetes`: \\(42 / (20 + 42) = 67.7\\%\\)\n",
    "- **Recall por clase**:\n",
    "  - `No Diabetes`: \\(130 / (130 + 20) = 86.7\\%\\)\n",
    "  - `Diabetes`: \\(42 / (39 + 42) = 51.9\\%\\)\n",
    "\n",
    "### Observaciones\n",
    "- El modelo MLP tiene un mejor desempeño al clasificar `No Diabetes`, con alta precisión y recall.\n",
    "- La clase `Diabetes` es más problemática. Solo detecta correctamente el 51.9% de los casos reales de esta clase.\n",
    "- Los falsos negativos son elevados (39), lo que puede ser crítico para un diagnóstico correcto.\n",
    "\n",
    "---\n",
    "\n",
    "## Segunda Matriz de Confusión: SVM (Support Vector Machine)\n",
    "\n",
    "### Estructura de la Matriz\n",
    "- **Etiquetas Verdaderas (Filas)**: `No Diabetes` (0) y `Diabetes` (1).\n",
    "- **Etiquetas Predichas (Columnas)**: `No Diabetes` (0) y `Diabetes` (1).\n",
    "\n",
    "|                | Predicho: No Diabetes | Predicho: Diabetes |\n",
    "|----------------|-----------------------|--------------------|\n",
    "| **No Diabetes** | 133                   | 17                 |\n",
    "| **Diabetes**    | 45                    | 36                 |\n",
    "\n",
    "### Indicadores Clave\n",
    "- **Precisión General (Accuracy)**: \\((133 + 36) / (133 + 17 + 45 + 36) = 73.1\\%\\)\n",
    "- **Precisión por clase**:\n",
    "  - `No Diabetes`: \\(133 / (133 + 45) = 74.7\\%\\)\n",
    "  - `Diabetes`: \\(36 / (17 + 36) = 67.9\\%\\)\n",
    "- **Recall por clase**:\n",
    "  - `No Diabetes`: \\(133 / (133 + 17) = 88.7\\%\\)\n",
    "  - `Diabetes`: \\(36 / (45 + 36) = 44.4\\%\\)\n",
    "\n",
    "### Observaciones\n",
    "- Similar al MLP, el SVM clasifica con más precisión los casos de `No Diabetes`.\n",
    "- El recall de `Diabetes` es incluso menor (44.4%), lo que indica que muchos casos positivos no son identificados correctamente.\n",
    "- Aunque tiene menos falsos positivos (17), el número de falsos negativos sigue siendo alto (45).\n",
    "\n",
    "---\n",
    "\n",
    "## Comparación entre MLP y SVM\n",
    "\n",
    "| Modelo        | Precisión General | Recall (No Diabetes) | Recall (Diabetes) | Falsos Negativos |\n",
    "|---------------|-------------------|-----------------------|-------------------|------------------|\n",
    "| **MLP**       | 74.5%            | 86.7%                | 51.9%            | 39               |\n",
    "| **SVM**       | 73.1%            | 88.7%                | 44.4%            | 45               |\n",
    "\n",
    "### Conclusiones Comparativas\n",
    "1. **Desempeño general**:\n",
    "   - Ambos modelos tienen una precisión general similar, alrededor del 73-74%.\n",
    "2. **Manejo de la clase `No Diabetes`**:\n",
    "   - El SVM tiene un recall más alto (88.7%) que el MLP (86.7%), detectando más casos reales de `No Diabetes`.\n",
    "3. **Manejo de la clase `Diabetes`**:\n",
    "   - El MLP tiene un mejor recall en la clase `Diabetes` (51.9% frente al 44.4% del SVM), aunque ambos modelos tienen un desempeño pobre para esta clase.\n",
    "4. **Falsos negativos**:\n",
    "   - El MLP tiene menos falsos negativos (39) que el SVM (45), lo que sugiere que es ligeramente más adecuado para evitar casos no diagnosticados de `Diabetes`.\n",
    "\n",
    "---\n",
    "**Cabe destacar que los datos de las matrices, al ser la repartición aleatoria entre test y apredizaje los datos de la matriz variarán con cada ejecución**"
   ]
  },
  {
   "cell_type": "code",
   "execution_count": 48,
   "metadata": {},
   "outputs": [],
   "source": [
    "df_total = results[\"Acc\"].astype(float)\n",
    "df_conf = results[(\"Data All\",\"SVM\",\"cm\")].astype(float)\n",
    "df_report = results[(\"Data All\",\"SVM\",\"report\")].astype(float)"
   ]
  },
  {
   "cell_type": "code",
   "execution_count": 49,
   "metadata": {},
   "outputs": [
    {
     "data": {
      "text/html": [
       "<div>\n",
       "<style scoped>\n",
       "    .dataframe tbody tr th:only-of-type {\n",
       "        vertical-align: middle;\n",
       "    }\n",
       "\n",
       "    .dataframe tbody tr th {\n",
       "        vertical-align: top;\n",
       "    }\n",
       "\n",
       "    .dataframe thead th {\n",
       "        text-align: right;\n",
       "    }\n",
       "</style>\n",
       "<table border=\"1\" class=\"dataframe\">\n",
       "  <thead>\n",
       "    <tr style=\"text-align: right;\">\n",
       "      <th></th>\n",
       "      <th>SVM</th>\n",
       "      <th>MLP</th>\n",
       "    </tr>\n",
       "  </thead>\n",
       "  <tbody>\n",
       "    <tr>\n",
       "      <th>Data All</th>\n",
       "      <td>0.731602</td>\n",
       "      <td>0.744589</td>\n",
       "    </tr>\n",
       "  </tbody>\n",
       "</table>\n",
       "</div>"
      ],
      "text/plain": [
       "               SVM       MLP\n",
       "Data All  0.731602  0.744589"
      ]
     },
     "execution_count": 49,
     "metadata": {},
     "output_type": "execute_result"
    }
   ],
   "source": [
    "df_total"
   ]
  },
  {
   "cell_type": "code",
   "execution_count": 50,
   "metadata": {},
   "outputs": [
    {
     "data": {
      "text/html": [
       "<div>\n",
       "<style scoped>\n",
       "    .dataframe tbody tr th:only-of-type {\n",
       "        vertical-align: middle;\n",
       "    }\n",
       "\n",
       "    .dataframe tbody tr th {\n",
       "        vertical-align: top;\n",
       "    }\n",
       "\n",
       "    .dataframe thead th {\n",
       "        text-align: right;\n",
       "    }\n",
       "</style>\n",
       "<table border=\"1\" class=\"dataframe\">\n",
       "  <thead>\n",
       "    <tr style=\"text-align: right;\">\n",
       "      <th>predicted</th>\n",
       "      <th>0</th>\n",
       "      <th>1</th>\n",
       "    </tr>\n",
       "    <tr>\n",
       "      <th>actual</th>\n",
       "      <th></th>\n",
       "      <th></th>\n",
       "    </tr>\n",
       "  </thead>\n",
       "  <tbody>\n",
       "    <tr>\n",
       "      <th>0</th>\n",
       "      <td>133.0</td>\n",
       "      <td>17.0</td>\n",
       "    </tr>\n",
       "    <tr>\n",
       "      <th>1</th>\n",
       "      <td>45.0</td>\n",
       "      <td>36.0</td>\n",
       "    </tr>\n",
       "  </tbody>\n",
       "</table>\n",
       "</div>"
      ],
      "text/plain": [
       "predicted      0     1\n",
       "actual                \n",
       "0          133.0  17.0\n",
       "1           45.0  36.0"
      ]
     },
     "execution_count": 50,
     "metadata": {},
     "output_type": "execute_result"
    }
   ],
   "source": [
    "df_conf"
   ]
  },
  {
   "cell_type": "code",
   "execution_count": 51,
   "metadata": {},
   "outputs": [
    {
     "data": {
      "text/html": [
       "<div>\n",
       "<style scoped>\n",
       "    .dataframe tbody tr th:only-of-type {\n",
       "        vertical-align: middle;\n",
       "    }\n",
       "\n",
       "    .dataframe tbody tr th {\n",
       "        vertical-align: top;\n",
       "    }\n",
       "\n",
       "    .dataframe thead th {\n",
       "        text-align: right;\n",
       "    }\n",
       "</style>\n",
       "<table border=\"1\" class=\"dataframe\">\n",
       "  <thead>\n",
       "    <tr style=\"text-align: right;\">\n",
       "      <th></th>\n",
       "      <th>precision</th>\n",
       "      <th>recall</th>\n",
       "      <th>f1-score</th>\n",
       "    </tr>\n",
       "  </thead>\n",
       "  <tbody>\n",
       "    <tr>\n",
       "      <th>0</th>\n",
       "      <td>0.7472</td>\n",
       "      <td>0.8867</td>\n",
       "      <td>0.8110</td>\n",
       "    </tr>\n",
       "    <tr>\n",
       "      <th>1</th>\n",
       "      <td>0.6792</td>\n",
       "      <td>0.4444</td>\n",
       "      <td>0.5373</td>\n",
       "    </tr>\n",
       "    <tr>\n",
       "      <th>accuracy</th>\n",
       "      <td>0.7316</td>\n",
       "      <td>0.7316</td>\n",
       "      <td>0.7316</td>\n",
       "    </tr>\n",
       "    <tr>\n",
       "      <th>macro avg</th>\n",
       "      <td>0.7132</td>\n",
       "      <td>0.6656</td>\n",
       "      <td>0.6741</td>\n",
       "    </tr>\n",
       "    <tr>\n",
       "      <th>weighted avg</th>\n",
       "      <td>0.7234</td>\n",
       "      <td>0.7316</td>\n",
       "      <td>0.7150</td>\n",
       "    </tr>\n",
       "  </tbody>\n",
       "</table>\n",
       "</div>"
      ],
      "text/plain": [
       "              precision  recall  f1-score\n",
       "0                0.7472  0.8867    0.8110\n",
       "1                0.6792  0.4444    0.5373\n",
       "accuracy         0.7316  0.7316    0.7316\n",
       "macro avg        0.7132  0.6656    0.6741\n",
       "weighted avg     0.7234  0.7316    0.7150"
      ]
     },
     "execution_count": 51,
     "metadata": {},
     "output_type": "execute_result"
    }
   ],
   "source": [
    "df_report.round(4)[[\"precision\",\"recall\",\"f1-score\"]]"
   ]
  },
  {
   "cell_type": "code",
   "execution_count": 52,
   "metadata": {},
   "outputs": [
    {
     "data": {
      "image/png": "[encoded data removed]",
      "text/plain": [
       "<Figure size 1000x600 with 1 Axes>"
      ]
     },
     "metadata": {},
     "output_type": "display_data"
    }
   ],
   "source": [
    "y = df.Outcome.values.astype(int)\n",
    "caract_cols = [\"Pregnancies\", \"Glucose\", \"BloodPressure\", \"SkinThickness\", \"Insulin\", \"BMI\", \"DiabetesPedigreeFunction\", \"Age\"]\n",
    "X_all = df[caract_cols].values\n",
    "\n",
    "# Define different test sizes to evaluate\n",
    "test_sizes = [0.1, 0.15, 0.2, 0.25, 0.3, 0.35, 0.4, 0.45, 0.5]\n",
    "svm_accuracies = []\n",
    "\n",
    "# Loop over each test size and record the SVM accuracy\n",
    "for test_size in test_sizes:\n",
    "    # Split data with the specified test size\n",
    "    X_train, X_test, y_train, y_test = train_test_split(X_all, y, test_size=test_size, random_state=42, stratify=y)\n",
    "    # Train the SVM model\n",
    "    svm_model = make_pipeline(StandardScaler(), SVC())\n",
    "    svm_model.fit(X_train, y_train)\n",
    "    # Predict and calculate accuracy\n",
    "    y_pred = svm_model.predict(X_test)\n",
    "    accuracy = accuracy_score(y_test, y_pred)\n",
    "    svm_accuracies.append(accuracy)\n",
    "    # Plot the impact of test size on SVM accuracy\n",
    "plt.figure(figsize=(10, 6))\n",
    "plt.plot(test_sizes, svm_accuracies, marker='o')\n",
    "plt.xlim(0.05, 0.55)\n",
    "plt.ylim(0.60, 0.90)\n",
    "plt.title(\"Impact of Test Size on SVM Accuracy\")\n",
    "plt.xlabel(\"Test Size\")\n",
    "plt.ylabel(\"Accuracy\")\n",
    "plt.grid(True)\n",
    "plt.show()\n",
    "\n"
   ]
  },
  {
   "cell_type": "code",
   "execution_count": 53,
   "metadata": {},
   "outputs": [
    {
     "data": {
      "image/png": "[encoded data removed]",
      "text/plain": [
       "<Figure size 1000x600 with 1 Axes>"
      ]
     },
     "metadata": {},
     "output_type": "display_data"
    }
   ],
   "source": [
    "\n",
    "\n",
    "# Define different test sizes to evaluate\n",
    "test_sizes = [0.1, 0.15, 0.2, 0.25, 0.3, 0.35, 0.4, 0.45, 0.5]\n",
    "num_iterations = 30  # Number of repetitions for each test size\n",
    "svm_accuracies_all = {test_size: [] for test_size in test_sizes}  # Dictionary to store all accuracies per test size\n",
    "\n",
    "# Run experiments for each test size and calculate variance\n",
    "for test_size in test_sizes:\n",
    "    for _ in range(num_iterations):\n",
    "        # Split data with the specified test size\n",
    "        X_train, X_test, y_train, y_test = train_test_split(X_all, y, test_size=test_size, random_state=None, stratify=y)\n",
    "        # Train the SVM model\n",
    "        svm_model = make_pipeline(StandardScaler(), SVC())\n",
    "        svm_model.fit(X_train, y_train)\n",
    "        # Predict and calculate accuracy\n",
    "        y_pred = svm_model.predict(X_test)\n",
    "        accuracy = accuracy_score(y_test, y_pred)\n",
    "        svm_accuracies_all[test_size].append(accuracy)\n",
    "\n",
    "# Calculate mean and standard deviation for each test size\n",
    "mean_accuracies = [np.mean(svm_accuracies_all[test_size]) for test_size in test_sizes]\n",
    "std_accuracies = [np.std(svm_accuracies_all[test_size]) for test_size in test_sizes]\n",
    "\n",
    "# Plot mean accuracy with error bars representing standard deviation\n",
    "\n",
    "plt.figure(figsize=(10, 6))\n",
    "plt.errorbar(test_sizes, mean_accuracies, yerr=std_accuracies, fmt='-o', capsize=5)\n",
    "plt.title(\"Impact of Test Size on SVM Accuracy with Variance\")\n",
    "plt.xlim(0.05, 0.55)\n",
    "plt.ylim(0.60, 0.90)\n",
    "plt.xlabel(\"Test Size\")\n",
    "plt.ylabel(\"Mean Accuracy\")\n",
    "plt.grid(True)\n",
    "plt.show()"
   ]
  },
  {
   "cell_type": "code",
   "execution_count": 54,
   "metadata": {},
   "outputs": [
    {
     "data": {
      "image/png": "[encoded data removed]",
      "text/plain": [
       "<Figure size 1200x800 with 1 Axes>"
      ]
     },
     "metadata": {},
     "output_type": "display_data"
    }
   ],
   "source": [
    "# Define dictionary to store accuracies for MLP model\n",
    "mlp_accuracies_all = {test_size: [] for test_size in test_sizes}\n",
    "\n",
    "# Run experiments for MLP for each test size and calculate variance\n",
    "for test_size in test_sizes:\n",
    "    for _ in range(num_iterations):\n",
    "        # Split data with the specified test size\n",
    "        X_train, X_test, y_train, y_test = train_test_split(X_all, y, test_size=test_size, random_state=None, stratify=y)\n",
    "        # Train the MLP model\n",
    "        mlp_model = make_pipeline(StandardScaler(), MLPClassifier(max_iter=1000, early_stopping=True))\n",
    "        mlp_model.fit(X_train, y_train)\n",
    "        # Predict and calculate accuracy\n",
    "        y_pred = mlp_model.predict(X_test)\n",
    "        accuracy = accuracy_score(y_test, y_pred)\n",
    "        mlp_accuracies_all[test_size].append(accuracy)\n",
    "\n",
    "# Calculate mean and standard deviation for each test size for MLP\n",
    "mlp_mean_accuracies = [np.mean(mlp_accuracies_all[test_size]) for test_size in test_sizes]\n",
    "mlp_std_accuracies = [np.std(mlp_accuracies_all[test_size]) for test_size in test_sizes]\n",
    "\n",
    "# Plotting both SVM and MLP accuracies with variance\n",
    "plt.figure(figsize=(12, 8))\n",
    "plt.errorbar(test_sizes, mean_accuracies, yerr=std_accuracies, fmt='-o', capsize=5, label=\"SVM\")\n",
    "plt.errorbar(test_sizes, mlp_mean_accuracies, yerr=mlp_std_accuracies, fmt='-s', capsize=5, label=\"MLP\")\n",
    "plt.title(\"Impact of Test Size on SVM and MLP Accuracy with Variance\")\n",
    "plt.xlim(0.05, 0.55)\n",
    "plt.ylim(0.60, 0.90)\n",
    "plt.xlabel(\"Test Size\")\n",
    "plt.ylabel(\"Mean Accuracy\")\n",
    "plt.legend()\n",
    "plt.grid(True)\n",
    "plt.show()"
   ]
  },
  {
   "cell_type": "markdown",
   "metadata": {},
   "source": [
    "# Resultados y análisis\n",
    "\n",
    "### Problemas de identificación entre clases\n",
    "En este análisis no se ha incluido una evaluación específica de las dificultades de identificación por clase. Para obtener este detalle, sería necesario observar matrices de confusión o métricas como precisión, sensibilidad o especificidad para cada clase. Esto permitiría identificar si alguna de las clases es particularmente problemática para los modelos.\n",
    "\n",
    "### Tasa de acierto: ¿son resultados elevados?\n",
    "- **SVM**: Este modelo ha demostrado una tasa de acierto promedio cercana al 77%, lo cual es elevado para la mayoría de las aplicaciones, especialmente en problemas complejos o con datos ruidosos.\n",
    "- **MLP**: Este modelo ha demostrado consistentemente tener un rendimiento inferior al obtenido por el SVm, en torno al 75%\n",
    "En general, ambos modelos superan significativamente el azar (50% de acierto), pero el SVM ofrece resultados más consistentes y elevados.\n",
    "Además destacar el hecho de que el SVM tiene una varianza algo menor comparado con la del MLP.\n",
    "\n",
    "### Efecto del tamaño del conjunto de entrenamiento en la tasa de acierto\n",
    "- **SVM**: Este modelo no se ve significativamente afectado por el tamaño del conjunto de entrenamiento. Incluso con menos datos disponibles para entrenar, mantiene tasas de acierto altas y consistentes. Esto sugiere una buena capacidad de generalización.\n",
    "- **MLP**: Este modelo es más sensible a la reducción del conjunto de entrenamiento. Se observa una disminución notable en la tasa de acierto cuando aumenta el tamaño del conjunto de prueba, lo cual es común en modelos más complejos como las redes neuronales.\n",
    "\n",
    "### Conclusiones\n",
    "- El SVM es un modelo más robusto frente a cambios en la proporción de datos de entrenamiento y ofrece tasas de acierto más altas y consistentes.\n",
    "- El MLP podría beneficiarse de un conjunto de entrenamiento más amplio.\n",
    "\n"
   ]
  }
 ],
 "metadata": {
  "kernelspec": {
   "display_name": "Python 3",
   "language": "python",
   "name": "python3"
  },
  "language_info": {
   "codemirror_mode": {
    "name": "ipython",
    "version": 3
   },
   "file_extension": ".py",
   "mimetype": "text/x-python",
   "name": "python",
   "nbconvert_exporter": "python",
   "pygments_lexer": "ipython3",
   "version": "3.11.3"
  }
 },
 "nbformat": 4,
 "nbformat_minor": 2
}
