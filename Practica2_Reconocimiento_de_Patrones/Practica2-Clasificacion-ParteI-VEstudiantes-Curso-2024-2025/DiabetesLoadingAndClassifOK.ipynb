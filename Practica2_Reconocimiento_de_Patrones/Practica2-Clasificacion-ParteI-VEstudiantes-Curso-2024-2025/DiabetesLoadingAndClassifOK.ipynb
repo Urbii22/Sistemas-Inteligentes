{
 "cells": [
  {
   "cell_type": "markdown",
   "metadata": {},
   "source": [
    "<img style=\"float:left\" width=\"70%\" src=\"pics/escudo_COLOR_1L_DCHA.png\">\n",
    "<img style=\"float:right\" width=\"15%\" src=\"pics/PythonLogo.svg\">\n",
    "<br style=\"clear:both;\">\n",
    "\n",
    "# Reconocimiento de patrones. Parte I.\n",
    "\n",
    "# Ejemplo de clasificación con sólo dos clases. Base de datos *Diabetes* (*Diabetes dataset*)\n",
    "\n",
    "Este *Notebook* contiene el trabajo necesario para cargar el fichero *.csv* de la base de datos de **Kaggle** denominada *Diabetes dataset*.\n",
    "\n",
    "## Autor\n",
    "- Pedro Latorre Carmona\n",
    "\n",
    "## Curso 2024-2025"
   ]
  },
  {
   "cell_type": "markdown",
   "metadata": {},
   "source": [
    "**Kaggle** es, digamos, un repositorio, donde podemos encontrar bases de datos, así como diferentes tipos de métodos (código), para tareas que pueden ir desde la clasificación, regresión, por citar sólo dos ejemplos:\n",
    "\n",
    "https://www.kaggle.com/\n",
    "\n",
    "Dentro de **Kaggle**, vamos a trabajar con la base de datos *Diabetes*. Las carcaterísticas de la base de datos y su descarga se pueden encontrar en:\n",
    "\n",
    "https://www.kaggle.com/datasets/mathchi/diabetes-data-set\n",
    "\n",
    "La idea de esta práctica es poder crear una base de datos que permita establecer si hay o no diabetes, en base a los valores concretos de/en el vector de características."
   ]
  },
  {
   "cell_type": "markdown",
   "metadata": {
    "collapsed": true
   },
   "source": [
    "# Carga de la base de datos y aplicación de los métodos de clasificación\n"
   ]
  },
  {
   "cell_type": "code",
   "execution_count": 49,
   "metadata": {},
   "outputs": [
    {
     "name": "stdout",
     "output_type": "stream",
     "text": [
      "Requirement already satisfied: bottleneck in c:\\users\\urban\\anaconda3\\lib\\site-packages (1.4.2)\n",
      "Requirement already satisfied: numpy in c:\\users\\urban\\anaconda3\\lib\\site-packages (from bottleneck) (1.24.3)\n",
      "Note: you may need to restart the kernel to use updated packages.\n"
     ]
    }
   ],
   "source": [
    "pip install --upgrade bottleneck\n"
   ]
  },
  {
   "cell_type": "code",
   "execution_count": 50,
   "metadata": {},
   "outputs": [],
   "source": [
    "'''\n",
    "Importación de librerías\n",
    "'''\n",
    "import pandas as pd\n",
    "import numpy as np\n",
    "import pickle\n",
    "import os\n",
    "\n",
    "import matplotlib.pyplot as plt\n",
    "\n",
    "from sklearn.datasets import make_classification\n",
    "from sklearn.pipeline import make_pipeline\n",
    "from sklearn.preprocessing import StandardScaler\n",
    "\n",
    "from sklearn.neural_network import MLPClassifier\n",
    "from sklearn.svm import SVC\n",
    "\n",
    "from sklearn.model_selection import cross_val_score, cross_val_predict, GridSearchCV\n",
    "from sklearn.pipeline import Pipeline\n",
    "\n",
    "from sklearn.metrics import confusion_matrix, classification_report, accuracy_score\n",
    "import seaborn as sns\n",
    "\n",
    "from sklearn.ensemble import RandomForestClassifier\n",
    "\n",
    "\n"
   ]
  },
  {
   "cell_type": "code",
   "execution_count": 51,
   "metadata": {},
   "outputs": [],
   "source": [
    "'''\n",
    "Datos. Hay que establecer el \"path\"\n",
    "'''\n",
    "\n",
    "path = \"./Diabetes\"\n",
    "\n",
    "\n",
    "features_file = os.path.join(path, \"diabetes_dataset.csv\")"
   ]
  },
  {
   "cell_type": "code",
   "execution_count": 52,
   "metadata": {},
   "outputs": [],
   "source": [
    "'''\n",
    "Hay que cargar el conjunto, con \"pd.read_csv\"\n",
    "'''\n",
    " \n",
    "df = pd.read_csv(features_file)"
   ]
  },
  {
   "cell_type": "code",
   "execution_count": 53,
   "metadata": {},
   "outputs": [
    {
     "data": {
      "text/html": [
       "<div>\n",
       "<style scoped>\n",
       "    .dataframe tbody tr th:only-of-type {\n",
       "        vertical-align: middle;\n",
       "    }\n",
       "\n",
       "    .dataframe tbody tr th {\n",
       "        vertical-align: top;\n",
       "    }\n",
       "\n",
       "    .dataframe thead th {\n",
       "        text-align: right;\n",
       "    }\n",
       "</style>\n",
       "<table border=\"1\" class=\"dataframe\">\n",
       "  <thead>\n",
       "    <tr style=\"text-align: right;\">\n",
       "      <th></th>\n",
       "      <th>Pregnancies</th>\n",
       "      <th>Glucose</th>\n",
       "      <th>BloodPressure</th>\n",
       "      <th>SkinThickness</th>\n",
       "      <th>Insulin</th>\n",
       "      <th>BMI</th>\n",
       "      <th>DiabetesPedigreeFunction</th>\n",
       "      <th>Age</th>\n",
       "      <th>Outcome</th>\n",
       "    </tr>\n",
       "  </thead>\n",
       "  <tbody>\n",
       "    <tr>\n",
       "      <th>0</th>\n",
       "      <td>6</td>\n",
       "      <td>148</td>\n",
       "      <td>72</td>\n",
       "      <td>35</td>\n",
       "      <td>0</td>\n",
       "      <td>33.6</td>\n",
       "      <td>0.627</td>\n",
       "      <td>50</td>\n",
       "      <td>1</td>\n",
       "    </tr>\n",
       "    <tr>\n",
       "      <th>1</th>\n",
       "      <td>1</td>\n",
       "      <td>85</td>\n",
       "      <td>66</td>\n",
       "      <td>29</td>\n",
       "      <td>0</td>\n",
       "      <td>26.6</td>\n",
       "      <td>0.351</td>\n",
       "      <td>31</td>\n",
       "      <td>0</td>\n",
       "    </tr>\n",
       "    <tr>\n",
       "      <th>2</th>\n",
       "      <td>8</td>\n",
       "      <td>183</td>\n",
       "      <td>64</td>\n",
       "      <td>0</td>\n",
       "      <td>0</td>\n",
       "      <td>23.3</td>\n",
       "      <td>0.672</td>\n",
       "      <td>32</td>\n",
       "      <td>1</td>\n",
       "    </tr>\n",
       "    <tr>\n",
       "      <th>3</th>\n",
       "      <td>1</td>\n",
       "      <td>89</td>\n",
       "      <td>66</td>\n",
       "      <td>23</td>\n",
       "      <td>94</td>\n",
       "      <td>28.1</td>\n",
       "      <td>0.167</td>\n",
       "      <td>21</td>\n",
       "      <td>0</td>\n",
       "    </tr>\n",
       "    <tr>\n",
       "      <th>4</th>\n",
       "      <td>0</td>\n",
       "      <td>137</td>\n",
       "      <td>40</td>\n",
       "      <td>35</td>\n",
       "      <td>168</td>\n",
       "      <td>43.1</td>\n",
       "      <td>2.288</td>\n",
       "      <td>33</td>\n",
       "      <td>1</td>\n",
       "    </tr>\n",
       "    <tr>\n",
       "      <th>...</th>\n",
       "      <td>...</td>\n",
       "      <td>...</td>\n",
       "      <td>...</td>\n",
       "      <td>...</td>\n",
       "      <td>...</td>\n",
       "      <td>...</td>\n",
       "      <td>...</td>\n",
       "      <td>...</td>\n",
       "      <td>...</td>\n",
       "    </tr>\n",
       "    <tr>\n",
       "      <th>763</th>\n",
       "      <td>10</td>\n",
       "      <td>101</td>\n",
       "      <td>76</td>\n",
       "      <td>48</td>\n",
       "      <td>180</td>\n",
       "      <td>32.9</td>\n",
       "      <td>0.171</td>\n",
       "      <td>63</td>\n",
       "      <td>0</td>\n",
       "    </tr>\n",
       "    <tr>\n",
       "      <th>764</th>\n",
       "      <td>2</td>\n",
       "      <td>122</td>\n",
       "      <td>70</td>\n",
       "      <td>27</td>\n",
       "      <td>0</td>\n",
       "      <td>36.8</td>\n",
       "      <td>0.340</td>\n",
       "      <td>27</td>\n",
       "      <td>0</td>\n",
       "    </tr>\n",
       "    <tr>\n",
       "      <th>765</th>\n",
       "      <td>5</td>\n",
       "      <td>121</td>\n",
       "      <td>72</td>\n",
       "      <td>23</td>\n",
       "      <td>112</td>\n",
       "      <td>26.2</td>\n",
       "      <td>0.245</td>\n",
       "      <td>30</td>\n",
       "      <td>0</td>\n",
       "    </tr>\n",
       "    <tr>\n",
       "      <th>766</th>\n",
       "      <td>1</td>\n",
       "      <td>126</td>\n",
       "      <td>60</td>\n",
       "      <td>0</td>\n",
       "      <td>0</td>\n",
       "      <td>30.1</td>\n",
       "      <td>0.349</td>\n",
       "      <td>47</td>\n",
       "      <td>1</td>\n",
       "    </tr>\n",
       "    <tr>\n",
       "      <th>767</th>\n",
       "      <td>1</td>\n",
       "      <td>93</td>\n",
       "      <td>70</td>\n",
       "      <td>31</td>\n",
       "      <td>0</td>\n",
       "      <td>30.4</td>\n",
       "      <td>0.315</td>\n",
       "      <td>23</td>\n",
       "      <td>0</td>\n",
       "    </tr>\n",
       "  </tbody>\n",
       "</table>\n",
       "<p>768 rows × 9 columns</p>\n",
       "</div>"
      ],
      "text/plain": [
       "     Pregnancies  Glucose  BloodPressure  SkinThickness  Insulin   BMI  \\\n",
       "0              6      148             72             35        0  33.6   \n",
       "1              1       85             66             29        0  26.6   \n",
       "2              8      183             64              0        0  23.3   \n",
       "3              1       89             66             23       94  28.1   \n",
       "4              0      137             40             35      168  43.1   \n",
       "..           ...      ...            ...            ...      ...   ...   \n",
       "763           10      101             76             48      180  32.9   \n",
       "764            2      122             70             27        0  36.8   \n",
       "765            5      121             72             23      112  26.2   \n",
       "766            1      126             60              0        0  30.1   \n",
       "767            1       93             70             31        0  30.4   \n",
       "\n",
       "     DiabetesPedigreeFunction  Age  Outcome  \n",
       "0                       0.627   50        1  \n",
       "1                       0.351   31        0  \n",
       "2                       0.672   32        1  \n",
       "3                       0.167   21        0  \n",
       "4                       2.288   33        1  \n",
       "..                        ...  ...      ...  \n",
       "763                     0.171   63        0  \n",
       "764                     0.340   27        0  \n",
       "765                     0.245   30        0  \n",
       "766                     0.349   47        1  \n",
       "767                     0.315   23        0  \n",
       "\n",
       "[768 rows x 9 columns]"
      ]
     },
     "metadata": {},
     "output_type": "display_data"
    }
   ],
   "source": [
    "display(df)"
   ]
  },
  {
   "cell_type": "code",
   "execution_count": 54,
   "metadata": {},
   "outputs": [],
   "source": [
    "# Eliminación de las filas que contengan valores \"N. A.\"\n",
    "\n",
    "df=df.dropna()"
   ]
  },
  {
   "cell_type": "code",
   "execution_count": 55,
   "metadata": {},
   "outputs": [],
   "source": [
    "'''\n",
    "Hay que crear los conjuntos X e y.\n",
    "'''\n",
    "\n",
    "y = df.Outcome.values.astype(int)\n",
    "\n",
    "\n",
    "caract_cols = [col for col in df.columns if col != 'Outcome']\n",
    "\n",
    "X_all = df[caract_cols].values"
   ]
  },
  {
   "cell_type": "code",
   "execution_count": 56,
   "metadata": {},
   "outputs": [
    {
     "name": "stdout",
     "output_type": "stream",
     "text": [
      "(768, 8)\n"
     ]
    }
   ],
   "source": [
    "print(X_all.shape)"
   ]
  },
  {
   "cell_type": "code",
   "execution_count": 57,
   "metadata": {},
   "outputs": [],
   "source": [
    "'''\n",
    "List of datasets and their names included in the experimental study\n",
    "'''\n",
    "\n",
    "datasets = [(X_all,y)]\n",
    "dataset_names = [\"Data All\"]"
   ]
  },
  {
   "cell_type": "code",
   "execution_count": 58,
   "metadata": {},
   "outputs": [
    {
     "name": "stdout",
     "output_type": "stream",
     "text": [
      "(768,)\n"
     ]
    }
   ],
   "source": [
    "print(y.shape)"
   ]
  },
  {
   "cell_type": "code",
   "execution_count": 59,
   "metadata": {},
   "outputs": [
    {
     "name": "stdout",
     "output_type": "stream",
     "text": [
      "[[  6.    148.     72.    ...  33.6     0.627  50.   ]\n",
      " [  1.     85.     66.    ...  26.6     0.351  31.   ]\n",
      " [  8.    183.     64.    ...  23.3     0.672  32.   ]\n",
      " ...\n",
      " [  5.    121.     72.    ...  26.2     0.245  30.   ]\n",
      " [  1.    126.     60.    ...  30.1     0.349  47.   ]\n",
      " [  1.     93.     70.    ...  30.4     0.315  23.   ]]\n"
     ]
    }
   ],
   "source": [
    "print(X_all)"
   ]
  },
  {
   "cell_type": "code",
   "execution_count": 60,
   "metadata": {},
   "outputs": [
    {
     "name": "stdout",
     "output_type": "stream",
     "text": [
      "[1 0 1 0 1 0 1 0 1 1 0 1 0 1 1 1 1 1 0 1 0 0 1 1 1 1 1 0 0 0 0 1 0 0 0 0 0\n",
      " 1 1 1 0 0 0 1 0 1 0 0 1 0 0 0 0 1 0 0 1 0 0 0 0 1 0 0 1 0 1 0 0 0 1 0 1 0\n",
      " 0 0 0 0 1 0 0 0 0 0 1 0 0 0 1 0 0 0 0 1 0 0 0 0 0 1 1 0 0 0 0 0 0 0 0 1 1\n",
      " 1 0 0 1 1 1 0 0 0 1 0 0 0 1 1 0 0 1 1 1 1 1 0 0 0 0 0 0 0 0 0 0 1 0 0 0 0\n",
      " 0 0 0 0 1 0 1 1 0 0 0 1 0 0 0 0 1 1 0 0 0 0 1 1 0 0 0 1 0 1 0 1 0 0 0 0 0\n",
      " 1 1 1 1 1 0 0 1 1 0 1 0 1 1 1 0 0 0 0 0 0 1 1 0 1 0 0 0 1 1 1 1 0 1 1 1 1\n",
      " 0 0 0 0 0 1 0 0 1 1 0 0 0 1 1 1 1 0 0 0 1 1 0 1 0 0 0 0 0 0 0 0 1 1 0 0 0\n",
      " 1 0 1 0 0 1 0 1 0 0 1 1 0 0 0 0 0 1 0 0 0 1 0 0 1 1 0 0 1 0 0 0 1 1 1 0 0\n",
      " 1 0 1 0 1 1 0 1 0 0 1 0 1 1 0 0 1 0 1 0 0 1 0 1 0 1 1 1 0 0 1 0 1 0 0 0 1\n",
      " 0 0 0 0 1 1 1 0 0 0 0 0 0 0 0 0 1 0 0 0 0 0 1 1 1 0 1 1 0 0 1 0 0 1 0 0 1\n",
      " 1 0 0 0 0 1 0 0 1 0 0 0 0 0 0 0 1 1 1 0 0 1 0 0 1 0 0 1 0 1 1 0 1 0 1 0 1\n",
      " 0 1 1 0 0 0 0 1 1 0 1 0 1 0 0 0 0 1 1 0 1 0 1 0 0 0 0 0 1 0 0 0 0 1 0 0 1\n",
      " 1 1 0 0 1 0 0 1 0 0 0 1 0 0 1 0 0 0 0 0 0 0 0 0 1 0 0 0 0 0 0 0 1 0 0 0 1\n",
      " 0 0 0 1 1 0 0 0 0 0 0 0 1 0 0 0 0 1 0 0 0 1 0 0 0 1 0 0 0 1 0 0 0 0 1 1 0\n",
      " 0 0 0 0 0 1 0 0 0 0 0 0 0 0 0 0 0 1 0 0 0 1 1 1 1 0 0 1 1 0 0 0 0 0 0 0 0\n",
      " 0 0 0 0 0 1 1 0 0 0 0 0 0 0 1 0 0 0 0 0 0 0 1 0 1 1 0 0 0 1 0 1 0 1 0 1 0\n",
      " 1 0 0 1 0 0 1 0 0 0 0 1 1 0 1 0 0 0 0 1 1 0 1 0 0 0 1 1 0 0 0 0 0 0 0 0 0\n",
      " 0 1 0 0 0 0 1 0 0 1 0 0 0 1 0 0 0 1 1 1 0 0 0 0 0 0 1 0 0 0 1 0 1 1 1 1 0\n",
      " 1 1 0 0 0 0 0 0 0 1 1 0 1 0 0 1 0 1 0 0 0 0 0 1 0 1 0 1 0 1 1 0 0 0 0 1 1\n",
      " 0 0 0 1 0 1 1 0 0 1 0 0 1 1 0 0 1 0 0 1 0 0 0 0 0 0 0 1 1 1 0 0 0 0 0 0 1\n",
      " 1 0 0 1 0 0 1 0 1 1 1 0 0 1 1 1 0 1 0 1 0 1 0 0 0 0 1 0]\n"
     ]
    }
   ],
   "source": [
    "print(y)"
   ]
  },
  {
   "cell_type": "code",
   "execution_count": 61,
   "metadata": {},
   "outputs": [],
   "source": [
    "'''\n",
    "Definición del espacio de búsqueda de SVM\n",
    "'''\n",
    "C_range = np.logspace(-5, 5, 15)\n",
    "gamma_range = np.logspace(-5, 5, 15)\n",
    "param_grid_svm = dict(gamma= gamma_range, C= C_range)\n",
    "nested_cv = 5\n",
    "\n",
    "grid_svm = GridSearchCV(SVC(), param_grid=param_grid_svm, cv=nested_cv)"
   ]
  },
  {
   "cell_type": "code",
   "execution_count": 62,
   "metadata": {},
   "outputs": [
    {
     "data": {
      "text/plain": [
       "(array([1.00000000e-05, 5.17947468e-05, 2.68269580e-04, 1.38949549e-03,\n",
       "        7.19685673e-03, 3.72759372e-02, 1.93069773e-01, 1.00000000e+00,\n",
       "        5.17947468e+00, 2.68269580e+01, 1.38949549e+02, 7.19685673e+02,\n",
       "        3.72759372e+03, 1.93069773e+04, 1.00000000e+05]),\n",
       " array([1.00000000e-05, 5.17947468e-05, 2.68269580e-04, 1.38949549e-03,\n",
       "        7.19685673e-03, 3.72759372e-02, 1.93069773e-01, 1.00000000e+00,\n",
       "        5.17947468e+00, 2.68269580e+01, 1.38949549e+02, 7.19685673e+02,\n",
       "        3.72759372e+03, 1.93069773e+04, 1.00000000e+05]))"
      ]
     },
     "execution_count": 62,
     "metadata": {},
     "output_type": "execute_result"
    }
   ],
   "source": [
    "# Show the range of values to be explored\n",
    "C_range,gamma_range"
   ]
  },
  {
   "cell_type": "code",
   "execution_count": 63,
   "metadata": {},
   "outputs": [],
   "source": [
    "'''\n",
    "Definition of the MLP parameter search\n",
    "'''\n",
    "alpha_range = np.logspace(-5, -1, 5)\n",
    "hidden_layer_sizes_range=[(50,),(100,),(200,),(500,),(1000,)]\n",
    "\n",
    "param_grid_mlp = dict(alpha=alpha_range, hidden_layer_sizes=hidden_layer_sizes_range)\n",
    "\n",
    "\n",
    "grid_mlp = GridSearchCV(MLPClassifier(max_iter=1000,\n",
    "                                      early_stopping=True), param_grid=param_grid_mlp, cv=nested_cv)"
   ]
  },
  {
   "cell_type": "code",
   "execution_count": 64,
   "metadata": {},
   "outputs": [],
   "source": [
    "'''\n",
    "List of classifiers and their names included in the experimental study\n",
    "'''\n",
    "\n",
    "cls_names = [\"SVM\",\"MLP\"]\n",
    "\n",
    "classifiers = [\n",
    "    make_pipeline(StandardScaler(), grid_svm),\n",
    "    make_pipeline(StandardScaler(), grid_mlp)]"
   ]
  },
  {
   "cell_type": "code",
   "execution_count": 65,
   "metadata": {},
   "outputs": [],
   "source": [
    "# Method that runs the classifiers and returns the labels give for the test set\n",
    "\n",
    "from sklearn.model_selection import train_test_split\n",
    "\n",
    "def predictions(model,X_train,y_train,X_test,y_test):    \n",
    "    \n",
    "    model.fit(X_train,y_train)\n",
    "    y_pred = model.predict(X_test)\n",
    "    \n",
    "    return y_test, y_pred"
   ]
  },
  {
   "cell_type": "code",
   "execution_count": 66,
   "metadata": {},
   "outputs": [],
   "source": [
    "def predictions_model(X_train,y_train,X_test, y_test,model):\n",
    "        '''\n",
    "        Predictions with a model and a dataset (X and y), to later obtain the measurements \n",
    "        you want\n",
    "        \n",
    "        Parameters\n",
    "        ----------\n",
    "        X: numpy.array\n",
    "            Dataset (features)\n",
    "        Y: numpy.array\n",
    "            Dataset (Target)\n",
    "        model: scikit_model\n",
    "            model to be trained\n",
    "        num_folds: int\n",
    "            number of folds in the cross validation\n",
    "        \n",
    "        Return\n",
    "        -------\n",
    "        array \n",
    "            array of prediccions obtained using cross_validation\n",
    "        '''\n",
    "        print('\\t'+str(model)[:20], end=' - ')\n",
    "        y_test,preds = predictions(model,X_train,y_train,X_test,y_test)\n",
    "        print('OK')\n",
    "        \n",
    "        return y_test,preds"
   ]
  },
  {
   "cell_type": "code",
   "execution_count": 67,
   "metadata": {},
   "outputs": [],
   "source": [
    "from sklearn.model_selection import train_test_split\n",
    "\n",
    "def run_all_save(filename):\n",
    "    '''\n",
    "    Perform cross validation with all models and datasets.\n",
    "        \n",
    "        \n",
    "    Parameters\n",
    "    ----------\n",
    "    num_folds: int\n",
    "        number of folds in the cross validation\n",
    "    filename: string\n",
    "        name of the file that stores the predictions obtained using crossvalidation\n",
    "        \n",
    "        \n",
    "    El par X_train, y_train son los atributos y clases del conjunto de entrenamiento (70% de los ejemplos)\n",
    "    El par X_test, y_test son los atributos y clases del conjunto de test (30% de los ejemplos)\n",
    "\n",
    "    stratify (estratificar) significa que se quiere que haya la misma proporcion de cada una de las clases\n",
    "    tanto en entrenamiento como en test, es decir, no es una partición completamente aleatoria.\n",
    "    \n",
    "    ''' \n",
    "    \n",
    "    all_preds = {}\n",
    "\n",
    "    for dataset,dataset_name in zip(datasets, dataset_names):\n",
    "        print(dataset_name)\n",
    "        X,y = dataset\n",
    "        \n",
    "        X_train, X_test, y_train, y_test = train_test_split(X, y, test_size=0.3, random_state=42, stratify=y)\n",
    "\n",
    "        for model,cls_name in zip(classifiers,cls_names):\n",
    "            print(cls_name)\n",
    "            y_test,preds = predictions_model(X_train,y_train,X_test,y_test,model)\n",
    "            all_preds[(dataset_name,cls_name)]=(y_test,preds)\n",
    "\n",
    "    all_preds[\"cls_names\"]=cls_names\n",
    "    all_preds[\"dataset_names\"]=dataset_names\n",
    "\n",
    "    with open(filename, 'wb') as fp:\n",
    "         pickle.dump(all_preds, fp)   "
   ]
  },
  {
   "cell_type": "code",
   "execution_count": 68,
   "metadata": {},
   "outputs": [],
   "source": [
    "'''\n",
    "All the predictions are going to be saved in a Python dictionary for \n",
    "further analysis.\n",
    "'''\n",
    "\n",
    "filename = 'predicciones.obj'"
   ]
  },
  {
   "cell_type": "code",
   "execution_count": 69,
   "metadata": {},
   "outputs": [
    {
     "name": "stdout",
     "output_type": "stream",
     "text": [
      "Data All\n",
      "SVM\n",
      "\tPipeline(steps=[('st - "
     ]
    },
    {
     "name": "stdout",
     "output_type": "stream",
     "text": [
      "OK\n",
      "MLP\n",
      "\tPipeline(steps=[('st - OK\n"
     ]
    }
   ],
   "source": [
    "# Run the experiments\n",
    "\n",
    "run_all_save(filename)"
   ]
  },
  {
   "cell_type": "markdown",
   "metadata": {},
   "source": [
    "# Exploring the results\n",
    "\n",
    "If the experiments have been done previously, you only need to execute from this part.\n",
    "\n",
    "The results are going to be loaded from the hard disk"
   ]
  },
  {
   "cell_type": "code",
   "execution_count": 70,
   "metadata": {},
   "outputs": [],
   "source": [
    "import pickle\n",
    "import pandas as pd\n",
    "\n",
    "from sklearn.metrics import classification_report\n",
    "from sklearn.metrics import accuracy_score\n",
    "from sklearn.metrics import confusion_matrix\n",
    "import numpy as np"
   ]
  },
  {
   "cell_type": "code",
   "execution_count": 71,
   "metadata": {},
   "outputs": [],
   "source": [
    "'''\n",
    "    Create a confusion matrix in a DataFrame\n",
    "'''\n",
    "\n",
    "def evalua(y_test, y_pred):\n",
    "\n",
    "    print(classification_report(y_test, y_pred))\n",
    "    return accuracy_score(y_test, y_pred)\n",
    "    \n",
    "    #TODO como se evalua  la tasa de acierto teniendo en cuenta las etiquetas reales y las predichas\n",
    "\n",
    "    \n"
   ]
  },
  {
   "cell_type": "code",
   "execution_count": 91,
   "metadata": {},
   "outputs": [],
   "source": [
    "\n",
    "# Define the evalua function with confusion matrix\n",
    "def evalua2(y_test, y_pred):\n",
    "    \"\"\"\n",
    "    Evaluate the model using confusion matrix and accuracy score.\n",
    "    \"\"\"\n",
    "    # Display classification report\n",
    "    print(\"Classification Report:\")\n",
    "    print(classification_report(y_test, y_pred))\n",
    "    \n",
    "    # Calculate and display accuracy score\n",
    "    accuracy = accuracy_score(y_test, y_pred)\n",
    "    print(f\"Accuracy Score: {accuracy:.2f}\")\n",
    "    \n",
    "    # Generate confusion matrix and display as heatmap\n",
    "    conf_matrix = confusion_matrix(y_test, y_pred)\n",
    "    plt.figure(figsize=(8, 6))\n",
    "    sns.heatmap(conf_matrix, annot=True, fmt=\"d\", cmap=\"Blues\", xticklabels=[\"No Diabetes\", \"Diabetes\"], \n",
    "                yticklabels=[\"No Diabetes\", \"Diabetes\"])\n",
    "    plt.xlabel(\"Predicted Labels\")\n",
    "    plt.ylabel(\"True Labels\")\n",
    "    plt.title(\"Confusion Matrix\")\n",
    "    plt.show()\n",
    "    \n",
    "    return accuracy\n",
    "\n",
    "\n"
   ]
  },
  {
   "cell_type": "code",
   "execution_count": 85,
   "metadata": {},
   "outputs": [
    {
     "name": "stdout",
     "output_type": "stream",
     "text": [
      "Classification Report:\n",
      "              precision    recall  f1-score   support\n",
      "\n",
      "           0       0.79      0.78      0.78        99\n",
      "           1       0.61      0.62      0.61        55\n",
      "\n",
      "    accuracy                           0.72       154\n",
      "   macro avg       0.70      0.70      0.70       154\n",
      "weighted avg       0.72      0.72      0.72       154\n",
      "\n",
      "Accuracy Score: 0.72\n"
     ]
    },
    {
     "data": {
      "image/png": "[encoded data removed]",
      "text/plain": [
       "<Figure size 800x600 with 2 Axes>"
      ]
     },
     "metadata": {},
     "output_type": "display_data"
    },
    {
     "data": {
      "text/plain": [
       "0.7207792207792207"
      ]
     },
     "execution_count": 85,
     "metadata": {},
     "output_type": "execute_result"
    }
   ],
   "source": [
    "# Example usage of evalua (using a Random Forest model as previously)\n",
    "X_train, X_test, y_train, y_test = train_test_split(X_all, y, test_size=0.2, random_state=42)\n",
    "model = RandomForestClassifier(random_state=42)\n",
    "model.fit(X_train, y_train)\n",
    "y_pred = model.predict(X_test)\n",
    "\n",
    "# Call the evalua function with test and predicted values\n",
    "evalua2(y_test, y_pred)"
   ]
  },
  {
   "cell_type": "code",
   "execution_count": 86,
   "metadata": {},
   "outputs": [],
   "source": [
    "def conf_mat_df(cm,labels):\n",
    "    '''\n",
    "    Create a confusion matrix in a DataFrame\n",
    "        \n",
    "        \n",
    "    Parameters\n",
    "    ----------\n",
    "    cm: ndarray 2D\n",
    "        confusion matrix\n",
    "    labels: list\n",
    "        List of class names\n",
    "        \n",
    "    Return DataFrame\n",
    "    -------\n",
    "    \n",
    "    ''' \n",
    "\n",
    "    return (pd.DataFrame(cm,index=labels, columns=labels)\n",
    "          .rename_axis(\"actual\")\n",
    "          .rename_axis(\"predicted\", axis=1))"
   ]
  },
  {
   "cell_type": "code",
   "execution_count": 93,
   "metadata": {},
   "outputs": [
    {
     "name": "stdout",
     "output_type": "stream",
     "text": [
      "Classification Report:\n",
      "              precision    recall  f1-score   support\n",
      "\n",
      "           0       0.78      0.86      0.82       150\n",
      "           1       0.68      0.54      0.60        81\n",
      "\n",
      "    accuracy                           0.75       231\n",
      "   macro avg       0.73      0.70      0.71       231\n",
      "weighted avg       0.74      0.75      0.74       231\n",
      "\n",
      "Accuracy Score: 0.75\n"
     ]
    },
    {
     "data": {
      "image/png": "[encoded data removed]",
      "text/plain": [
       "<Figure size 800x600 with 2 Axes>"
      ]
     },
     "metadata": {},
     "output_type": "display_data"
    },
    {
     "name": "stdout",
     "output_type": "stream",
     "text": [
      "Classification Report:\n",
      "              precision    recall  f1-score   support\n",
      "\n",
      "           0       0.75      0.89      0.81       150\n",
      "           1       0.68      0.44      0.54        81\n",
      "\n",
      "    accuracy                           0.73       231\n",
      "   macro avg       0.71      0.67      0.67       231\n",
      "weighted avg       0.72      0.73      0.72       231\n",
      "\n",
      "Accuracy Score: 0.73\n"
     ]
    },
    {
     "data": {
      "image/png": "[encoded data removed]",
      "text/plain": [
       "<Figure size 800x600 with 2 Axes>"
      ]
     },
     "metadata": {},
     "output_type": "display_data"
    }
   ],
   "source": [
    "def get_results(filename):\n",
    "    '''\n",
    "    Load the file with the predictions.\n",
    "    Compute accuracy, confusion matrix and other measures.\n",
    "        \n",
    "        \n",
    "    Parameters\n",
    "    ----------\n",
    "    filename: string\n",
    "        name of the file that stores the predictions obtained using crossvalidation\n",
    "        \n",
    "    Return\n",
    "    dictionary\n",
    "        A dictionary of key:values that asociates the name\n",
    "        of a measure or chart with the value\n",
    "    -------\n",
    "    \n",
    "    ''' \n",
    "\n",
    "    with open(filename, 'rb') as fp:\n",
    "        all_preds = pickle.load(fp)\n",
    "\n",
    "    cls_names = all_preds.pop(\"cls_names\")\n",
    "    dataset_names = all_preds.pop(\"dataset_names\")\n",
    "\n",
    "    data_cls_pairs = list(all_preds.keys())\n",
    "    data_cls_pairs.sort()\n",
    "\n",
    "    results = {}\n",
    "\n",
    "\n",
    "    acc_df = pd.DataFrame(index=dataset_names, columns=cls_names)\n",
    "\n",
    "    ## A DataFrame is created to store the accuracy in each clase\n",
    "    for dataset in dataset_names:\n",
    "        results[(dataset,\"acc\")] = pd.DataFrame(columns=cls_names)\n",
    "\n",
    "\n",
    "    for dataset_name,cls_name in data_cls_pairs:\n",
    "\n",
    "        #print(dataset_name,cls_name)\n",
    "        y_true, y_pred = all_preds[(dataset_name,cls_name)]\n",
    "        labels = list(np.unique(y_true))\n",
    "\n",
    "        acc = evalua(y_true, y_pred)\n",
    "        # Fill accuracy dataframe\n",
    "        acc_df.at[dataset_name,cls_name]=acc\n",
    "\n",
    "        # Get conf_mat\n",
    "        cm = confusion_matrix(y_true, y_pred)\n",
    "        cm_df = conf_mat_df(cm,labels)\n",
    "        results[(dataset_name,cls_name,\"cm\")] = cm_df\n",
    "        \n",
    "        # Get classification report\n",
    "        report = classification_report(y_true, y_pred, output_dict=True)\n",
    "        report_df = pd.DataFrame(report).transpose()\n",
    "        results[(dataset_name,cls_name,\"report\")] = report_df\n",
    "\n",
    "        # Acc per class\n",
    "        cm_dig = cm.astype('float') / cm.sum(axis=1)[:, np.newaxis]\n",
    "        cm_dig = cm_dig.diagonal()\n",
    "\n",
    "        dfi = results[(dataset_name,\"acc\")]\n",
    "        dfi[cls_name]=pd.Series(cm_dig,labels)    \n",
    "        results[(dataset_name,\"acc\")]=dfi.copy()\n",
    "\n",
    "\n",
    "    results[\"Acc\"] = acc_df\n",
    "    return results\n",
    "        \n",
    "        \n",
    "results = get_results(filename)"
   ]
  },
  {
   "cell_type": "code",
   "execution_count": 76,
   "metadata": {},
   "outputs": [],
   "source": [
    "df_total = results[\"Acc\"].astype(float)\n",
    "df_conf = results[(\"Data All\",\"SVM\",\"cm\")].astype(float)\n",
    "df_report = results[(\"Data All\",\"SVM\",\"report\")].astype(float)"
   ]
  },
  {
   "cell_type": "code",
   "execution_count": 77,
   "metadata": {},
   "outputs": [
    {
     "data": {
      "text/html": [
       "<div>\n",
       "<style scoped>\n",
       "    .dataframe tbody tr th:only-of-type {\n",
       "        vertical-align: middle;\n",
       "    }\n",
       "\n",
       "    .dataframe tbody tr th {\n",
       "        vertical-align: top;\n",
       "    }\n",
       "\n",
       "    .dataframe thead th {\n",
       "        text-align: right;\n",
       "    }\n",
       "</style>\n",
       "<table border=\"1\" class=\"dataframe\">\n",
       "  <thead>\n",
       "    <tr style=\"text-align: right;\">\n",
       "      <th></th>\n",
       "      <th>SVM</th>\n",
       "      <th>MLP</th>\n",
       "    </tr>\n",
       "  </thead>\n",
       "  <tbody>\n",
       "    <tr>\n",
       "      <th>Data All</th>\n",
       "      <td>0.731602</td>\n",
       "      <td>0.748918</td>\n",
       "    </tr>\n",
       "  </tbody>\n",
       "</table>\n",
       "</div>"
      ],
      "text/plain": [
       "               SVM       MLP\n",
       "Data All  0.731602  0.748918"
      ]
     },
     "execution_count": 77,
     "metadata": {},
     "output_type": "execute_result"
    }
   ],
   "source": [
    "df_total"
   ]
  },
  {
   "cell_type": "code",
   "execution_count": 78,
   "metadata": {},
   "outputs": [
    {
     "data": {
      "text/html": [
       "<div>\n",
       "<style scoped>\n",
       "    .dataframe tbody tr th:only-of-type {\n",
       "        vertical-align: middle;\n",
       "    }\n",
       "\n",
       "    .dataframe tbody tr th {\n",
       "        vertical-align: top;\n",
       "    }\n",
       "\n",
       "    .dataframe thead th {\n",
       "        text-align: right;\n",
       "    }\n",
       "</style>\n",
       "<table border=\"1\" class=\"dataframe\">\n",
       "  <thead>\n",
       "    <tr style=\"text-align: right;\">\n",
       "      <th>predicted</th>\n",
       "      <th>0</th>\n",
       "      <th>1</th>\n",
       "    </tr>\n",
       "    <tr>\n",
       "      <th>actual</th>\n",
       "      <th></th>\n",
       "      <th></th>\n",
       "    </tr>\n",
       "  </thead>\n",
       "  <tbody>\n",
       "    <tr>\n",
       "      <th>0</th>\n",
       "      <td>133.0</td>\n",
       "      <td>17.0</td>\n",
       "    </tr>\n",
       "    <tr>\n",
       "      <th>1</th>\n",
       "      <td>45.0</td>\n",
       "      <td>36.0</td>\n",
       "    </tr>\n",
       "  </tbody>\n",
       "</table>\n",
       "</div>"
      ],
      "text/plain": [
       "predicted      0     1\n",
       "actual                \n",
       "0          133.0  17.0\n",
       "1           45.0  36.0"
      ]
     },
     "execution_count": 78,
     "metadata": {},
     "output_type": "execute_result"
    }
   ],
   "source": [
    "df_conf"
   ]
  },
  {
   "cell_type": "code",
   "execution_count": 79,
   "metadata": {},
   "outputs": [
    {
     "data": {
      "text/html": [
       "<div>\n",
       "<style scoped>\n",
       "    .dataframe tbody tr th:only-of-type {\n",
       "        vertical-align: middle;\n",
       "    }\n",
       "\n",
       "    .dataframe tbody tr th {\n",
       "        vertical-align: top;\n",
       "    }\n",
       "\n",
       "    .dataframe thead th {\n",
       "        text-align: right;\n",
       "    }\n",
       "</style>\n",
       "<table border=\"1\" class=\"dataframe\">\n",
       "  <thead>\n",
       "    <tr style=\"text-align: right;\">\n",
       "      <th></th>\n",
       "      <th>precision</th>\n",
       "      <th>recall</th>\n",
       "      <th>f1-score</th>\n",
       "    </tr>\n",
       "  </thead>\n",
       "  <tbody>\n",
       "    <tr>\n",
       "      <th>0</th>\n",
       "      <td>0.7472</td>\n",
       "      <td>0.8867</td>\n",
       "      <td>0.8110</td>\n",
       "    </tr>\n",
       "    <tr>\n",
       "      <th>1</th>\n",
       "      <td>0.6792</td>\n",
       "      <td>0.4444</td>\n",
       "      <td>0.5373</td>\n",
       "    </tr>\n",
       "    <tr>\n",
       "      <th>accuracy</th>\n",
       "      <td>0.7316</td>\n",
       "      <td>0.7316</td>\n",
       "      <td>0.7316</td>\n",
       "    </tr>\n",
       "    <tr>\n",
       "      <th>macro avg</th>\n",
       "      <td>0.7132</td>\n",
       "      <td>0.6656</td>\n",
       "      <td>0.6741</td>\n",
       "    </tr>\n",
       "    <tr>\n",
       "      <th>weighted avg</th>\n",
       "      <td>0.7234</td>\n",
       "      <td>0.7316</td>\n",
       "      <td>0.7150</td>\n",
       "    </tr>\n",
       "  </tbody>\n",
       "</table>\n",
       "</div>"
      ],
      "text/plain": [
       "              precision  recall  f1-score\n",
       "0                0.7472  0.8867    0.8110\n",
       "1                0.6792  0.4444    0.5373\n",
       "accuracy         0.7316  0.7316    0.7316\n",
       "macro avg        0.7132  0.6656    0.6741\n",
       "weighted avg     0.7234  0.7316    0.7150"
      ]
     },
     "execution_count": 79,
     "metadata": {},
     "output_type": "execute_result"
    }
   ],
   "source": [
    "df_report.round(4)[[\"precision\",\"recall\",\"f1-score\"]]"
   ]
  },
  {
   "cell_type": "code",
   "execution_count": 80,
   "metadata": {},
   "outputs": [
    {
     "data": {
      "image/png": "[encoded data removed]",
      "text/plain": [
       "<Figure size 1000x600 with 1 Axes>"
      ]
     },
     "metadata": {},
     "output_type": "display_data"
    }
   ],
   "source": [
    "y = df.Outcome.values.astype(int)\n",
    "caract_cols = [\"Pregnancies\", \"Glucose\", \"BloodPressure\", \"SkinThickness\", \"Insulin\", \"BMI\", \"DiabetesPedigreeFunction\", \"Age\"]\n",
    "X_all = df[caract_cols].values\n",
    "\n",
    "# Define different test sizes to evaluate\n",
    "test_sizes = [0.1, 0.15, 0.2, 0.25, 0.3, 0.35, 0.4, 0.45, 0.5]\n",
    "svm_accuracies = []\n",
    "\n",
    "# Loop over each test size and record the SVM accuracy\n",
    "for test_size in test_sizes:\n",
    "    # Split data with the specified test size\n",
    "    X_train, X_test, y_train, y_test = train_test_split(X_all, y, test_size=test_size, random_state=42, stratify=y)\n",
    "    # Train the SVM model\n",
    "    svm_model = make_pipeline(StandardScaler(), SVC())\n",
    "    svm_model.fit(X_train, y_train)\n",
    "    # Predict and calculate accuracy\n",
    "    y_pred = svm_model.predict(X_test)\n",
    "    accuracy = accuracy_score(y_test, y_pred)\n",
    "    svm_accuracies.append(accuracy)\n",
    "    # Plot the impact of test size on SVM accuracy\n",
    "plt.figure(figsize=(10, 6))\n",
    "plt.plot(test_sizes, svm_accuracies, marker='o')\n",
    "plt.xlim(0.05, 0.55)\n",
    "plt.ylim(0.60, 0.90)\n",
    "plt.title(\"Impact of Test Size on SVM Accuracy\")\n",
    "plt.xlabel(\"Test Size\")\n",
    "plt.ylabel(\"Accuracy\")\n",
    "plt.grid(True)\n",
    "plt.show()\n",
    "\n"
   ]
  },
  {
   "cell_type": "code",
   "execution_count": 81,
   "metadata": {},
   "outputs": [
    {
     "data": {
      "image/png": "[encoded data removed]",
      "text/plain": [
       "<Figure size 1000x600 with 1 Axes>"
      ]
     },
     "metadata": {},
     "output_type": "display_data"
    }
   ],
   "source": [
    "\n",
    "\n",
    "# Define different test sizes to evaluate\n",
    "test_sizes = [0.1, 0.15, 0.2, 0.25, 0.3, 0.35, 0.4, 0.45, 0.5]\n",
    "num_iterations = 30  # Number of repetitions for each test size\n",
    "svm_accuracies_all = {test_size: [] for test_size in test_sizes}  # Dictionary to store all accuracies per test size\n",
    "\n",
    "# Run experiments for each test size and calculate variance\n",
    "for test_size in test_sizes:\n",
    "    for _ in range(num_iterations):\n",
    "        # Split data with the specified test size\n",
    "        X_train, X_test, y_train, y_test = train_test_split(X_all, y, test_size=test_size, random_state=None, stratify=y)\n",
    "        # Train the SVM model\n",
    "        svm_model = make_pipeline(StandardScaler(), SVC())\n",
    "        svm_model.fit(X_train, y_train)\n",
    "        # Predict and calculate accuracy\n",
    "        y_pred = svm_model.predict(X_test)\n",
    "        accuracy = accuracy_score(y_test, y_pred)\n",
    "        svm_accuracies_all[test_size].append(accuracy)\n",
    "\n",
    "# Calculate mean and standard deviation for each test size\n",
    "mean_accuracies = [np.mean(svm_accuracies_all[test_size]) for test_size in test_sizes]\n",
    "std_accuracies = [np.std(svm_accuracies_all[test_size]) for test_size in test_sizes]\n",
    "\n",
    "# Plot mean accuracy with error bars representing standard deviation\n",
    "\n",
    "plt.figure(figsize=(10, 6))\n",
    "plt.errorbar(test_sizes, mean_accuracies, yerr=std_accuracies, fmt='-o', capsize=5)\n",
    "plt.title(\"Impact of Test Size on SVM Accuracy with Variance\")\n",
    "plt.xlim(0.05, 0.55)\n",
    "plt.ylim(0.60, 0.90)\n",
    "plt.xlabel(\"Test Size\")\n",
    "plt.ylabel(\"Mean Accuracy\")\n",
    "plt.grid(True)\n",
    "plt.show()"
   ]
  },
  {
   "cell_type": "code",
   "execution_count": 82,
   "metadata": {},
   "outputs": [
    {
     "data": {
      "image/png": "[encoded data removed]",
      "text/plain": [
       "<Figure size 1200x800 with 1 Axes>"
      ]
     },
     "metadata": {},
     "output_type": "display_data"
    }
   ],
   "source": [
    "# Define dictionary to store accuracies for MLP model\n",
    "mlp_accuracies_all = {test_size: [] for test_size in test_sizes}\n",
    "\n",
    "# Run experiments for MLP for each test size and calculate variance\n",
    "for test_size in test_sizes:\n",
    "    for _ in range(num_iterations):\n",
    "        # Split data with the specified test size\n",
    "        X_train, X_test, y_train, y_test = train_test_split(X_all, y, test_size=test_size, random_state=None, stratify=y)\n",
    "        # Train the MLP model\n",
    "        mlp_model = make_pipeline(StandardScaler(), MLPClassifier(max_iter=1000, early_stopping=True))\n",
    "        mlp_model.fit(X_train, y_train)\n",
    "        # Predict and calculate accuracy\n",
    "        y_pred = mlp_model.predict(X_test)\n",
    "        accuracy = accuracy_score(y_test, y_pred)\n",
    "        mlp_accuracies_all[test_size].append(accuracy)\n",
    "\n",
    "# Calculate mean and standard deviation for each test size for MLP\n",
    "mlp_mean_accuracies = [np.mean(mlp_accuracies_all[test_size]) for test_size in test_sizes]\n",
    "mlp_std_accuracies = [np.std(mlp_accuracies_all[test_size]) for test_size in test_sizes]\n",
    "\n",
    "# Plotting both SVM and MLP accuracies with variance\n",
    "plt.figure(figsize=(12, 8))\n",
    "plt.errorbar(test_sizes, mean_accuracies, yerr=std_accuracies, fmt='-o', capsize=5, label=\"SVM\")\n",
    "plt.errorbar(test_sizes, mlp_mean_accuracies, yerr=mlp_std_accuracies, fmt='-s', capsize=5, label=\"MLP\")\n",
    "plt.title(\"Impact of Test Size on SVM and MLP Accuracy with Variance\")\n",
    "plt.xlim(0.05, 0.55)\n",
    "plt.ylim(0.60, 0.90)\n",
    "plt.xlabel(\"Test Size\")\n",
    "plt.ylabel(\"Mean Accuracy\")\n",
    "plt.legend()\n",
    "plt.grid(True)\n",
    "plt.show()"
   ]
  },
  {
   "cell_type": "markdown",
   "metadata": {},
   "source": [
    "# Resultados y análisis\n",
    "\n",
    "### Problemas de identificación entre clases\n",
    "En este análisis no se ha incluido una evaluación específica de las dificultades de identificación por clase. Para obtener este detalle, sería necesario observar matrices de confusión o métricas como precisión, sensibilidad o especificidad para cada clase. Esto permitiría identificar si alguna de las clases es particularmente problemática para los modelos.\n",
    "\n",
    "### Tasa de acierto: ¿son resultados elevados?\n",
    "- **SVM**: Este modelo ha demostrado una tasa de acierto promedio cercana al 77%, lo cual es elevado para la mayoría de las aplicaciones, especialmente en problemas complejos o con datos ruidosos.\n",
    "- **MLP**: Este modelo ha demostrado consistentemente tener un rendimiento inferior al obtenido por el SVm, en torno al 75%\n",
    "En general, ambos modelos superan significativamente el azar (50% de acierto), pero el SVM ofrece resultados más consistentes y elevados.\n",
    "Además destacar el hecho de que el SVM tiene una varianza algo menor comparado con la del MLP.\n",
    "\n",
    "### Efecto del tamaño del conjunto de entrenamiento en la tasa de acierto\n",
    "- **SVM**: Este modelo no se ve significativamente afectado por el tamaño del conjunto de entrenamiento. Incluso con menos datos disponibles para entrenar, mantiene tasas de acierto altas y consistentes. Esto sugiere una buena capacidad de generalización.\n",
    "- **MLP**: Este modelo es más sensible a la reducción del conjunto de entrenamiento. Se observa una disminución notable en la tasa de acierto cuando aumenta el tamaño del conjunto de prueba, lo cual es común en modelos más complejos como las redes neuronales.\n",
    "\n",
    "### Conclusiones\n",
    "- El SVM es un modelo más robusto frente a cambios en la proporción de datos de entrenamiento y ofrece tasas de acierto más altas y consistentes.\n",
    "- El MLP podría beneficiarse de un conjunto de entrenamiento más amplio.\n",
    "\n"
   ]
  }
 ],
 "metadata": {
  "kernelspec": {
   "display_name": "base",
   "language": "python",
   "name": "python3"
  },
  "language_info": {
   "codemirror_mode": {
    "name": "ipython",
    "version": 3
   },
   "file_extension": ".py",
   "mimetype": "text/x-python",
   "name": "python",
   "nbconvert_exporter": "python",
   "pygments_lexer": "ipython3",
   "version": "3.11.4"
  }
 },
 "nbformat": 4,
 "nbformat_minor": 2
}
